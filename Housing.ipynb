{
  "cells": [
    {
      "cell_type": "markdown",
      "metadata": {
        "id": "rEzxO-4mX-Di"
      },
      "source": [
        "# Import Necessary Libraries"
      ]
    },
    {
      "cell_type": "code",
      "execution_count": 1,
      "metadata": {
        "id": "A353KG0UX-Ds"
      },
      "outputs": [],
      "source": [
        "import pandas as pd\n",
        "import matplotlib.pyplot as plt\n",
        "import seaborn as sns\n",
        "import numpy as np\n",
        "import warnings\n",
        "warnings.filterwarnings('ignore')\n",
        "\n",
        "from sklearn.preprocessing import LabelEncoder\n",
        "\n",
        "#To display Matplotlib plots directly in the output cells of the notebook without the need to call plt.show()\n",
        "%matplotlib inline\n",
        "# pd.options.display.float_format = '{:.5f}'.format"
      ]
    },
    {
      "cell_type": "code",
      "source": [
        "from google.colab import drive\n",
        "drive.mount('/content/drive')"
      ],
      "metadata": {
        "colab": {
          "base_uri": "https://localhost:8080/"
        },
        "id": "Z4z-jZUqYWHK",
        "outputId": "e8dd6107-d574-4097-a806-60fe88f80d7a"
      },
      "execution_count": 2,
      "outputs": [
        {
          "output_type": "stream",
          "name": "stdout",
          "text": [
            "Mounted at /content/drive\n"
          ]
        }
      ]
    },
    {
      "cell_type": "code",
      "execution_count": 23,
      "metadata": {
        "id": "lFlvaL8MX-D1"
      },
      "outputs": [],
      "source": [
        "train = pd.read_csv('/content/drive/MyDrive/Colabs Notebook/DSN-AI-Bootcamp-2023-Qualification-Hackathon/Housing_dataset_train.csv')\n",
        "\n",
        "test = pd.read_csv('/content/drive/MyDrive/Colabs Notebook/DSN-AI-Bootcamp-2023-Qualification-Hackathon/Housing_dataset_test.csv')\n",
        "\n",
        "sub = pd.read_csv('/content/drive/MyDrive/Colabs Notebook/DSN-AI-Bootcamp-2023-Qualification-Hackathon/Sample_submission.csv')"
      ]
    },
    {
      "cell_type": "code",
      "execution_count": null,
      "metadata": {
        "id": "mdcOkgkvX-D3",
        "outputId": "95be36fc-9aac-4a71-b744-ae145bafdaf2"
      },
      "outputs": [
        {
          "data": {
            "text/html": [
              "<div>\n",
              "<style scoped>\n",
              "    .dataframe tbody tr th:only-of-type {\n",
              "        vertical-align: middle;\n",
              "    }\n",
              "\n",
              "    .dataframe tbody tr th {\n",
              "        vertical-align: top;\n",
              "    }\n",
              "\n",
              "    .dataframe thead th {\n",
              "        text-align: right;\n",
              "    }\n",
              "</style>\n",
              "<table border=\"1\" class=\"dataframe\">\n",
              "  <thead>\n",
              "    <tr style=\"text-align: right;\">\n",
              "      <th></th>\n",
              "      <th>ID</th>\n",
              "      <th>loc</th>\n",
              "      <th>title</th>\n",
              "      <th>bedroom</th>\n",
              "      <th>bathroom</th>\n",
              "      <th>parking_space</th>\n",
              "      <th>price</th>\n",
              "    </tr>\n",
              "  </thead>\n",
              "  <tbody>\n",
              "    <tr>\n",
              "      <th>0</th>\n",
              "      <td>3583</td>\n",
              "      <td>Katsina</td>\n",
              "      <td>Semi-detached duplex</td>\n",
              "      <td>2.0</td>\n",
              "      <td>2.0</td>\n",
              "      <td>1.0</td>\n",
              "      <td>1149999.565</td>\n",
              "    </tr>\n",
              "    <tr>\n",
              "      <th>1</th>\n",
              "      <td>2748</td>\n",
              "      <td>Ondo</td>\n",
              "      <td>Apartment</td>\n",
              "      <td>NaN</td>\n",
              "      <td>2.0</td>\n",
              "      <td>4.0</td>\n",
              "      <td>1672416.689</td>\n",
              "    </tr>\n",
              "    <tr>\n",
              "      <th>2</th>\n",
              "      <td>9261</td>\n",
              "      <td>Ekiti</td>\n",
              "      <td>NaN</td>\n",
              "      <td>7.0</td>\n",
              "      <td>5.0</td>\n",
              "      <td>NaN</td>\n",
              "      <td>3364799.814</td>\n",
              "    </tr>\n",
              "    <tr>\n",
              "      <th>3</th>\n",
              "      <td>2224</td>\n",
              "      <td>Anambra</td>\n",
              "      <td>Detached duplex</td>\n",
              "      <td>5.0</td>\n",
              "      <td>2.0</td>\n",
              "      <td>4.0</td>\n",
              "      <td>2410306.756</td>\n",
              "    </tr>\n",
              "    <tr>\n",
              "      <th>4</th>\n",
              "      <td>10300</td>\n",
              "      <td>Kogi</td>\n",
              "      <td>Terrace duplex</td>\n",
              "      <td>NaN</td>\n",
              "      <td>5.0</td>\n",
              "      <td>6.0</td>\n",
              "      <td>2600700.898</td>\n",
              "    </tr>\n",
              "  </tbody>\n",
              "</table>\n",
              "</div>"
            ],
            "text/plain": [
              "      ID      loc                 title  bedroom  bathroom  parking_space  \\\n",
              "0   3583  Katsina  Semi-detached duplex      2.0       2.0            1.0   \n",
              "1   2748     Ondo             Apartment      NaN       2.0            4.0   \n",
              "2   9261    Ekiti                   NaN      7.0       5.0            NaN   \n",
              "3   2224  Anambra       Detached duplex      5.0       2.0            4.0   \n",
              "4  10300     Kogi        Terrace duplex      NaN       5.0            6.0   \n",
              "\n",
              "         price  \n",
              "0  1149999.565  \n",
              "1  1672416.689  \n",
              "2  3364799.814  \n",
              "3  2410306.756  \n",
              "4  2600700.898  "
            ]
          },
          "execution_count": 5,
          "metadata": {},
          "output_type": "execute_result"
        }
      ],
      "source": [
        "train.head()"
      ]
    },
    {
      "cell_type": "code",
      "execution_count": null,
      "metadata": {
        "id": "j2YDAe2lX-D6",
        "outputId": "a597cdf8-3c73-441a-f02c-6c70554424ab"
      },
      "outputs": [
        {
          "data": {
            "text/html": [
              "<div>\n",
              "<style scoped>\n",
              "    .dataframe tbody tr th:only-of-type {\n",
              "        vertical-align: middle;\n",
              "    }\n",
              "\n",
              "    .dataframe tbody tr th {\n",
              "        vertical-align: top;\n",
              "    }\n",
              "\n",
              "    .dataframe thead th {\n",
              "        text-align: right;\n",
              "    }\n",
              "</style>\n",
              "<table border=\"1\" class=\"dataframe\">\n",
              "  <thead>\n",
              "    <tr style=\"text-align: right;\">\n",
              "      <th></th>\n",
              "      <th>ID</th>\n",
              "      <th>loc</th>\n",
              "      <th>title</th>\n",
              "      <th>bedroom</th>\n",
              "      <th>bathroom</th>\n",
              "      <th>parking_space</th>\n",
              "    </tr>\n",
              "  </thead>\n",
              "  <tbody>\n",
              "    <tr>\n",
              "      <th>0</th>\n",
              "      <td>845</td>\n",
              "      <td>Kano</td>\n",
              "      <td>Penthouse</td>\n",
              "      <td>4</td>\n",
              "      <td>1</td>\n",
              "      <td>2</td>\n",
              "    </tr>\n",
              "    <tr>\n",
              "      <th>1</th>\n",
              "      <td>1924</td>\n",
              "      <td>Adamawa</td>\n",
              "      <td>Apartment</td>\n",
              "      <td>2</td>\n",
              "      <td>2</td>\n",
              "      <td>4</td>\n",
              "    </tr>\n",
              "    <tr>\n",
              "      <th>2</th>\n",
              "      <td>10718</td>\n",
              "      <td>Adamawa</td>\n",
              "      <td>Bungalow</td>\n",
              "      <td>2</td>\n",
              "      <td>7</td>\n",
              "      <td>2</td>\n",
              "    </tr>\n",
              "    <tr>\n",
              "      <th>3</th>\n",
              "      <td>12076</td>\n",
              "      <td>Lagos</td>\n",
              "      <td>Mansion</td>\n",
              "      <td>9</td>\n",
              "      <td>5</td>\n",
              "      <td>2</td>\n",
              "    </tr>\n",
              "    <tr>\n",
              "      <th>4</th>\n",
              "      <td>12254</td>\n",
              "      <td>Gombe</td>\n",
              "      <td>Semi-detached duplex</td>\n",
              "      <td>5</td>\n",
              "      <td>6</td>\n",
              "      <td>1</td>\n",
              "    </tr>\n",
              "  </tbody>\n",
              "</table>\n",
              "</div>"
            ],
            "text/plain": [
              "      ID      loc                 title  bedroom  bathroom  parking_space\n",
              "0    845     Kano             Penthouse        4         1              2\n",
              "1   1924  Adamawa             Apartment        2         2              4\n",
              "2  10718  Adamawa              Bungalow        2         7              2\n",
              "3  12076    Lagos               Mansion        9         5              2\n",
              "4  12254    Gombe  Semi-detached duplex        5         6              1"
            ]
          },
          "execution_count": 6,
          "metadata": {},
          "output_type": "execute_result"
        }
      ],
      "source": [
        "test.head()"
      ]
    },
    {
      "cell_type": "code",
      "execution_count": null,
      "metadata": {
        "id": "lG8PKg8fX-D7",
        "outputId": "3b9d387d-af4f-4686-cfe2-bc5e4df9a4b2"
      },
      "outputs": [
        {
          "name": "stdout",
          "output_type": "stream",
          "text": [
            "<class 'pandas.core.frame.DataFrame'>\n",
            "RangeIndex: 14000 entries, 0 to 13999\n",
            "Data columns (total 7 columns):\n",
            " #   Column         Non-Null Count  Dtype  \n",
            "---  ------         --------------  -----  \n",
            " 0   ID             14000 non-null  int64  \n",
            " 1   loc            12187 non-null  object \n",
            " 2   title          12278 non-null  object \n",
            " 3   bedroom        12201 non-null  float64\n",
            " 4   bathroom       12195 non-null  float64\n",
            " 5   parking_space  12189 non-null  float64\n",
            " 6   price          14000 non-null  float64\n",
            "dtypes: float64(4), int64(1), object(2)\n",
            "memory usage: 765.8+ KB\n"
          ]
        }
      ],
      "source": [
        "train.info()"
      ]
    },
    {
      "cell_type": "code",
      "execution_count": null,
      "metadata": {
        "id": "FZIPHRP3X-D9",
        "outputId": "55e336a4-8135-4f9a-f41c-b97012e4a6f4"
      },
      "outputs": [
        {
          "data": {
            "text/plain": [
              "(6000, 6)"
            ]
          },
          "execution_count": 9,
          "metadata": {},
          "output_type": "execute_result"
        }
      ],
      "source": [
        "test.shape"
      ]
    },
    {
      "cell_type": "code",
      "execution_count": null,
      "metadata": {
        "id": "AWvR3n57X-D-",
        "outputId": "110058e6-effa-4ddc-eb18-33673cacd67d"
      },
      "outputs": [
        {
          "data": {
            "text/plain": [
              "(14000, 7)"
            ]
          },
          "execution_count": 8,
          "metadata": {},
          "output_type": "execute_result"
        }
      ],
      "source": [
        "train.shape"
      ]
    },
    {
      "cell_type": "markdown",
      "metadata": {
        "id": "H2zgFx6YX-EA"
      },
      "source": [
        "## Exploratory Data Analysis"
      ]
    },
    {
      "cell_type": "code",
      "execution_count": null,
      "metadata": {
        "id": "FwCNH2fmX-EB",
        "outputId": "9284883f-53e2-45ed-8466-6497f9e4ab6b"
      },
      "outputs": [
        {
          "data": {
            "text/plain": [
              "ID                  0\n",
              "loc              1813\n",
              "title            1722\n",
              "bedroom          1799\n",
              "bathroom         1805\n",
              "parking_space    1811\n",
              "price               0\n",
              "dtype: int64"
            ]
          },
          "execution_count": 11,
          "metadata": {},
          "output_type": "execute_result"
        }
      ],
      "source": [
        "train.isnull().sum()"
      ]
    },
    {
      "cell_type": "code",
      "execution_count": null,
      "metadata": {
        "id": "kQNe-8-RX-ED",
        "outputId": "4afe99cf-e156-4d7d-f818-09ca36fea256"
      },
      "outputs": [
        {
          "data": {
            "text/plain": [
              "ID               0\n",
              "loc              0\n",
              "title            0\n",
              "bedroom          0\n",
              "bathroom         0\n",
              "parking_space    0\n",
              "dtype: int64"
            ]
          },
          "execution_count": 12,
          "metadata": {},
          "output_type": "execute_result"
        }
      ],
      "source": [
        "test.isnull().sum()"
      ]
    },
    {
      "cell_type": "code",
      "execution_count": null,
      "metadata": {
        "id": "Kc9Qbm21X-ED",
        "outputId": "4e55ce1e-daca-499e-87f3-26470090e8a1"
      },
      "outputs": [
        {
          "data": {
            "image/png": "[encoded data removed]",
            "text/plain": [
              "<Figure size 648x720 with 1 Axes>"
            ]
          },
          "metadata": {
            "needs_background": "light"
          },
          "output_type": "display_data"
        }
      ],
      "source": [
        "# Plot missing values in train set\n",
        "ax = train.isna().sum().sort_values().plot(kind = 'barh', figsize = (9, 10))\n",
        "plt.title('Percentage of Missing Values Per Column in Train Set', fontdict={'size':15})\n",
        "for p in ax.patches:\n",
        "    percentage ='{:,.0f}%'.format((p.get_width()/train.shape[0])*100)\n",
        "    width, height = p.get_width(),p.get_height()\n",
        "    x = p.get_x() + width + 0.02\n",
        "    y = p.get_y() + height/2\n",
        "    ax.annotate(percentage,(x,y))"
      ]
    },
    {
      "cell_type": "code",
      "execution_count": null,
      "metadata": {
        "id": "Ui0CKOLNX-EF",
        "outputId": "3eee85e4-7e6c-4ff2-9664-3cc7e13b3da8"
      },
      "outputs": [
        {
          "data": {
            "text/plain": [
              "Kaduna         370\n",
              "Anambra        363\n",
              "Benue          355\n",
              "Yobe           353\n",
              "Borno          351\n",
              "Kano           351\n",
              "Nasarawa       349\n",
              "Cross River    349\n",
              "Zamfara        348\n",
              "Imo            348\n",
              "Ebonyi         346\n",
              "Kebbi          346\n",
              "Katsina        345\n",
              "Ogun           345\n",
              "Ondo           344\n",
              "Gombe          343\n",
              "Bauchi         342\n",
              "Oyo            341\n",
              "Adamawa        341\n",
              "Bayelsa        340\n",
              "Plateau        338\n",
              "Osun           338\n",
              "Jigawa         337\n",
              "Ekiti          336\n",
              "Kwara          333\n",
              "Niger          330\n",
              "Akwa Ibom      329\n",
              "Lagos          328\n",
              "Sokoto         326\n",
              "Delta          325\n",
              "Enugu          324\n",
              "Rivers         323\n",
              "Kogi           321\n",
              "Taraba         315\n",
              "Abia           312\n",
              "Edo            302\n",
              "Name: loc, dtype: int64"
            ]
          },
          "execution_count": 14,
          "metadata": {},
          "output_type": "execute_result"
        }
      ],
      "source": [
        "train['loc'].value_counts()"
      ]
    },
    {
      "cell_type": "code",
      "execution_count": null,
      "metadata": {
        "id": "un2iWqDSX-EG",
        "outputId": "9c9468d0-238b-4111-ae3f-8d097d723153"
      },
      "outputs": [
        {
          "data": {
            "text/plain": [
              "36"
            ]
          },
          "execution_count": 15,
          "metadata": {},
          "output_type": "execute_result"
        }
      ],
      "source": [
        "len(train['loc'].value_counts())"
      ]
    },
    {
      "cell_type": "markdown",
      "metadata": {
        "id": "PvgacNvhX-EH"
      },
      "source": [
        "## df Visualization"
      ]
    },
    {
      "cell_type": "code",
      "execution_count": null,
      "metadata": {
        "id": "XH4HyyuBX-EI",
        "outputId": "4ff73461-dfde-490b-ba03-95ec9f4f7040"
      },
      "outputs": [
        {
          "data": {
            "text/html": [
              "<div>\n",
              "<style scoped>\n",
              "    .dataframe tbody tr th:only-of-type {\n",
              "        vertical-align: middle;\n",
              "    }\n",
              "\n",
              "    .dataframe tbody tr th {\n",
              "        vertical-align: top;\n",
              "    }\n",
              "\n",
              "    .dataframe thead th {\n",
              "        text-align: right;\n",
              "    }\n",
              "</style>\n",
              "<table border=\"1\" class=\"dataframe\">\n",
              "  <thead>\n",
              "    <tr style=\"text-align: right;\">\n",
              "      <th></th>\n",
              "      <th>ID</th>\n",
              "      <th>loc</th>\n",
              "      <th>title</th>\n",
              "      <th>bedroom</th>\n",
              "      <th>bathroom</th>\n",
              "      <th>parking_space</th>\n",
              "      <th>price</th>\n",
              "    </tr>\n",
              "  </thead>\n",
              "  <tbody>\n",
              "    <tr>\n",
              "      <th>0</th>\n",
              "      <td>3583</td>\n",
              "      <td>Katsina</td>\n",
              "      <td>Semi-detached duplex</td>\n",
              "      <td>2.00000</td>\n",
              "      <td>2.00000</td>\n",
              "      <td>1.00000</td>\n",
              "      <td>1149999.56500</td>\n",
              "    </tr>\n",
              "    <tr>\n",
              "      <th>1</th>\n",
              "      <td>2748</td>\n",
              "      <td>Ondo</td>\n",
              "      <td>Apartment</td>\n",
              "      <td>NaN</td>\n",
              "      <td>2.00000</td>\n",
              "      <td>4.00000</td>\n",
              "      <td>1672416.68900</td>\n",
              "    </tr>\n",
              "    <tr>\n",
              "      <th>2</th>\n",
              "      <td>9261</td>\n",
              "      <td>Ekiti</td>\n",
              "      <td>NaN</td>\n",
              "      <td>7.00000</td>\n",
              "      <td>5.00000</td>\n",
              "      <td>NaN</td>\n",
              "      <td>3364799.81400</td>\n",
              "    </tr>\n",
              "    <tr>\n",
              "      <th>3</th>\n",
              "      <td>2224</td>\n",
              "      <td>Anambra</td>\n",
              "      <td>Detached duplex</td>\n",
              "      <td>5.00000</td>\n",
              "      <td>2.00000</td>\n",
              "      <td>4.00000</td>\n",
              "      <td>2410306.75600</td>\n",
              "    </tr>\n",
              "    <tr>\n",
              "      <th>4</th>\n",
              "      <td>10300</td>\n",
              "      <td>Kogi</td>\n",
              "      <td>Terrace duplex</td>\n",
              "      <td>NaN</td>\n",
              "      <td>5.00000</td>\n",
              "      <td>6.00000</td>\n",
              "      <td>2600700.89800</td>\n",
              "    </tr>\n",
              "  </tbody>\n",
              "</table>\n",
              "</div>"
            ],
            "text/plain": [
              "      ID      loc                 title  bedroom  bathroom  parking_space  \\\n",
              "0   3583  Katsina  Semi-detached duplex  2.00000   2.00000        1.00000   \n",
              "1   2748     Ondo             Apartment      NaN   2.00000        4.00000   \n",
              "2   9261    Ekiti                   NaN  7.00000   5.00000            NaN   \n",
              "3   2224  Anambra       Detached duplex  5.00000   2.00000        4.00000   \n",
              "4  10300     Kogi        Terrace duplex      NaN   5.00000        6.00000   \n",
              "\n",
              "          price  \n",
              "0 1149999.56500  \n",
              "1 1672416.68900  \n",
              "2 3364799.81400  \n",
              "3 2410306.75600  \n",
              "4 2600700.89800  "
            ]
          },
          "execution_count": 24,
          "metadata": {},
          "output_type": "execute_result"
        }
      ],
      "source": [
        "train.head()"
      ]
    },
    {
      "cell_type": "code",
      "execution_count": null,
      "metadata": {
        "id": "erefB_LdX-EI",
        "outputId": "3d62e321-2687-4544-9c35-ee71e32f94af"
      },
      "outputs": [
        {
          "data": {
            "text/plain": [
              "Flat                    1372\n",
              "Apartment               1331\n",
              "Townhouse               1327\n",
              "Mansion                 1322\n",
              "Detached duplex         1312\n",
              "Penthouse               1306\n",
              "Semi-detached duplex    1299\n",
              "Bungalow                1293\n",
              "Terrace duplex          1266\n",
              "Cottage                  450\n",
              "Name: title, dtype: int64"
            ]
          },
          "execution_count": 55,
          "metadata": {},
          "output_type": "execute_result"
        }
      ],
      "source": [
        "# Count of each unique House Title\n",
        "\n",
        "train['title'].value_counts(ascending = False)"
      ]
    },
    {
      "cell_type": "markdown",
      "metadata": {
        "id": "yHFjYwarX-EJ"
      },
      "source": [
        "- Most of the houses are `Flat`\n",
        "- Just very few of the houses are  `Cottage`"
      ]
    },
    {
      "cell_type": "code",
      "execution_count": null,
      "metadata": {
        "id": "rvpV2_3XX-EK",
        "outputId": "a0fc62ab-ad2f-4ed1-9d74-0c7f15b96754"
      },
      "outputs": [
        {
          "data": {
            "image/png": "[encoded data removed]",
            "text/plain": [
              "<Figure size 1008x504 with 1 Axes>"
            ]
          },
          "metadata": {
            "needs_background": "light"
          },
          "output_type": "display_data"
        }
      ],
      "source": [
        "# Histogram of Title\n",
        "plt.figure(figsize = (14, 7))\n",
        "sns.countplot(x = 'title', df = train)\n",
        "plt.title('Histogram of House Title')\n",
        "plt.xlabel('Title')\n",
        "plt.ylabel('Count')\n",
        "plt.xticks(rotation = 90)\n",
        "plt.show()"
      ]
    },
    {
      "cell_type": "code",
      "execution_count": null,
      "metadata": {
        "id": "BWwUeTgOX-EK",
        "outputId": "232a7345-bbfb-4f6a-9c60-05cd8fb74433"
      },
      "outputs": [
        {
          "data": {
            "text/plain": [
              "title\n",
              "Apartment              1567003.66666\n",
              "Bungalow               1733845.14761\n",
              "Cottage                1307817.28528\n",
              "Detached duplex        2205882.99880\n",
              "Flat                   1721875.46344\n",
              "Mansion                3725768.36179\n",
              "Penthouse              2628945.17705\n",
              "Semi-detached duplex   1918467.57136\n",
              "Terrace duplex         1927269.65370\n",
              "Townhouse              2056125.04742\n",
              "Name: price, dtype: float64"
            ]
          },
          "execution_count": 49,
          "metadata": {},
          "output_type": "execute_result"
        }
      ],
      "source": [
        "# Average Price of each house title\n",
        "\n",
        "Title_mean_price = train.groupby(['title'])['price'].mean()\n",
        "\n",
        "Title_mean_price"
      ]
    },
    {
      "cell_type": "code",
      "execution_count": null,
      "metadata": {
        "id": "FrTQBdyAX-EL",
        "outputId": "f360f565-7d1f-47b4-c0f3-432988e53a08"
      },
      "outputs": [
        {
          "data": {
            "text/plain": [
              "Index(['Apartment', 'Bungalow', 'Cottage', 'Detached duplex', 'Flat',\n",
              "       'Mansion', 'Penthouse', 'Semi-detached duplex', 'Terrace duplex',\n",
              "       'Townhouse'],\n",
              "      dtype='object', name='title')"
            ]
          },
          "execution_count": 50,
          "metadata": {},
          "output_type": "execute_result"
        }
      ],
      "source": [
        "Title_mean_price.index"
      ]
    },
    {
      "cell_type": "code",
      "execution_count": null,
      "metadata": {
        "id": "UXG0eK5_X-EM",
        "outputId": "35f34628-d0d3-479e-f668-ef2e881d2e80"
      },
      "outputs": [
        {
          "data": {
            "text/plain": [
              "array([1567003.66666033, 1733845.147614  , 1307817.285284  ,\n",
              "       2205882.99880473, 1721875.46343805, 3725768.36179289,\n",
              "       2628945.1770549 , 1918467.57135781, 1927269.65369929,\n",
              "       2056125.04741891])"
            ]
          },
          "execution_count": 43,
          "metadata": {},
          "output_type": "execute_result"
        }
      ],
      "source": [
        "Title_mean_price.values"
      ]
    },
    {
      "cell_type": "code",
      "execution_count": null,
      "metadata": {
        "id": "1_M6cq_rX-EM",
        "outputId": "5fe51260-f1e1-446e-e291-8af52c16fd56"
      },
      "outputs": [
        {
          "data": {
            "image/png": "[encoded data removed]",
            "text/plain": [
              "<Figure size 1008x504 with 1 Axes>"
            ]
          },
          "metadata": {
            "needs_background": "light"
          },
          "output_type": "display_data"
        }
      ],
      "source": [
        "# What is the average price for each House title?\n",
        "\n",
        "plt.figure(figsize = (14, 7))\n",
        "sns.barplot(Title_mean_price.index, Title_mean_price.values)\n",
        "plt.title('Average Price of Each House Title')\n",
        "plt.xlabel('Title')\n",
        "plt.ylabel('Price')\n",
        "plt.xticks(rotation = 90)\n",
        "plt.show()"
      ]
    },
    {
      "cell_type": "markdown",
      "metadata": {
        "id": "nWRvtMTSX-EN"
      },
      "source": [
        "- On average, it is observed that `Mansion` is the most expensive House Type\n",
        "\n",
        "- And `Cottage` is the least expensive"
      ]
    },
    {
      "cell_type": "code",
      "execution_count": null,
      "metadata": {
        "id": "d47g2Ee9X-EO",
        "outputId": "b5c701ba-b3f6-401d-deb7-402980353155"
      },
      "outputs": [
        {
          "data": {
            "text/html": [
              "<div>\n",
              "<style scoped>\n",
              "    .dataframe tbody tr th:only-of-type {\n",
              "        vertical-align: middle;\n",
              "    }\n",
              "\n",
              "    .dataframe tbody tr th {\n",
              "        vertical-align: top;\n",
              "    }\n",
              "\n",
              "    .dataframe thead th {\n",
              "        text-align: right;\n",
              "    }\n",
              "</style>\n",
              "<table border=\"1\" class=\"dataframe\">\n",
              "  <thead>\n",
              "    <tr style=\"text-align: right;\">\n",
              "      <th></th>\n",
              "      <th>ID</th>\n",
              "      <th>loc</th>\n",
              "      <th>title</th>\n",
              "      <th>bedroom</th>\n",
              "      <th>bathroom</th>\n",
              "      <th>parking_space</th>\n",
              "      <th>price</th>\n",
              "    </tr>\n",
              "  </thead>\n",
              "  <tbody>\n",
              "    <tr>\n",
              "      <th>0</th>\n",
              "      <td>3583</td>\n",
              "      <td>Katsina</td>\n",
              "      <td>Semi-detached duplex</td>\n",
              "      <td>2.00000</td>\n",
              "      <td>2.00000</td>\n",
              "      <td>1.00000</td>\n",
              "      <td>1149999.56500</td>\n",
              "    </tr>\n",
              "    <tr>\n",
              "      <th>1</th>\n",
              "      <td>2748</td>\n",
              "      <td>Ondo</td>\n",
              "      <td>Apartment</td>\n",
              "      <td>NaN</td>\n",
              "      <td>2.00000</td>\n",
              "      <td>4.00000</td>\n",
              "      <td>1672416.68900</td>\n",
              "    </tr>\n",
              "    <tr>\n",
              "      <th>2</th>\n",
              "      <td>9261</td>\n",
              "      <td>Ekiti</td>\n",
              "      <td>NaN</td>\n",
              "      <td>7.00000</td>\n",
              "      <td>5.00000</td>\n",
              "      <td>NaN</td>\n",
              "      <td>3364799.81400</td>\n",
              "    </tr>\n",
              "    <tr>\n",
              "      <th>3</th>\n",
              "      <td>2224</td>\n",
              "      <td>Anambra</td>\n",
              "      <td>Detached duplex</td>\n",
              "      <td>5.00000</td>\n",
              "      <td>2.00000</td>\n",
              "      <td>4.00000</td>\n",
              "      <td>2410306.75600</td>\n",
              "    </tr>\n",
              "    <tr>\n",
              "      <th>4</th>\n",
              "      <td>10300</td>\n",
              "      <td>Kogi</td>\n",
              "      <td>Terrace duplex</td>\n",
              "      <td>NaN</td>\n",
              "      <td>5.00000</td>\n",
              "      <td>6.00000</td>\n",
              "      <td>2600700.89800</td>\n",
              "    </tr>\n",
              "  </tbody>\n",
              "</table>\n",
              "</div>"
            ],
            "text/plain": [
              "      ID      loc                 title  bedroom  bathroom  parking_space  \\\n",
              "0   3583  Katsina  Semi-detached duplex  2.00000   2.00000        1.00000   \n",
              "1   2748     Ondo             Apartment      NaN   2.00000        4.00000   \n",
              "2   9261    Ekiti                   NaN  7.00000   5.00000            NaN   \n",
              "3   2224  Anambra       Detached duplex  5.00000   2.00000        4.00000   \n",
              "4  10300     Kogi        Terrace duplex      NaN   5.00000        6.00000   \n",
              "\n",
              "          price  \n",
              "0 1149999.56500  \n",
              "1 1672416.68900  \n",
              "2 3364799.81400  \n",
              "3 2410306.75600  \n",
              "4 2600700.89800  "
            ]
          },
          "execution_count": 51,
          "metadata": {},
          "output_type": "execute_result"
        }
      ],
      "source": [
        "train.head()"
      ]
    },
    {
      "cell_type": "code",
      "execution_count": null,
      "metadata": {
        "id": "Bv0cPK1QX-EO",
        "outputId": "26d29acd-371e-4de5-c970-13f51575664c"
      },
      "outputs": [
        {
          "data": {
            "text/plain": [
              "Kaduna         370\n",
              "Anambra        363\n",
              "Benue          355\n",
              "Yobe           353\n",
              "Borno          351\n",
              "Kano           351\n",
              "Nasarawa       349\n",
              "Cross River    349\n",
              "Zamfara        348\n",
              "Imo            348\n",
              "Name: loc, dtype: int64"
            ]
          },
          "execution_count": 58,
          "metadata": {},
          "output_type": "execute_result"
        }
      ],
      "source": [
        "# What state has the highest number of houses?\n",
        "\n",
        "train['loc'].value_counts()"
      ]
    },
    {
      "cell_type": "code",
      "execution_count": null,
      "metadata": {
        "id": "VT34vHp2X-EP",
        "outputId": "2a8fb65a-1539-47d3-aa82-37be96718394"
      },
      "outputs": [
        {
          "data": {
            "text/plain": [
              "loc\n",
              "Abia          1717083.36160\n",
              "Adamawa       1905286.95661\n",
              "Akwa Ibom     2725454.33341\n",
              "Anambra       2337230.07168\n",
              "Bauchi        1772960.72868\n",
              "Bayelsa       3112321.66834\n",
              "Benue         1920460.82697\n",
              "Borno         1735703.59172\n",
              "Cross River   2507765.01272\n",
              "Delta         2712493.15171\n",
              "Ebonyi        1635849.63746\n",
              "Edo           2310451.76997\n",
              "Ekiti         2109220.25028\n",
              "Enugu         2272886.72249\n",
              "Gombe         1860851.42076\n",
              "Imo           2067489.40577\n",
              "Jigawa        1735867.35795\n",
              "Kaduna        1846993.46892\n",
              "Kano          2081930.99988\n",
              "Katsina       1947589.32547\n",
              "Kebbi         1616371.56034\n",
              "Kogi          1763415.89906\n",
              "Kwara         1903423.94700\n",
              "Lagos         4210546.33879\n",
              "Nasarawa      2061764.18937\n",
              "Niger         1885325.42238\n",
              "Ogun          2564020.37689\n",
              "Ondo          2277494.18507\n",
              "Osun          2180569.60805\n",
              "Oyo           2293159.41819\n",
              "Plateau       1942315.81927\n",
              "Rivers        2957097.57463\n",
              "Sokoto        1681016.35053\n",
              "Taraba        1855305.76050\n",
              "Yobe          1747938.01575\n",
              "Zamfara       1689540.72419\n",
              "Name: price, dtype: float64"
            ]
          },
          "execution_count": 59,
          "metadata": {},
          "output_type": "execute_result"
        }
      ],
      "source": [
        "# What is the average house price in each state\n",
        "\n",
        "train.groupby('loc')['price'].mean()"
      ]
    },
    {
      "cell_type": "code",
      "execution_count": null,
      "metadata": {
        "id": "genPdXWFX-EP"
      },
      "outputs": [],
      "source": [
        "\n",
        "avg_price_loc = train.groupby('loc')['price'].mean()"
      ]
    },
    {
      "cell_type": "code",
      "execution_count": null,
      "metadata": {
        "id": "wsoAUPXBX-EP",
        "outputId": "0907e814-7af9-4118-e46e-4f4ecf83d003"
      },
      "outputs": [
        {
          "data": {
            "image/png": "[encoded data removed]",
            "text/plain": [
              "<Figure size 1008x504 with 1 Axes>"
            ]
          },
          "metadata": {
            "needs_background": "light"
          },
          "output_type": "display_data"
        }
      ],
      "source": [
        "plt.figure(figsize = (14, 7))\n",
        "sns.barplot(avg_price_loc.index, avg_price_loc.values)\n",
        "plt.title('Average Price of House Per State')\n",
        "plt.xlabel('State')\n",
        "plt.ylabel('Price')\n",
        "plt.xticks(rotation = 90)\n",
        "plt.show()"
      ]
    },
    {
      "cell_type": "code",
      "execution_count": null,
      "metadata": {
        "id": "I3ADSVuUX-EQ"
      },
      "outputs": [],
      "source": [
        "# Top Ten State with the most expensive House\n",
        "\n",
        "avg_price_loc_top = train.groupby('loc')['price'].mean().head(10)"
      ]
    },
    {
      "cell_type": "code",
      "execution_count": null,
      "metadata": {
        "id": "Ph9mIfWLX-EQ",
        "outputId": "d54408ec-5397-4234-f611-bdca26d07e2a"
      },
      "outputs": [
        {
          "data": {
            "text/plain": [
              "loc\n",
              "Abia          1717083.36160\n",
              "Adamawa       1905286.95661\n",
              "Akwa Ibom     2725454.33341\n",
              "Anambra       2337230.07168\n",
              "Bauchi        1772960.72868\n",
              "Bayelsa       3112321.66834\n",
              "Benue         1920460.82697\n",
              "Borno         1735703.59172\n",
              "Cross River   2507765.01272\n",
              "Delta         2712493.15171\n",
              "Name: price, dtype: float64"
            ]
          },
          "execution_count": 73,
          "metadata": {},
          "output_type": "execute_result"
        }
      ],
      "source": [
        "avg_price_loc_top"
      ]
    },
    {
      "cell_type": "code",
      "execution_count": null,
      "metadata": {
        "id": "BkdxcsDTX-ER",
        "outputId": "68615cc5-0b29-4541-e984-cd3d8f7de934"
      },
      "outputs": [
        {
          "data": {
            "text/plain": [
              "loc\n",
              "Abia          1717083.36160\n",
              "Adamawa       1905286.95661\n",
              "Akwa Ibom     2725454.33341\n",
              "Anambra       2337230.07168\n",
              "Bauchi        1772960.72868\n",
              "Bayelsa       3112321.66834\n",
              "Benue         1920460.82697\n",
              "Borno         1735703.59172\n",
              "Cross River   2507765.01272\n",
              "Delta         2712493.15171\n",
              "Ebonyi        1635849.63746\n",
              "Edo           2310451.76997\n",
              "Ekiti         2109220.25028\n",
              "Enugu         2272886.72249\n",
              "Gombe         1860851.42076\n",
              "Imo           2067489.40577\n",
              "Jigawa        1735867.35795\n",
              "Kaduna        1846993.46892\n",
              "Kano          2081930.99988\n",
              "Katsina       1947589.32547\n",
              "Kebbi         1616371.56034\n",
              "Kogi          1763415.89906\n",
              "Kwara         1903423.94700\n",
              "Lagos         4210546.33879\n",
              "Nasarawa      2061764.18937\n",
              "Niger         1885325.42238\n",
              "Ogun          2564020.37689\n",
              "Ondo          2277494.18507\n",
              "Osun          2180569.60805\n",
              "Oyo           2293159.41819\n",
              "Plateau       1942315.81927\n",
              "Rivers        2957097.57463\n",
              "Sokoto        1681016.35053\n",
              "Taraba        1855305.76050\n",
              "Yobe          1747938.01575\n",
              "Zamfara       1689540.72419\n",
              "Name: price, dtype: float64"
            ]
          },
          "execution_count": 70,
          "metadata": {},
          "output_type": "execute_result"
        }
      ],
      "source": [
        "train.groupby('loc')['price'].mean()"
      ]
    },
    {
      "cell_type": "code",
      "execution_count": null,
      "metadata": {
        "id": "D6kA7a_kX-Ec",
        "outputId": "2d260a0b-0900-4ea3-bef7-d600044fa899"
      },
      "outputs": [
        {
          "data": {
            "image/png": "[encoded data removed]",
            "text/plain": [
              "<Figure size 1008x504 with 1 Axes>"
            ]
          },
          "metadata": {
            "needs_background": "light"
          },
          "output_type": "display_data"
        }
      ],
      "source": [
        "plt.figure(figsize = (14, 7))\n",
        "sns.barplot(avg_price_loc_top.index, avg_price_loc_top.values)\n",
        "plt.title('Average Price of House Per State')\n",
        "plt.xlabel('State')\n",
        "plt.ylabel('Price')\n",
        "plt.xticks(rotation = 90)\n",
        "plt.show()"
      ]
    },
    {
      "cell_type": "code",
      "execution_count": null,
      "metadata": {
        "id": "mzzq7kVrX-Ed",
        "outputId": "c40b34f1-8d6f-4b05-a9a2-e16d536c131a"
      },
      "outputs": [
        {
          "data": {
            "text/plain": [
              "loc      title               \n",
              "Abia     Apartment              1307904.27928\n",
              "         Bungalow               1380415.81201\n",
              "         Cottage                 924151.90512\n",
              "         Detached duplex        1767214.01826\n",
              "         Flat                   1530552.13427\n",
              "                                     ...     \n",
              "Zamfara  Mansion                2761523.74872\n",
              "         Penthouse              1940599.51108\n",
              "         Semi-detached duplex   1479472.10771\n",
              "         Terrace duplex         1588151.88746\n",
              "         Townhouse              1511642.20234\n",
              "Name: price, Length: 360, dtype: float64"
            ]
          },
          "execution_count": 64,
          "metadata": {},
          "output_type": "execute_result"
        }
      ],
      "source": [
        "train.groupby(['loc', 'title'])['price'].mean()\n",
        "\n",
        "# The Idea of Plotting a Graph and seeing the Variation of the House Price per House Type in Each State."
      ]
    },
    {
      "cell_type": "markdown",
      "metadata": {
        "id": "JUSTa63hX-Ee"
      },
      "source": [
        "## df Preprocessing"
      ]
    },
    {
      "cell_type": "code",
      "execution_count": null,
      "metadata": {
        "id": "7i62lBeYX-Ef",
        "outputId": "b9099549-024e-4524-fa02-ffa8cbee1c1b"
      },
      "outputs": [
        {
          "data": {
            "text/plain": [
              "ID                  0\n",
              "loc              1813\n",
              "title            1722\n",
              "bedroom          1799\n",
              "bathroom         1805\n",
              "parking_space    1811\n",
              "price               0\n",
              "dtype: int64"
            ]
          },
          "execution_count": 7,
          "metadata": {},
          "output_type": "execute_result"
        }
      ],
      "source": [
        "train.isnull().sum()"
      ]
    },
    {
      "cell_type": "code",
      "execution_count": null,
      "metadata": {
        "id": "FDP_qOEjX-Eg",
        "outputId": "d21eba44-a0e8-4baa-cc38-311cbc9310c6"
      },
      "outputs": [
        {
          "data": {
            "text/html": [
              "<div>\n",
              "<style scoped>\n",
              "    .dataframe tbody tr th:only-of-type {\n",
              "        vertical-align: middle;\n",
              "    }\n",
              "\n",
              "    .dataframe tbody tr th {\n",
              "        vertical-align: top;\n",
              "    }\n",
              "\n",
              "    .dataframe thead th {\n",
              "        text-align: right;\n",
              "    }\n",
              "</style>\n",
              "<table border=\"1\" class=\"dataframe\">\n",
              "  <thead>\n",
              "    <tr style=\"text-align: right;\">\n",
              "      <th></th>\n",
              "      <th>ID</th>\n",
              "      <th>loc</th>\n",
              "      <th>title</th>\n",
              "      <th>bedroom</th>\n",
              "      <th>bathroom</th>\n",
              "      <th>parking_space</th>\n",
              "      <th>price</th>\n",
              "    </tr>\n",
              "  </thead>\n",
              "  <tbody>\n",
              "    <tr>\n",
              "      <th>0</th>\n",
              "      <td>3583</td>\n",
              "      <td>Katsina</td>\n",
              "      <td>Semi-detached duplex</td>\n",
              "      <td>2.0</td>\n",
              "      <td>2.0</td>\n",
              "      <td>1.0</td>\n",
              "      <td>1149999.565</td>\n",
              "    </tr>\n",
              "    <tr>\n",
              "      <th>1</th>\n",
              "      <td>2748</td>\n",
              "      <td>Ondo</td>\n",
              "      <td>Apartment</td>\n",
              "      <td>NaN</td>\n",
              "      <td>2.0</td>\n",
              "      <td>4.0</td>\n",
              "      <td>1672416.689</td>\n",
              "    </tr>\n",
              "    <tr>\n",
              "      <th>2</th>\n",
              "      <td>9261</td>\n",
              "      <td>Ekiti</td>\n",
              "      <td>NaN</td>\n",
              "      <td>7.0</td>\n",
              "      <td>5.0</td>\n",
              "      <td>NaN</td>\n",
              "      <td>3364799.814</td>\n",
              "    </tr>\n",
              "    <tr>\n",
              "      <th>3</th>\n",
              "      <td>2224</td>\n",
              "      <td>Anambra</td>\n",
              "      <td>Detached duplex</td>\n",
              "      <td>5.0</td>\n",
              "      <td>2.0</td>\n",
              "      <td>4.0</td>\n",
              "      <td>2410306.756</td>\n",
              "    </tr>\n",
              "    <tr>\n",
              "      <th>4</th>\n",
              "      <td>10300</td>\n",
              "      <td>Kogi</td>\n",
              "      <td>Terrace duplex</td>\n",
              "      <td>NaN</td>\n",
              "      <td>5.0</td>\n",
              "      <td>6.0</td>\n",
              "      <td>2600700.898</td>\n",
              "    </tr>\n",
              "  </tbody>\n",
              "</table>\n",
              "</div>"
            ],
            "text/plain": [
              "      ID      loc                 title  bedroom  bathroom  parking_space  \\\n",
              "0   3583  Katsina  Semi-detached duplex      2.0       2.0            1.0   \n",
              "1   2748     Ondo             Apartment      NaN       2.0            4.0   \n",
              "2   9261    Ekiti                   NaN      7.0       5.0            NaN   \n",
              "3   2224  Anambra       Detached duplex      5.0       2.0            4.0   \n",
              "4  10300     Kogi        Terrace duplex      NaN       5.0            6.0   \n",
              "\n",
              "         price  \n",
              "0  1149999.565  \n",
              "1  1672416.689  \n",
              "2  3364799.814  \n",
              "3  2410306.756  \n",
              "4  2600700.898  "
            ]
          },
          "execution_count": 12,
          "metadata": {},
          "output_type": "execute_result"
        }
      ],
      "source": [
        "train.head()"
      ]
    },
    {
      "cell_type": "code",
      "execution_count": null,
      "metadata": {
        "id": "y0IDF2lHX-Eh",
        "outputId": "db431b39-0ed2-4b1c-96bd-3cdf068591a1"
      },
      "outputs": [
        {
          "data": {
            "text/html": [
              "<div>\n",
              "<style scoped>\n",
              "    .dataframe tbody tr th:only-of-type {\n",
              "        vertical-align: middle;\n",
              "    }\n",
              "\n",
              "    .dataframe tbody tr th {\n",
              "        vertical-align: top;\n",
              "    }\n",
              "\n",
              "    .dataframe thead th {\n",
              "        text-align: right;\n",
              "    }\n",
              "</style>\n",
              "<table border=\"1\" class=\"dataframe\">\n",
              "  <thead>\n",
              "    <tr style=\"text-align: right;\">\n",
              "      <th></th>\n",
              "      <th>ID</th>\n",
              "      <th>loc</th>\n",
              "      <th>title</th>\n",
              "      <th>bedroom</th>\n",
              "      <th>bathroom</th>\n",
              "      <th>parking_space</th>\n",
              "    </tr>\n",
              "  </thead>\n",
              "  <tbody>\n",
              "    <tr>\n",
              "      <th>0</th>\n",
              "      <td>845</td>\n",
              "      <td>Kano</td>\n",
              "      <td>Penthouse</td>\n",
              "      <td>4</td>\n",
              "      <td>1</td>\n",
              "      <td>2</td>\n",
              "    </tr>\n",
              "    <tr>\n",
              "      <th>1</th>\n",
              "      <td>1924</td>\n",
              "      <td>Adamawa</td>\n",
              "      <td>Apartment</td>\n",
              "      <td>2</td>\n",
              "      <td>2</td>\n",
              "      <td>4</td>\n",
              "    </tr>\n",
              "    <tr>\n",
              "      <th>2</th>\n",
              "      <td>10718</td>\n",
              "      <td>Adamawa</td>\n",
              "      <td>Bungalow</td>\n",
              "      <td>2</td>\n",
              "      <td>7</td>\n",
              "      <td>2</td>\n",
              "    </tr>\n",
              "    <tr>\n",
              "      <th>3</th>\n",
              "      <td>12076</td>\n",
              "      <td>Lagos</td>\n",
              "      <td>Mansion</td>\n",
              "      <td>9</td>\n",
              "      <td>5</td>\n",
              "      <td>2</td>\n",
              "    </tr>\n",
              "    <tr>\n",
              "      <th>4</th>\n",
              "      <td>12254</td>\n",
              "      <td>Gombe</td>\n",
              "      <td>Semi-detached duplex</td>\n",
              "      <td>5</td>\n",
              "      <td>6</td>\n",
              "      <td>1</td>\n",
              "    </tr>\n",
              "  </tbody>\n",
              "</table>\n",
              "</div>"
            ],
            "text/plain": [
              "      ID      loc                 title  bedroom  bathroom  parking_space\n",
              "0    845     Kano             Penthouse        4         1              2\n",
              "1   1924  Adamawa             Apartment        2         2              4\n",
              "2  10718  Adamawa              Bungalow        2         7              2\n",
              "3  12076    Lagos               Mansion        9         5              2\n",
              "4  12254    Gombe  Semi-detached duplex        5         6              1"
            ]
          },
          "execution_count": 13,
          "metadata": {},
          "output_type": "execute_result"
        }
      ],
      "source": [
        "test.head()"
      ]
    },
    {
      "cell_type": "markdown",
      "metadata": {
        "id": "m_0Kf0fJX-Ei"
      },
      "source": [
        "### Duplicate dfset for extra scrutiny!"
      ]
    },
    {
      "cell_type": "code",
      "execution_count": 72,
      "metadata": {
        "id": "x-4T0Q63X-Es"
      },
      "outputs": [],
      "source": [
        "train_df = train.copy()\n",
        "test_df = test.copy()"
      ]
    },
    {
      "cell_type": "code",
      "execution_count": 5,
      "metadata": {
        "colab": {
          "base_uri": "https://localhost:8080/"
        },
        "id": "7C7-3oVOX-Et",
        "outputId": "f731a142-1dc9-4edd-c6a2-c5062964ab31"
      },
      "outputs": [
        {
          "output_type": "execute_result",
          "data": {
            "text/plain": [
              "((14000, 7), (6000, 6))"
            ]
          },
          "metadata": {},
          "execution_count": 5
        }
      ],
      "source": [
        "train_df.shape, test_df.shape"
      ]
    },
    {
      "cell_type": "code",
      "execution_count": null,
      "metadata": {
        "id": "4o5aFhDIX-Eu",
        "outputId": "8d43f6eb-623f-4aca-c6a5-a899234de23a"
      },
      "outputs": [
        {
          "data": {
            "text/html": [
              "<div>\n",
              "<style scoped>\n",
              "    .dataframe tbody tr th:only-of-type {\n",
              "        vertical-align: middle;\n",
              "    }\n",
              "\n",
              "    .dataframe tbody tr th {\n",
              "        vertical-align: top;\n",
              "    }\n",
              "\n",
              "    .dataframe thead th {\n",
              "        text-align: right;\n",
              "    }\n",
              "</style>\n",
              "<table border=\"1\" class=\"dataframe\">\n",
              "  <thead>\n",
              "    <tr style=\"text-align: right;\">\n",
              "      <th></th>\n",
              "      <th>ID</th>\n",
              "      <th>loc</th>\n",
              "      <th>title</th>\n",
              "      <th>bedroom</th>\n",
              "      <th>bathroom</th>\n",
              "      <th>parking_space</th>\n",
              "      <th>price</th>\n",
              "    </tr>\n",
              "  </thead>\n",
              "  <tbody>\n",
              "    <tr>\n",
              "      <th>0</th>\n",
              "      <td>3583</td>\n",
              "      <td>Katsina</td>\n",
              "      <td>Semi-detached duplex</td>\n",
              "      <td>2.0</td>\n",
              "      <td>2.0</td>\n",
              "      <td>1.0</td>\n",
              "      <td>1149999.565</td>\n",
              "    </tr>\n",
              "    <tr>\n",
              "      <th>1</th>\n",
              "      <td>2748</td>\n",
              "      <td>Ondo</td>\n",
              "      <td>Apartment</td>\n",
              "      <td>NaN</td>\n",
              "      <td>2.0</td>\n",
              "      <td>4.0</td>\n",
              "      <td>1672416.689</td>\n",
              "    </tr>\n",
              "    <tr>\n",
              "      <th>2</th>\n",
              "      <td>9261</td>\n",
              "      <td>Ekiti</td>\n",
              "      <td>NaN</td>\n",
              "      <td>7.0</td>\n",
              "      <td>5.0</td>\n",
              "      <td>NaN</td>\n",
              "      <td>3364799.814</td>\n",
              "    </tr>\n",
              "    <tr>\n",
              "      <th>3</th>\n",
              "      <td>2224</td>\n",
              "      <td>Anambra</td>\n",
              "      <td>Detached duplex</td>\n",
              "      <td>5.0</td>\n",
              "      <td>2.0</td>\n",
              "      <td>4.0</td>\n",
              "      <td>2410306.756</td>\n",
              "    </tr>\n",
              "    <tr>\n",
              "      <th>4</th>\n",
              "      <td>10300</td>\n",
              "      <td>Kogi</td>\n",
              "      <td>Terrace duplex</td>\n",
              "      <td>NaN</td>\n",
              "      <td>5.0</td>\n",
              "      <td>6.0</td>\n",
              "      <td>2600700.898</td>\n",
              "    </tr>\n",
              "  </tbody>\n",
              "</table>\n",
              "</div>"
            ],
            "text/plain": [
              "      ID      loc                 title  bedroom  bathroom  parking_space  \\\n",
              "0   3583  Katsina  Semi-detached duplex      2.0       2.0            1.0   \n",
              "1   2748     Ondo             Apartment      NaN       2.0            4.0   \n",
              "2   9261    Ekiti                   NaN      7.0       5.0            NaN   \n",
              "3   2224  Anambra       Detached duplex      5.0       2.0            4.0   \n",
              "4  10300     Kogi        Terrace duplex      NaN       5.0            6.0   \n",
              "\n",
              "         price  \n",
              "0  1149999.565  \n",
              "1  1672416.689  \n",
              "2  3364799.814  \n",
              "3  2410306.756  \n",
              "4  2600700.898  "
            ]
          },
          "execution_count": 14,
          "metadata": {},
          "output_type": "execute_result"
        }
      ],
      "source": [
        "train_df.head()"
      ]
    },
    {
      "cell_type": "markdown",
      "metadata": {
        "id": "9t8nhmCBX-Eu"
      },
      "source": [
        "## Bedroom"
      ]
    },
    {
      "cell_type": "code",
      "execution_count": null,
      "metadata": {
        "id": "om1--wDRX-Ev",
        "outputId": "e31ba53b-55a1-420e-e064-41c0dbf2fa6c"
      },
      "outputs": [
        {
          "data": {
            "text/plain": [
              "count    12201.000000\n",
              "mean         4.308171\n",
              "std          2.441165\n",
              "min          1.000000\n",
              "25%          2.000000\n",
              "50%          4.000000\n",
              "75%          6.000000\n",
              "max          9.000000\n",
              "Name: bedroom, dtype: float64"
            ]
          },
          "execution_count": 15,
          "metadata": {},
          "output_type": "execute_result"
        }
      ],
      "source": [
        "train_df['bedroom'].describe()"
      ]
    },
    {
      "cell_type": "code",
      "execution_count": null,
      "metadata": {
        "id": "RTJALK8jX-Ev",
        "outputId": "119e4fcf-277e-44aa-cb13-f817fb0e1074"
      },
      "outputs": [
        {
          "data": {
            "text/plain": [
              "5.0    1789\n",
              "2.0    1741\n",
              "1.0    1738\n",
              "3.0    1736\n",
              "4.0    1641\n",
              "6.0     908\n",
              "7.0     888\n",
              "9.0     883\n",
              "8.0     877\n",
              "Name: bedroom, dtype: int64"
            ]
          },
          "execution_count": 16,
          "metadata": {},
          "output_type": "execute_result"
        }
      ],
      "source": [
        "train_df['bedroom'].value_counts()"
      ]
    },
    {
      "cell_type": "code",
      "execution_count": null,
      "metadata": {
        "id": "-Je3VCVMX-Ew",
        "outputId": "80af25f8-2639-446b-9006-169a92f64603"
      },
      "outputs": [
        {
          "data": {
            "text/plain": [
              "1799"
            ]
          },
          "execution_count": 19,
          "metadata": {},
          "output_type": "execute_result"
        }
      ],
      "source": [
        "train_df['bedroom'].isnull().sum()"
      ]
    },
    {
      "cell_type": "code",
      "execution_count": null,
      "metadata": {
        "id": "2vFAQDlVX-Ey",
        "outputId": "5793236d-c672-4988-a341-657afa26ed85"
      },
      "outputs": [
        {
          "data": {
            "text/plain": [
              "4.308171461355626"
            ]
          },
          "execution_count": 20,
          "metadata": {},
          "output_type": "execute_result"
        }
      ],
      "source": [
        "train_df['bedroom'].mean()"
      ]
    },
    {
      "cell_type": "code",
      "execution_count": null,
      "metadata": {
        "id": "rSLOKwW9X-Ey"
      },
      "outputs": [],
      "source": [
        "# Filling Null Values with Mean\n",
        "train_df['bedroom'].fillna(train_df['bedroom'].mean(), inplace = True)\n",
        "test_df['bedroom'].fillna(test_df['bedroom'].mean(), inplace = True)"
      ]
    },
    {
      "cell_type": "code",
      "execution_count": null,
      "metadata": {
        "id": "0YgF4APQX-Ez",
        "outputId": "21cd4f40-e14b-41d0-92e5-c154fd423db8"
      },
      "outputs": [
        {
          "data": {
            "text/plain": [
              "count    14000.000000\n",
              "mean         4.308171\n",
              "std          2.278917\n",
              "min          1.000000\n",
              "25%          3.000000\n",
              "50%          4.308171\n",
              "75%          6.000000\n",
              "max          9.000000\n",
              "Name: bedroom, dtype: float64"
            ]
          },
          "execution_count": 24,
          "metadata": {},
          "output_type": "execute_result"
        }
      ],
      "source": [
        "train_df['bedroom'].describe()"
      ]
    },
    {
      "cell_type": "markdown",
      "metadata": {
        "id": "ebB2PAAmX-Ez"
      },
      "source": [
        "## Bathroom"
      ]
    },
    {
      "cell_type": "code",
      "execution_count": null,
      "metadata": {
        "id": "ZpMHdDgrX-E0",
        "outputId": "94bcc5bf-ad42-4b18-8f28-b61a341aa1a7"
      },
      "outputs": [
        {
          "data": {
            "text/plain": [
              "1.0    3272\n",
              "2.0    3255\n",
              "7.0    1156\n",
              "5.0    1143\n",
              "6.0    1138\n",
              "3.0    1119\n",
              "4.0    1112\n",
              "Name: bathroom, dtype: int64"
            ]
          },
          "execution_count": 17,
          "metadata": {},
          "output_type": "execute_result"
        }
      ],
      "source": [
        "train_df['bathroom'].value_counts()"
      ]
    },
    {
      "cell_type": "code",
      "execution_count": null,
      "metadata": {
        "id": "FvWQkS_2X-E0",
        "outputId": "7e3e03f0-4634-4ac8-a81d-ea82b1f03521"
      },
      "outputs": [
        {
          "data": {
            "text/plain": [
              "count    12195.000000\n",
              "mean         3.134235\n",
              "std          2.035950\n",
              "min          1.000000\n",
              "25%          1.000000\n",
              "50%          2.000000\n",
              "75%          5.000000\n",
              "max          7.000000\n",
              "Name: bathroom, dtype: float64"
            ]
          },
          "execution_count": 25,
          "metadata": {},
          "output_type": "execute_result"
        }
      ],
      "source": [
        "train_df['bathroom'].describe()"
      ]
    },
    {
      "cell_type": "code",
      "execution_count": null,
      "metadata": {
        "id": "LsF3Hb-lX-E1",
        "outputId": "4e8c5a1a-2f8e-4a9a-efd8-d0c0dc0e9042"
      },
      "outputs": [
        {
          "data": {
            "text/plain": [
              "3.1342353423534237"
            ]
          },
          "execution_count": 26,
          "metadata": {},
          "output_type": "execute_result"
        }
      ],
      "source": [
        "train_df['bathroom'].mean()"
      ]
    },
    {
      "cell_type": "code",
      "execution_count": null,
      "metadata": {
        "id": "EqosEU37X-E2"
      },
      "outputs": [],
      "source": [
        "# Filling Null Values\n",
        "\n",
        "train_df['bathroom'].fillna(train_df['bathroom'].mean(), inplace = True)\n",
        "\n",
        "test_df['bathroom'].fillna(test_df['bathroom'].mean(), inplace = True)"
      ]
    },
    {
      "cell_type": "code",
      "execution_count": null,
      "metadata": {
        "id": "WocDVN7RX-E2",
        "outputId": "28e7c2cb-a046-42b1-e4ab-5cc091045cc5"
      },
      "outputs": [
        {
          "data": {
            "text/plain": [
              "count    14000.000000\n",
              "mean         3.134235\n",
              "std          1.900167\n",
              "min          1.000000\n",
              "25%          2.000000\n",
              "50%          3.000000\n",
              "75%          4.000000\n",
              "max          7.000000\n",
              "Name: bathroom, dtype: float64"
            ]
          },
          "execution_count": 29,
          "metadata": {},
          "output_type": "execute_result"
        }
      ],
      "source": [
        "train_df['bathroom'].describe()"
      ]
    },
    {
      "cell_type": "markdown",
      "metadata": {
        "id": "U4aMYFq9X-E3"
      },
      "source": [
        "## Parking_space"
      ]
    },
    {
      "cell_type": "code",
      "execution_count": null,
      "metadata": {
        "id": "nMyQwFoBX-E4",
        "outputId": "0a80d452-3a03-4f37-fb64-52cd7f46be9d"
      },
      "outputs": [
        {
          "data": {
            "text/plain": [
              "4.0    2419\n",
              "2.0    2394\n",
              "3.0    2378\n",
              "1.0    2324\n",
              "6.0    1345\n",
              "5.0    1329\n",
              "Name: parking_space, dtype: int64"
            ]
          },
          "execution_count": 18,
          "metadata": {},
          "output_type": "execute_result"
        }
      ],
      "source": [
        "train_df['parking_space'].value_counts()"
      ]
    },
    {
      "cell_type": "code",
      "execution_count": null,
      "metadata": {
        "id": "5ZRi3gnKX-E4",
        "outputId": "e3e09ba9-20dc-4100-e96b-ad6f4d1a378c"
      },
      "outputs": [
        {
          "data": {
            "text/plain": [
              "count    12189.000000\n",
              "mean         3.169825\n",
              "std          1.599415\n",
              "min          1.000000\n",
              "25%          2.000000\n",
              "50%          3.000000\n",
              "75%          4.000000\n",
              "max          6.000000\n",
              "Name: parking_space, dtype: float64"
            ]
          },
          "execution_count": 30,
          "metadata": {},
          "output_type": "execute_result"
        }
      ],
      "source": [
        "train_df['parking_space'].describe()"
      ]
    },
    {
      "cell_type": "code",
      "execution_count": null,
      "metadata": {
        "id": "hEIpr1k1X-E5",
        "outputId": "96fff7e9-9ce1-4e26-f2d7-77e55b97c136"
      },
      "outputs": [
        {
          "data": {
            "text/plain": [
              "3.169825252276643"
            ]
          },
          "execution_count": 31,
          "metadata": {},
          "output_type": "execute_result"
        }
      ],
      "source": [
        "# Finding the mean of the Parking Space\n",
        "\n",
        "train_df['parking_space'].mean()"
      ]
    },
    {
      "cell_type": "code",
      "execution_count": null,
      "metadata": {
        "id": "hQT3WLgsX-E6"
      },
      "outputs": [],
      "source": [
        "#Filling the Null values with the Mean of the Train and Test Data\n",
        "\n",
        "train_df['parking_space'].fillna(train_df['parking_space'].mean, inplace = True)\n",
        "test_df['parking_space'].fillna(test_df['parking_space'].mean(), inplace = True)"
      ]
    },
    {
      "cell_type": "code",
      "execution_count": null,
      "metadata": {
        "id": "rECsoa2IX-E6",
        "outputId": "cd4f4315-f718-4e15-f54b-418312bde5e0"
      },
      "outputs": [
        {
          "data": {
            "text/plain": [
              "ID                  0\n",
              "loc              1813\n",
              "title            1722\n",
              "bedroom             0\n",
              "bathroom            0\n",
              "parking_space       0\n",
              "price               0\n",
              "dtype: int64"
            ]
          },
          "execution_count": 33,
          "metadata": {},
          "output_type": "execute_result"
        }
      ],
      "source": [
        "train_df.isnull().sum()"
      ]
    },
    {
      "cell_type": "markdown",
      "metadata": {
        "id": "aaVC8pbZX-E7"
      },
      "source": [
        "## loc"
      ]
    },
    {
      "cell_type": "code",
      "execution_count": null,
      "metadata": {
        "id": "nPmlD4qaX-E7",
        "outputId": "7a1affee-b838-4af5-81ce-7841843f3680"
      },
      "outputs": [
        {
          "data": {
            "text/plain": [
              "Kaduna         370\n",
              "Anambra        363\n",
              "Benue          355\n",
              "Yobe           353\n",
              "Borno          351\n",
              "Kano           351\n",
              "Nasarawa       349\n",
              "Cross River    349\n",
              "Zamfara        348\n",
              "Imo            348\n",
              "Ebonyi         346\n",
              "Kebbi          346\n",
              "Katsina        345\n",
              "Ogun           345\n",
              "Ondo           344\n",
              "Name: loc, dtype: int64"
            ]
          },
          "execution_count": 36,
          "metadata": {},
          "output_type": "execute_result"
        }
      ],
      "source": [
        "train['loc'].value_counts(ascending = False).head(15)"
      ]
    },
    {
      "cell_type": "code",
      "execution_count": null,
      "metadata": {
        "id": "IEEcRabIX-E8",
        "outputId": "cf7d50ef-007f-4b8b-d34c-7501eb354198"
      },
      "outputs": [
        {
          "data": {
            "text/plain": [
              "1813"
            ]
          },
          "execution_count": 38,
          "metadata": {},
          "output_type": "execute_result"
        }
      ],
      "source": [
        "train['loc'].isnull().sum()"
      ]
    },
    {
      "cell_type": "markdown",
      "metadata": {
        "id": "FkkWtXNmX-E9"
      },
      "source": [
        "## title - `House Type`"
      ]
    },
    {
      "cell_type": "code",
      "execution_count": null,
      "metadata": {
        "id": "wC-C9prbX-E9",
        "outputId": "94df502e-21ee-4122-ebda-24e6b9d603e7"
      },
      "outputs": [
        {
          "data": {
            "text/plain": [
              "7.0     1372\n",
              "9.0     1331\n",
              "3.0     1327\n",
              "10.0    1322\n",
              "5.0     1312\n",
              "8.0     1306\n",
              "6.0     1299\n",
              "2.0     1293\n",
              "4.0     1266\n",
              "1.0      450\n",
              "Name: title, dtype: int64"
            ]
          },
          "execution_count": 5,
          "metadata": {},
          "output_type": "execute_result"
        }
      ],
      "source": [
        "train_df['title'].value_counts()"
      ]
    },
    {
      "cell_type": "code",
      "execution_count": null,
      "metadata": {
        "id": "U6w4e50cX-E-",
        "outputId": "45ac2d0c-5e37-40fd-aa1a-18f64fd1a494"
      },
      "outputs": [
        {
          "data": {
            "text/html": [
              "<div>\n",
              "<style scoped>\n",
              "    .dataframe tbody tr th:only-of-type {\n",
              "        vertical-align: middle;\n",
              "    }\n",
              "\n",
              "    .dataframe tbody tr th {\n",
              "        vertical-align: top;\n",
              "    }\n",
              "\n",
              "    .dataframe thead th {\n",
              "        text-align: right;\n",
              "    }\n",
              "</style>\n",
              "<table border=\"1\" class=\"dataframe\">\n",
              "  <thead>\n",
              "    <tr style=\"text-align: right;\">\n",
              "      <th></th>\n",
              "      <th>ID</th>\n",
              "      <th>loc</th>\n",
              "      <th>title</th>\n",
              "      <th>bedroom</th>\n",
              "      <th>bathroom</th>\n",
              "      <th>parking_space</th>\n",
              "      <th>price</th>\n",
              "    </tr>\n",
              "  </thead>\n",
              "  <tbody>\n",
              "    <tr>\n",
              "      <th>0</th>\n",
              "      <td>3583</td>\n",
              "      <td>Katsina</td>\n",
              "      <td>6.0</td>\n",
              "      <td>2.0</td>\n",
              "      <td>2.0</td>\n",
              "      <td>1.0</td>\n",
              "      <td>1149999.565</td>\n",
              "    </tr>\n",
              "    <tr>\n",
              "      <th>1</th>\n",
              "      <td>2748</td>\n",
              "      <td>Ondo</td>\n",
              "      <td>9.0</td>\n",
              "      <td>NaN</td>\n",
              "      <td>2.0</td>\n",
              "      <td>4.0</td>\n",
              "      <td>1672416.689</td>\n",
              "    </tr>\n",
              "    <tr>\n",
              "      <th>2</th>\n",
              "      <td>9261</td>\n",
              "      <td>Ekiti</td>\n",
              "      <td>NaN</td>\n",
              "      <td>7.0</td>\n",
              "      <td>5.0</td>\n",
              "      <td>NaN</td>\n",
              "      <td>3364799.814</td>\n",
              "    </tr>\n",
              "    <tr>\n",
              "      <th>3</th>\n",
              "      <td>2224</td>\n",
              "      <td>Anambra</td>\n",
              "      <td>5.0</td>\n",
              "      <td>5.0</td>\n",
              "      <td>2.0</td>\n",
              "      <td>4.0</td>\n",
              "      <td>2410306.756</td>\n",
              "    </tr>\n",
              "    <tr>\n",
              "      <th>4</th>\n",
              "      <td>10300</td>\n",
              "      <td>Kogi</td>\n",
              "      <td>4.0</td>\n",
              "      <td>NaN</td>\n",
              "      <td>5.0</td>\n",
              "      <td>6.0</td>\n",
              "      <td>2600700.898</td>\n",
              "    </tr>\n",
              "  </tbody>\n",
              "</table>\n",
              "</div>"
            ],
            "text/plain": [
              "      ID      loc  title  bedroom  bathroom  parking_space        price\n",
              "0   3583  Katsina    6.0      2.0       2.0            1.0  1149999.565\n",
              "1   2748     Ondo    9.0      NaN       2.0            4.0  1672416.689\n",
              "2   9261    Ekiti    NaN      7.0       5.0            NaN  3364799.814\n",
              "3   2224  Anambra    5.0      5.0       2.0            4.0  2410306.756\n",
              "4  10300     Kogi    4.0      NaN       5.0            6.0  2600700.898"
            ]
          },
          "execution_count": 9,
          "metadata": {},
          "output_type": "execute_result"
        }
      ],
      "source": [
        "train_df.head()"
      ]
    },
    {
      "cell_type": "code",
      "source": [
        "#Filling the Null values with the Mean of the Train and Test Data\n",
        "\n",
        "#train_df['parking_space'].fillna(train_df['parking_space'].mean, inplace = True)\n",
        "#test_df['parking_space'].fillna(test_df['parking_space'].mean(), inplace = True)"
      ],
      "metadata": {
        "id": "UzgNkGnrt0m3"
      },
      "execution_count": null,
      "outputs": []
    },
    {
      "cell_type": "markdown",
      "metadata": {
        "id": "6IWuXrRlX-E-"
      },
      "source": [
        "## Feature Engineering\n",
        "\n",
        "*Join the train and test dataset together for easy access during feature engineering*"
      ]
    },
    {
      "cell_type": "code",
      "execution_count": 73,
      "metadata": {
        "id": "VpETOsKmX-E_"
      },
      "outputs": [],
      "source": [
        "df = train_df.drop(\"price\", axis=1).append(test_df)"
      ]
    },
    {
      "cell_type": "code",
      "execution_count": 74,
      "metadata": {
        "colab": {
          "base_uri": "https://localhost:8080/"
        },
        "id": "7AoyGerWX-FA",
        "outputId": "f4696c65-05cb-4ca9-a832-038f31d564df"
      },
      "outputs": [
        {
          "output_type": "execute_result",
          "data": {
            "text/plain": [
              "(20000, 6)"
            ]
          },
          "metadata": {},
          "execution_count": 74
        }
      ],
      "source": [
        "df.shape"
      ]
    },
    {
      "cell_type": "code",
      "execution_count": 75,
      "metadata": {
        "colab": {
          "base_uri": "https://localhost:8080/",
          "height": 206
        },
        "id": "BpwHV4N1X-FA",
        "outputId": "1a60264b-b7d1-46db-ec12-6fcbe9079e17"
      },
      "outputs": [
        {
          "output_type": "execute_result",
          "data": {
            "text/plain": [
              "      ID      loc                 title  bedroom  bathroom  parking_space\n",
              "0   3583  Katsina  Semi-detached duplex      2.0       2.0            1.0\n",
              "1   2748     Ondo             Apartment      NaN       2.0            4.0\n",
              "2   9261    Ekiti                   NaN      7.0       5.0            NaN\n",
              "3   2224  Anambra       Detached duplex      5.0       2.0            4.0\n",
              "4  10300     Kogi        Terrace duplex      NaN       5.0            6.0"
            ],
            "text/html": [
              "\n",
              "\n",
              "  <div id=\"df-bf12e058-8442-435e-b0b1-faa65f7f6fee\">\n",
              "    <div class=\"colab-df-container\">\n",
              "      <div>\n",
              "<style scoped>\n",
              "    .dataframe tbody tr th:only-of-type {\n",
              "        vertical-align: middle;\n",
              "    }\n",
              "\n",
              "    .dataframe tbody tr th {\n",
              "        vertical-align: top;\n",
              "    }\n",
              "\n",
              "    .dataframe thead th {\n",
              "        text-align: right;\n",
              "    }\n",
              "</style>\n",
              "<table border=\"1\" class=\"dataframe\">\n",
              "  <thead>\n",
              "    <tr style=\"text-align: right;\">\n",
              "      <th></th>\n",
              "      <th>ID</th>\n",
              "      <th>loc</th>\n",
              "      <th>title</th>\n",
              "      <th>bedroom</th>\n",
              "      <th>bathroom</th>\n",
              "      <th>parking_space</th>\n",
              "    </tr>\n",
              "  </thead>\n",
              "  <tbody>\n",
              "    <tr>\n",
              "      <th>0</th>\n",
              "      <td>3583</td>\n",
              "      <td>Katsina</td>\n",
              "      <td>Semi-detached duplex</td>\n",
              "      <td>2.0</td>\n",
              "      <td>2.0</td>\n",
              "      <td>1.0</td>\n",
              "    </tr>\n",
              "    <tr>\n",
              "      <th>1</th>\n",
              "      <td>2748</td>\n",
              "      <td>Ondo</td>\n",
              "      <td>Apartment</td>\n",
              "      <td>NaN</td>\n",
              "      <td>2.0</td>\n",
              "      <td>4.0</td>\n",
              "    </tr>\n",
              "    <tr>\n",
              "      <th>2</th>\n",
              "      <td>9261</td>\n",
              "      <td>Ekiti</td>\n",
              "      <td>NaN</td>\n",
              "      <td>7.0</td>\n",
              "      <td>5.0</td>\n",
              "      <td>NaN</td>\n",
              "    </tr>\n",
              "    <tr>\n",
              "      <th>3</th>\n",
              "      <td>2224</td>\n",
              "      <td>Anambra</td>\n",
              "      <td>Detached duplex</td>\n",
              "      <td>5.0</td>\n",
              "      <td>2.0</td>\n",
              "      <td>4.0</td>\n",
              "    </tr>\n",
              "    <tr>\n",
              "      <th>4</th>\n",
              "      <td>10300</td>\n",
              "      <td>Kogi</td>\n",
              "      <td>Terrace duplex</td>\n",
              "      <td>NaN</td>\n",
              "      <td>5.0</td>\n",
              "      <td>6.0</td>\n",
              "    </tr>\n",
              "  </tbody>\n",
              "</table>\n",
              "</div>\n",
              "      <button class=\"colab-df-convert\" onclick=\"convertToInteractive('df-bf12e058-8442-435e-b0b1-faa65f7f6fee')\"\n",
              "              title=\"Convert this dataframe to an interactive table.\"\n",
              "              style=\"display:none;\">\n",
              "\n",
              "  <svg xmlns=\"http://www.w3.org/2000/svg\" height=\"24px\"viewBox=\"0 0 24 24\"\n",
              "       width=\"24px\">\n",
              "    <path d=\"M0 0h24v24H0V0z\" fill=\"none\"/>\n",
              "    <path d=\"M18.56 5.44l.94 2.06.94-2.06 2.06-.94-2.06-.94-.94-2.06-.94 2.06-2.06.94zm-11 1L8.5 8.5l.94-2.06 2.06-.94-2.06-.94L8.5 2.5l-.94 2.06-2.06.94zm10 10l.94 2.06.94-2.06 2.06-.94-2.06-.94-.94-2.06-.94 2.06-2.06.94z\"/><path d=\"M17.41 7.96l-1.37-1.37c-.4-.4-.92-.59-1.43-.59-.52 0-1.04.2-1.43.59L10.3 9.45l-7.72 7.72c-.78.78-.78 2.05 0 2.83L4 21.41c.39.39.9.59 1.41.59.51 0 1.02-.2 1.41-.59l7.78-7.78 2.81-2.81c.8-.78.8-2.07 0-2.86zM5.41 20L4 18.59l7.72-7.72 1.47 1.35L5.41 20z\"/>\n",
              "  </svg>\n",
              "      </button>\n",
              "\n",
              "\n",
              "\n",
              "    <div id=\"df-fef021f8-a7cc-4bc1-9176-a91ebeb52846\">\n",
              "      <button class=\"colab-df-quickchart\" onclick=\"quickchart('df-fef021f8-a7cc-4bc1-9176-a91ebeb52846')\"\n",
              "              title=\"Suggest charts.\"\n",
              "              style=\"display:none;\">\n",
              "\n",
              "<svg xmlns=\"http://www.w3.org/2000/svg\" height=\"24px\"viewBox=\"0 0 24 24\"\n",
              "     width=\"24px\">\n",
              "    <g>\n",
              "        <path d=\"M19 3H5c-1.1 0-2 .9-2 2v14c0 1.1.9 2 2 2h14c1.1 0 2-.9 2-2V5c0-1.1-.9-2-2-2zM9 17H7v-7h2v7zm4 0h-2V7h2v10zm4 0h-2v-4h2v4z\"/>\n",
              "    </g>\n",
              "</svg>\n",
              "      </button>\n",
              "    </div>\n",
              "\n",
              "<style>\n",
              "  .colab-df-quickchart {\n",
              "    background-color: #E8F0FE;\n",
              "    border: none;\n",
              "    border-radius: 50%;\n",
              "    cursor: pointer;\n",
              "    display: none;\n",
              "    fill: #1967D2;\n",
              "    height: 32px;\n",
              "    padding: 0 0 0 0;\n",
              "    width: 32px;\n",
              "  }\n",
              "\n",
              "  .colab-df-quickchart:hover {\n",
              "    background-color: #E2EBFA;\n",
              "    box-shadow: 0px 1px 2px rgba(60, 64, 67, 0.3), 0px 1px 3px 1px rgba(60, 64, 67, 0.15);\n",
              "    fill: #174EA6;\n",
              "  }\n",
              "\n",
              "  [theme=dark] .colab-df-quickchart {\n",
              "    background-color: #3B4455;\n",
              "    fill: #D2E3FC;\n",
              "  }\n",
              "\n",
              "  [theme=dark] .colab-df-quickchart:hover {\n",
              "    background-color: #434B5C;\n",
              "    box-shadow: 0px 1px 3px 1px rgba(0, 0, 0, 0.15);\n",
              "    filter: drop-shadow(0px 1px 2px rgba(0, 0, 0, 0.3));\n",
              "    fill: #FFFFFF;\n",
              "  }\n",
              "</style>\n",
              "\n",
              "    <script>\n",
              "      async function quickchart(key) {\n",
              "        const containerElement = document.querySelector('#' + key);\n",
              "        const charts = await google.colab.kernel.invokeFunction(\n",
              "            'suggestCharts', [key], {});\n",
              "      }\n",
              "    </script>\n",
              "\n",
              "      <script>\n",
              "\n",
              "function displayQuickchartButton(domScope) {\n",
              "  let quickchartButtonEl =\n",
              "    domScope.querySelector('#df-fef021f8-a7cc-4bc1-9176-a91ebeb52846 button.colab-df-quickchart');\n",
              "  quickchartButtonEl.style.display =\n",
              "    google.colab.kernel.accessAllowed ? 'block' : 'none';\n",
              "}\n",
              "\n",
              "        displayQuickchartButton(document);\n",
              "      </script>\n",
              "      <style>\n",
              "    .colab-df-container {\n",
              "      display:flex;\n",
              "      flex-wrap:wrap;\n",
              "      gap: 12px;\n",
              "    }\n",
              "\n",
              "    .colab-df-convert {\n",
              "      background-color: #E8F0FE;\n",
              "      border: none;\n",
              "      border-radius: 50%;\n",
              "      cursor: pointer;\n",
              "      display: none;\n",
              "      fill: #1967D2;\n",
              "      height: 32px;\n",
              "      padding: 0 0 0 0;\n",
              "      width: 32px;\n",
              "    }\n",
              "\n",
              "    .colab-df-convert:hover {\n",
              "      background-color: #E2EBFA;\n",
              "      box-shadow: 0px 1px 2px rgba(60, 64, 67, 0.3), 0px 1px 3px 1px rgba(60, 64, 67, 0.15);\n",
              "      fill: #174EA6;\n",
              "    }\n",
              "\n",
              "    [theme=dark] .colab-df-convert {\n",
              "      background-color: #3B4455;\n",
              "      fill: #D2E3FC;\n",
              "    }\n",
              "\n",
              "    [theme=dark] .colab-df-convert:hover {\n",
              "      background-color: #434B5C;\n",
              "      box-shadow: 0px 1px 3px 1px rgba(0, 0, 0, 0.15);\n",
              "      filter: drop-shadow(0px 1px 2px rgba(0, 0, 0, 0.3));\n",
              "      fill: #FFFFFF;\n",
              "    }\n",
              "  </style>\n",
              "\n",
              "      <script>\n",
              "        const buttonEl =\n",
              "          document.querySelector('#df-bf12e058-8442-435e-b0b1-faa65f7f6fee button.colab-df-convert');\n",
              "        buttonEl.style.display =\n",
              "          google.colab.kernel.accessAllowed ? 'block' : 'none';\n",
              "\n",
              "        async function convertToInteractive(key) {\n",
              "          const element = document.querySelector('#df-bf12e058-8442-435e-b0b1-faa65f7f6fee');\n",
              "          const dataTable =\n",
              "            await google.colab.kernel.invokeFunction('convertToInteractive',\n",
              "                                                     [key], {});\n",
              "          if (!dataTable) return;\n",
              "\n",
              "          const docLinkHtml = 'Like what you see? Visit the ' +\n",
              "            '<a target=\"_blank\" href=https://colab.research.google.com/notebooks/data_table.ipynb>data table notebook</a>'\n",
              "            + ' to learn more about interactive tables.';\n",
              "          element.innerHTML = '';\n",
              "          dataTable['output_type'] = 'display_data';\n",
              "          await google.colab.output.renderOutput(dataTable, element);\n",
              "          const docLink = document.createElement('div');\n",
              "          docLink.innerHTML = docLinkHtml;\n",
              "          element.appendChild(docLink);\n",
              "        }\n",
              "      </script>\n",
              "    </div>\n",
              "  </div>\n"
            ]
          },
          "metadata": {},
          "execution_count": 75
        }
      ],
      "source": [
        "df.head()"
      ]
    },
    {
      "cell_type": "code",
      "execution_count": 76,
      "metadata": {
        "colab": {
          "base_uri": "https://localhost:8080/",
          "height": 206
        },
        "id": "REbUcGPBX-FB",
        "outputId": "15e85fed-7798-41be-b5a6-69c1a9306251"
      },
      "outputs": [
        {
          "output_type": "execute_result",
          "data": {
            "text/plain": [
              "      ID      loc  title  bedroom  bathroom  parking_space\n",
              "0   3583  Katsina    6.0      2.0       2.0            1.0\n",
              "1   2748     Ondo    9.0      NaN       2.0            4.0\n",
              "2   9261    Ekiti    NaN      7.0       5.0            NaN\n",
              "3   2224  Anambra    5.0      5.0       2.0            4.0\n",
              "4  10300     Kogi    4.0      NaN       5.0            6.0"
            ],
            "text/html": [
              "\n",
              "\n",
              "  <div id=\"df-f4aa15b9-0242-4f55-a5e8-06b168ef21f7\">\n",
              "    <div class=\"colab-df-container\">\n",
              "      <div>\n",
              "<style scoped>\n",
              "    .dataframe tbody tr th:only-of-type {\n",
              "        vertical-align: middle;\n",
              "    }\n",
              "\n",
              "    .dataframe tbody tr th {\n",
              "        vertical-align: top;\n",
              "    }\n",
              "\n",
              "    .dataframe thead th {\n",
              "        text-align: right;\n",
              "    }\n",
              "</style>\n",
              "<table border=\"1\" class=\"dataframe\">\n",
              "  <thead>\n",
              "    <tr style=\"text-align: right;\">\n",
              "      <th></th>\n",
              "      <th>ID</th>\n",
              "      <th>loc</th>\n",
              "      <th>title</th>\n",
              "      <th>bedroom</th>\n",
              "      <th>bathroom</th>\n",
              "      <th>parking_space</th>\n",
              "    </tr>\n",
              "  </thead>\n",
              "  <tbody>\n",
              "    <tr>\n",
              "      <th>0</th>\n",
              "      <td>3583</td>\n",
              "      <td>Katsina</td>\n",
              "      <td>6.0</td>\n",
              "      <td>2.0</td>\n",
              "      <td>2.0</td>\n",
              "      <td>1.0</td>\n",
              "    </tr>\n",
              "    <tr>\n",
              "      <th>1</th>\n",
              "      <td>2748</td>\n",
              "      <td>Ondo</td>\n",
              "      <td>9.0</td>\n",
              "      <td>NaN</td>\n",
              "      <td>2.0</td>\n",
              "      <td>4.0</td>\n",
              "    </tr>\n",
              "    <tr>\n",
              "      <th>2</th>\n",
              "      <td>9261</td>\n",
              "      <td>Ekiti</td>\n",
              "      <td>NaN</td>\n",
              "      <td>7.0</td>\n",
              "      <td>5.0</td>\n",
              "      <td>NaN</td>\n",
              "    </tr>\n",
              "    <tr>\n",
              "      <th>3</th>\n",
              "      <td>2224</td>\n",
              "      <td>Anambra</td>\n",
              "      <td>5.0</td>\n",
              "      <td>5.0</td>\n",
              "      <td>2.0</td>\n",
              "      <td>4.0</td>\n",
              "    </tr>\n",
              "    <tr>\n",
              "      <th>4</th>\n",
              "      <td>10300</td>\n",
              "      <td>Kogi</td>\n",
              "      <td>4.0</td>\n",
              "      <td>NaN</td>\n",
              "      <td>5.0</td>\n",
              "      <td>6.0</td>\n",
              "    </tr>\n",
              "  </tbody>\n",
              "</table>\n",
              "</div>\n",
              "      <button class=\"colab-df-convert\" onclick=\"convertToInteractive('df-f4aa15b9-0242-4f55-a5e8-06b168ef21f7')\"\n",
              "              title=\"Convert this dataframe to an interactive table.\"\n",
              "              style=\"display:none;\">\n",
              "\n",
              "  <svg xmlns=\"http://www.w3.org/2000/svg\" height=\"24px\"viewBox=\"0 0 24 24\"\n",
              "       width=\"24px\">\n",
              "    <path d=\"M0 0h24v24H0V0z\" fill=\"none\"/>\n",
              "    <path d=\"M18.56 5.44l.94 2.06.94-2.06 2.06-.94-2.06-.94-.94-2.06-.94 2.06-2.06.94zm-11 1L8.5 8.5l.94-2.06 2.06-.94-2.06-.94L8.5 2.5l-.94 2.06-2.06.94zm10 10l.94 2.06.94-2.06 2.06-.94-2.06-.94-.94-2.06-.94 2.06-2.06.94z\"/><path d=\"M17.41 7.96l-1.37-1.37c-.4-.4-.92-.59-1.43-.59-.52 0-1.04.2-1.43.59L10.3 9.45l-7.72 7.72c-.78.78-.78 2.05 0 2.83L4 21.41c.39.39.9.59 1.41.59.51 0 1.02-.2 1.41-.59l7.78-7.78 2.81-2.81c.8-.78.8-2.07 0-2.86zM5.41 20L4 18.59l7.72-7.72 1.47 1.35L5.41 20z\"/>\n",
              "  </svg>\n",
              "      </button>\n",
              "\n",
              "\n",
              "\n",
              "    <div id=\"df-35c6d8ba-1989-49fe-83e9-4d91a2ec0e0a\">\n",
              "      <button class=\"colab-df-quickchart\" onclick=\"quickchart('df-35c6d8ba-1989-49fe-83e9-4d91a2ec0e0a')\"\n",
              "              title=\"Suggest charts.\"\n",
              "              style=\"display:none;\">\n",
              "\n",
              "<svg xmlns=\"http://www.w3.org/2000/svg\" height=\"24px\"viewBox=\"0 0 24 24\"\n",
              "     width=\"24px\">\n",
              "    <g>\n",
              "        <path d=\"M19 3H5c-1.1 0-2 .9-2 2v14c0 1.1.9 2 2 2h14c1.1 0 2-.9 2-2V5c0-1.1-.9-2-2-2zM9 17H7v-7h2v7zm4 0h-2V7h2v10zm4 0h-2v-4h2v4z\"/>\n",
              "    </g>\n",
              "</svg>\n",
              "      </button>\n",
              "    </div>\n",
              "\n",
              "<style>\n",
              "  .colab-df-quickchart {\n",
              "    background-color: #E8F0FE;\n",
              "    border: none;\n",
              "    border-radius: 50%;\n",
              "    cursor: pointer;\n",
              "    display: none;\n",
              "    fill: #1967D2;\n",
              "    height: 32px;\n",
              "    padding: 0 0 0 0;\n",
              "    width: 32px;\n",
              "  }\n",
              "\n",
              "  .colab-df-quickchart:hover {\n",
              "    background-color: #E2EBFA;\n",
              "    box-shadow: 0px 1px 2px rgba(60, 64, 67, 0.3), 0px 1px 3px 1px rgba(60, 64, 67, 0.15);\n",
              "    fill: #174EA6;\n",
              "  }\n",
              "\n",
              "  [theme=dark] .colab-df-quickchart {\n",
              "    background-color: #3B4455;\n",
              "    fill: #D2E3FC;\n",
              "  }\n",
              "\n",
              "  [theme=dark] .colab-df-quickchart:hover {\n",
              "    background-color: #434B5C;\n",
              "    box-shadow: 0px 1px 3px 1px rgba(0, 0, 0, 0.15);\n",
              "    filter: drop-shadow(0px 1px 2px rgba(0, 0, 0, 0.3));\n",
              "    fill: #FFFFFF;\n",
              "  }\n",
              "</style>\n",
              "\n",
              "    <script>\n",
              "      async function quickchart(key) {\n",
              "        const containerElement = document.querySelector('#' + key);\n",
              "        const charts = await google.colab.kernel.invokeFunction(\n",
              "            'suggestCharts', [key], {});\n",
              "      }\n",
              "    </script>\n",
              "\n",
              "      <script>\n",
              "\n",
              "function displayQuickchartButton(domScope) {\n",
              "  let quickchartButtonEl =\n",
              "    domScope.querySelector('#df-35c6d8ba-1989-49fe-83e9-4d91a2ec0e0a button.colab-df-quickchart');\n",
              "  quickchartButtonEl.style.display =\n",
              "    google.colab.kernel.accessAllowed ? 'block' : 'none';\n",
              "}\n",
              "\n",
              "        displayQuickchartButton(document);\n",
              "      </script>\n",
              "      <style>\n",
              "    .colab-df-container {\n",
              "      display:flex;\n",
              "      flex-wrap:wrap;\n",
              "      gap: 12px;\n",
              "    }\n",
              "\n",
              "    .colab-df-convert {\n",
              "      background-color: #E8F0FE;\n",
              "      border: none;\n",
              "      border-radius: 50%;\n",
              "      cursor: pointer;\n",
              "      display: none;\n",
              "      fill: #1967D2;\n",
              "      height: 32px;\n",
              "      padding: 0 0 0 0;\n",
              "      width: 32px;\n",
              "    }\n",
              "\n",
              "    .colab-df-convert:hover {\n",
              "      background-color: #E2EBFA;\n",
              "      box-shadow: 0px 1px 2px rgba(60, 64, 67, 0.3), 0px 1px 3px 1px rgba(60, 64, 67, 0.15);\n",
              "      fill: #174EA6;\n",
              "    }\n",
              "\n",
              "    [theme=dark] .colab-df-convert {\n",
              "      background-color: #3B4455;\n",
              "      fill: #D2E3FC;\n",
              "    }\n",
              "\n",
              "    [theme=dark] .colab-df-convert:hover {\n",
              "      background-color: #434B5C;\n",
              "      box-shadow: 0px 1px 3px 1px rgba(0, 0, 0, 0.15);\n",
              "      filter: drop-shadow(0px 1px 2px rgba(0, 0, 0, 0.3));\n",
              "      fill: #FFFFFF;\n",
              "    }\n",
              "  </style>\n",
              "\n",
              "      <script>\n",
              "        const buttonEl =\n",
              "          document.querySelector('#df-f4aa15b9-0242-4f55-a5e8-06b168ef21f7 button.colab-df-convert');\n",
              "        buttonEl.style.display =\n",
              "          google.colab.kernel.accessAllowed ? 'block' : 'none';\n",
              "\n",
              "        async function convertToInteractive(key) {\n",
              "          const element = document.querySelector('#df-f4aa15b9-0242-4f55-a5e8-06b168ef21f7');\n",
              "          const dataTable =\n",
              "            await google.colab.kernel.invokeFunction('convertToInteractive',\n",
              "                                                     [key], {});\n",
              "          if (!dataTable) return;\n",
              "\n",
              "          const docLinkHtml = 'Like what you see? Visit the ' +\n",
              "            '<a target=\"_blank\" href=https://colab.research.google.com/notebooks/data_table.ipynb>data table notebook</a>'\n",
              "            + ' to learn more about interactive tables.';\n",
              "          element.innerHTML = '';\n",
              "          dataTable['output_type'] = 'display_data';\n",
              "          await google.colab.output.renderOutput(dataTable, element);\n",
              "          const docLink = document.createElement('div');\n",
              "          docLink.innerHTML = docLinkHtml;\n",
              "          element.appendChild(docLink);\n",
              "        }\n",
              "      </script>\n",
              "    </div>\n",
              "  </div>\n"
            ]
          },
          "metadata": {},
          "execution_count": 76
        }
      ],
      "source": [
        "# Define the ranking based on size (arranged from smallest to biggest)\n",
        "# This makes the Algorithm think that the column is an ordinal feature\n",
        "\n",
        "house_type_ranks = {\n",
        "    'Cottage': 1,\n",
        "    'Bungalow': 2,\n",
        "    'Townhouse': 3,\n",
        "    'Terrace duplex': 4,\n",
        "    'Detached duplex': 5,\n",
        "    'Semi-detached duplex': 6,\n",
        "    'Flat': 7,\n",
        "    'Penthouse': 8,\n",
        "    'Apartment': 9,\n",
        "    'Mansion': 10\n",
        "}\n",
        "\n",
        "# Map the house types to numerical values based on size ranking\n",
        "df['title'] = df['title'].map(house_type_ranks)\n",
        "\n",
        "# Print the updated dataframe\n",
        "df.head()"
      ]
    },
    {
      "cell_type": "code",
      "source": [
        "# Define the mapping of states to regions in a dictionary\n",
        "state_to_region = {\n",
        "    'Jigawa': 'North-West',\n",
        "    'Kaduna': 'North-West',\n",
        "    'Kano': 'North-West',\n",
        "    'Katsina': 'North-West',\n",
        "    'Kebbi': 'North-West',\n",
        "    'Sokoto': 'North-West',\n",
        "    'Zamfara': 'North-West',\n",
        "    'Adamawa': 'North-East',\n",
        "    'Bauchi': 'North-East',\n",
        "    'Borno': 'North-East',\n",
        "    'Gombe': 'North-East',\n",
        "    'Taraba': 'North-East',\n",
        "    'Yobe': 'North-East',\n",
        "    'Benue': 'North-Central',\n",
        "    'Kogi': 'North-Central',\n",
        "    'Kwara': 'North-Central',\n",
        "    'Nasarawa': 'North-Central',\n",
        "    'Niger': 'North-Central',\n",
        "    'Plateau': 'North-Central',\n",
        "    'Ekiti': 'South-West',\n",
        "    'Lagos': 'South-West',\n",
        "    'Ogun': 'South-West',\n",
        "    'Ondo': 'South-West',\n",
        "    'Osun': 'South-West',\n",
        "    'Oyo': 'South-West',\n",
        "    'Abia': 'South-East',\n",
        "    'Anambra': 'South-East',\n",
        "    'Ebonyi': 'South-East',\n",
        "    'Enugu': 'South-East',\n",
        "    'Imo': 'South-East',\n",
        "    'Akwa Ibom': 'South-South',\n",
        "    'Bayelsa': 'South-South',\n",
        "    'Cross River': 'South-South',\n",
        "    'Delta': 'South-South',\n",
        "    'Edo': 'South-South',\n",
        "    'Rivers': 'South-South',\n",
        "}"
      ],
      "metadata": {
        "id": "uOM9qtxOuCYR"
      },
      "execution_count": 77,
      "outputs": []
    },
    {
      "cell_type": "code",
      "source": [
        "df['loc_regions'] = df['loc'].map(state_to_region)"
      ],
      "metadata": {
        "id": "Vq0C11tsuf5j"
      },
      "execution_count": 78,
      "outputs": []
    },
    {
      "cell_type": "code",
      "source": [
        "df['loc_regions'].value_counts()"
      ],
      "metadata": {
        "colab": {
          "base_uri": "https://localhost:8080/"
        },
        "id": "rL5tgAFTwwLH",
        "outputId": "28ab2c88-afd3-444f-96e2-44f2565e7086"
      },
      "execution_count": 79,
      "outputs": [
        {
          "output_type": "execute_result",
          "data": {
            "text/plain": [
              "North-West       3587\n",
              "South-West       3079\n",
              "North-East       3067\n",
              "North-Central    3025\n",
              "South-South      2923\n",
              "South-East       2506\n",
              "Name: loc_regions, dtype: int64"
            ]
          },
          "metadata": {},
          "execution_count": 79
        }
      ]
    },
    {
      "cell_type": "code",
      "source": [
        "df.columns"
      ],
      "metadata": {
        "colab": {
          "base_uri": "https://localhost:8080/"
        },
        "id": "bIYqohYC0Nyi",
        "outputId": "963b8d78-5ccd-44e7-876b-7420bb235200"
      },
      "execution_count": 69,
      "outputs": [
        {
          "output_type": "execute_result",
          "data": {
            "text/plain": [
              "Index(['ID', 'loc', 'title', 'bedroom', 'bathroom', 'parking_space',\n",
              "       'loc_regions'],\n",
              "      dtype='object')"
            ]
          },
          "metadata": {},
          "execution_count": 69
        }
      ]
    },
    {
      "cell_type": "code",
      "source": [
        "from sklearn.preprocessing import LabelEncoder"
      ],
      "metadata": {
        "id": "s6mIQuZmz6d7"
      },
      "execution_count": 61,
      "outputs": []
    },
    {
      "cell_type": "code",
      "source": [
        "le = LabelEncoder()\n",
        "df['loc_regions'] = le.fit_transform(df['loc_regions'])\n",
        "df['loc_regions'].head()"
      ],
      "metadata": {
        "colab": {
          "base_uri": "https://localhost:8080/"
        },
        "id": "GiKIq_hPzgZy",
        "outputId": "cbce66a0-d42d-42c4-94c0-405a27dbd33a"
      },
      "execution_count": 80,
      "outputs": [
        {
          "output_type": "execute_result",
          "data": {
            "text/plain": [
              "0    2\n",
              "1    5\n",
              "2    5\n",
              "3    3\n",
              "4    0\n",
              "Name: loc_regions, dtype: int64"
            ]
          },
          "metadata": {},
          "execution_count": 80
        }
      ]
    },
    {
      "cell_type": "code",
      "execution_count": 81,
      "metadata": {
        "colab": {
          "base_uri": "https://localhost:8080/",
          "height": 206
        },
        "id": "4p8QSmHLX-FC",
        "outputId": "0b070593-2033-4472-9fbb-854d4498f38b"
      },
      "outputs": [
        {
          "output_type": "execute_result",
          "data": {
            "text/plain": [
              "      ID       loc  title  bedroom  bathroom  parking_space  loc_regions\n",
              "0   3583  0.028592    6.0      2.0       2.0            1.0            2\n",
              "1   2748  0.028097    9.0      NaN       2.0            4.0            5\n",
              "2   9261  0.027822    NaN      7.0       5.0            NaN            5\n",
              "3   2224  0.029856    5.0      5.0       2.0            4.0            3\n",
              "4  10300  0.027382    4.0      NaN       5.0            6.0            0"
            ],
            "text/html": [
              "\n",
              "\n",
              "  <div id=\"df-d25f0744-b0c8-47f5-afe0-846fdc255a7d\">\n",
              "    <div class=\"colab-df-container\">\n",
              "      <div>\n",
              "<style scoped>\n",
              "    .dataframe tbody tr th:only-of-type {\n",
              "        vertical-align: middle;\n",
              "    }\n",
              "\n",
              "    .dataframe tbody tr th {\n",
              "        vertical-align: top;\n",
              "    }\n",
              "\n",
              "    .dataframe thead th {\n",
              "        text-align: right;\n",
              "    }\n",
              "</style>\n",
              "<table border=\"1\" class=\"dataframe\">\n",
              "  <thead>\n",
              "    <tr style=\"text-align: right;\">\n",
              "      <th></th>\n",
              "      <th>ID</th>\n",
              "      <th>loc</th>\n",
              "      <th>title</th>\n",
              "      <th>bedroom</th>\n",
              "      <th>bathroom</th>\n",
              "      <th>parking_space</th>\n",
              "      <th>loc_regions</th>\n",
              "    </tr>\n",
              "  </thead>\n",
              "  <tbody>\n",
              "    <tr>\n",
              "      <th>0</th>\n",
              "      <td>3583</td>\n",
              "      <td>0.028592</td>\n",
              "      <td>6.0</td>\n",
              "      <td>2.0</td>\n",
              "      <td>2.0</td>\n",
              "      <td>1.0</td>\n",
              "      <td>2</td>\n",
              "    </tr>\n",
              "    <tr>\n",
              "      <th>1</th>\n",
              "      <td>2748</td>\n",
              "      <td>0.028097</td>\n",
              "      <td>9.0</td>\n",
              "      <td>NaN</td>\n",
              "      <td>2.0</td>\n",
              "      <td>4.0</td>\n",
              "      <td>5</td>\n",
              "    </tr>\n",
              "    <tr>\n",
              "      <th>2</th>\n",
              "      <td>9261</td>\n",
              "      <td>0.027822</td>\n",
              "      <td>NaN</td>\n",
              "      <td>7.0</td>\n",
              "      <td>5.0</td>\n",
              "      <td>NaN</td>\n",
              "      <td>5</td>\n",
              "    </tr>\n",
              "    <tr>\n",
              "      <th>3</th>\n",
              "      <td>2224</td>\n",
              "      <td>0.029856</td>\n",
              "      <td>5.0</td>\n",
              "      <td>5.0</td>\n",
              "      <td>2.0</td>\n",
              "      <td>4.0</td>\n",
              "      <td>3</td>\n",
              "    </tr>\n",
              "    <tr>\n",
              "      <th>4</th>\n",
              "      <td>10300</td>\n",
              "      <td>0.027382</td>\n",
              "      <td>4.0</td>\n",
              "      <td>NaN</td>\n",
              "      <td>5.0</td>\n",
              "      <td>6.0</td>\n",
              "      <td>0</td>\n",
              "    </tr>\n",
              "  </tbody>\n",
              "</table>\n",
              "</div>\n",
              "      <button class=\"colab-df-convert\" onclick=\"convertToInteractive('df-d25f0744-b0c8-47f5-afe0-846fdc255a7d')\"\n",
              "              title=\"Convert this dataframe to an interactive table.\"\n",
              "              style=\"display:none;\">\n",
              "\n",
              "  <svg xmlns=\"http://www.w3.org/2000/svg\" height=\"24px\"viewBox=\"0 0 24 24\"\n",
              "       width=\"24px\">\n",
              "    <path d=\"M0 0h24v24H0V0z\" fill=\"none\"/>\n",
              "    <path d=\"M18.56 5.44l.94 2.06.94-2.06 2.06-.94-2.06-.94-.94-2.06-.94 2.06-2.06.94zm-11 1L8.5 8.5l.94-2.06 2.06-.94-2.06-.94L8.5 2.5l-.94 2.06-2.06.94zm10 10l.94 2.06.94-2.06 2.06-.94-2.06-.94-.94-2.06-.94 2.06-2.06.94z\"/><path d=\"M17.41 7.96l-1.37-1.37c-.4-.4-.92-.59-1.43-.59-.52 0-1.04.2-1.43.59L10.3 9.45l-7.72 7.72c-.78.78-.78 2.05 0 2.83L4 21.41c.39.39.9.59 1.41.59.51 0 1.02-.2 1.41-.59l7.78-7.78 2.81-2.81c.8-.78.8-2.07 0-2.86zM5.41 20L4 18.59l7.72-7.72 1.47 1.35L5.41 20z\"/>\n",
              "  </svg>\n",
              "      </button>\n",
              "\n",
              "\n",
              "\n",
              "    <div id=\"df-7f7e04e8-1341-47de-8df1-81d9095159ab\">\n",
              "      <button class=\"colab-df-quickchart\" onclick=\"quickchart('df-7f7e04e8-1341-47de-8df1-81d9095159ab')\"\n",
              "              title=\"Suggest charts.\"\n",
              "              style=\"display:none;\">\n",
              "\n",
              "<svg xmlns=\"http://www.w3.org/2000/svg\" height=\"24px\"viewBox=\"0 0 24 24\"\n",
              "     width=\"24px\">\n",
              "    <g>\n",
              "        <path d=\"M19 3H5c-1.1 0-2 .9-2 2v14c0 1.1.9 2 2 2h14c1.1 0 2-.9 2-2V5c0-1.1-.9-2-2-2zM9 17H7v-7h2v7zm4 0h-2V7h2v10zm4 0h-2v-4h2v4z\"/>\n",
              "    </g>\n",
              "</svg>\n",
              "      </button>\n",
              "    </div>\n",
              "\n",
              "<style>\n",
              "  .colab-df-quickchart {\n",
              "    background-color: #E8F0FE;\n",
              "    border: none;\n",
              "    border-radius: 50%;\n",
              "    cursor: pointer;\n",
              "    display: none;\n",
              "    fill: #1967D2;\n",
              "    height: 32px;\n",
              "    padding: 0 0 0 0;\n",
              "    width: 32px;\n",
              "  }\n",
              "\n",
              "  .colab-df-quickchart:hover {\n",
              "    background-color: #E2EBFA;\n",
              "    box-shadow: 0px 1px 2px rgba(60, 64, 67, 0.3), 0px 1px 3px 1px rgba(60, 64, 67, 0.15);\n",
              "    fill: #174EA6;\n",
              "  }\n",
              "\n",
              "  [theme=dark] .colab-df-quickchart {\n",
              "    background-color: #3B4455;\n",
              "    fill: #D2E3FC;\n",
              "  }\n",
              "\n",
              "  [theme=dark] .colab-df-quickchart:hover {\n",
              "    background-color: #434B5C;\n",
              "    box-shadow: 0px 1px 3px 1px rgba(0, 0, 0, 0.15);\n",
              "    filter: drop-shadow(0px 1px 2px rgba(0, 0, 0, 0.3));\n",
              "    fill: #FFFFFF;\n",
              "  }\n",
              "</style>\n",
              "\n",
              "    <script>\n",
              "      async function quickchart(key) {\n",
              "        const containerElement = document.querySelector('#' + key);\n",
              "        const charts = await google.colab.kernel.invokeFunction(\n",
              "            'suggestCharts', [key], {});\n",
              "      }\n",
              "    </script>\n",
              "\n",
              "      <script>\n",
              "\n",
              "function displayQuickchartButton(domScope) {\n",
              "  let quickchartButtonEl =\n",
              "    domScope.querySelector('#df-7f7e04e8-1341-47de-8df1-81d9095159ab button.colab-df-quickchart');\n",
              "  quickchartButtonEl.style.display =\n",
              "    google.colab.kernel.accessAllowed ? 'block' : 'none';\n",
              "}\n",
              "\n",
              "        displayQuickchartButton(document);\n",
              "      </script>\n",
              "      <style>\n",
              "    .colab-df-container {\n",
              "      display:flex;\n",
              "      flex-wrap:wrap;\n",
              "      gap: 12px;\n",
              "    }\n",
              "\n",
              "    .colab-df-convert {\n",
              "      background-color: #E8F0FE;\n",
              "      border: none;\n",
              "      border-radius: 50%;\n",
              "      cursor: pointer;\n",
              "      display: none;\n",
              "      fill: #1967D2;\n",
              "      height: 32px;\n",
              "      padding: 0 0 0 0;\n",
              "      width: 32px;\n",
              "    }\n",
              "\n",
              "    .colab-df-convert:hover {\n",
              "      background-color: #E2EBFA;\n",
              "      box-shadow: 0px 1px 2px rgba(60, 64, 67, 0.3), 0px 1px 3px 1px rgba(60, 64, 67, 0.15);\n",
              "      fill: #174EA6;\n",
              "    }\n",
              "\n",
              "    [theme=dark] .colab-df-convert {\n",
              "      background-color: #3B4455;\n",
              "      fill: #D2E3FC;\n",
              "    }\n",
              "\n",
              "    [theme=dark] .colab-df-convert:hover {\n",
              "      background-color: #434B5C;\n",
              "      box-shadow: 0px 1px 3px 1px rgba(0, 0, 0, 0.15);\n",
              "      filter: drop-shadow(0px 1px 2px rgba(0, 0, 0, 0.3));\n",
              "      fill: #FFFFFF;\n",
              "    }\n",
              "  </style>\n",
              "\n",
              "      <script>\n",
              "        const buttonEl =\n",
              "          document.querySelector('#df-d25f0744-b0c8-47f5-afe0-846fdc255a7d button.colab-df-convert');\n",
              "        buttonEl.style.display =\n",
              "          google.colab.kernel.accessAllowed ? 'block' : 'none';\n",
              "\n",
              "        async function convertToInteractive(key) {\n",
              "          const element = document.querySelector('#df-d25f0744-b0c8-47f5-afe0-846fdc255a7d');\n",
              "          const dataTable =\n",
              "            await google.colab.kernel.invokeFunction('convertToInteractive',\n",
              "                                                     [key], {});\n",
              "          if (!dataTable) return;\n",
              "\n",
              "          const docLinkHtml = 'Like what you see? Visit the ' +\n",
              "            '<a target=\"_blank\" href=https://colab.research.google.com/notebooks/data_table.ipynb>data table notebook</a>'\n",
              "            + ' to learn more about interactive tables.';\n",
              "          element.innerHTML = '';\n",
              "          dataTable['output_type'] = 'display_data';\n",
              "          await google.colab.output.renderOutput(dataTable, element);\n",
              "          const docLink = document.createElement('div');\n",
              "          docLink.innerHTML = docLinkHtml;\n",
              "          element.appendChild(docLink);\n",
              "        }\n",
              "      </script>\n",
              "    </div>\n",
              "  </div>\n"
            ]
          },
          "metadata": {},
          "execution_count": 81
        }
      ],
      "source": [
        "# Calculate the frequency of each category in the 'loc' column\n",
        "category_frequencies = df['loc'].value_counts(normalize=True)\n",
        "\n",
        "# Create a dictionary to map each category to its corresponding frequency\n",
        "loc_frequency_mapping = category_frequencies.to_dict()\n",
        "\n",
        "# Map the 'loc' column to its corresponding frequency values\n",
        "df['loc'] = df['loc'].map(loc_frequency_mapping)\n",
        "\n",
        "# Print the updated dfframe\n",
        "df.head()"
      ]
    },
    {
      "cell_type": "code",
      "execution_count": null,
      "metadata": {
        "id": "adwNHzovX-FC",
        "outputId": "056d656f-1683-46cf-e2e8-1df5e79d2563"
      },
      "outputs": [
        {
          "data": {
            "text/plain": [
              "14000"
            ]
          },
          "execution_count": 20,
          "metadata": {},
          "output_type": "execute_result"
        }
      ],
      "source": [
        "train_df.shape[0]"
      ]
    },
    {
      "cell_type": "code",
      "execution_count": null,
      "metadata": {
        "id": "YF7up1sAX-FD",
        "outputId": "a2ef5c71-f6c7-419b-c329-2274be226e46"
      },
      "outputs": [
        {
          "data": {
            "text/plain": [
              "Index(['ID', 'loc', 'title', 'bedroom', 'bathroom', 'parking_space'], dtype='object')"
            ]
          },
          "execution_count": 23,
          "metadata": {},
          "output_type": "execute_result"
        }
      ],
      "source": [
        "df.columns"
      ]
    },
    {
      "cell_type": "code",
      "source": [],
      "metadata": {
        "id": "_chd0WsS2tXQ"
      },
      "execution_count": null,
      "outputs": []
    },
    {
      "cell_type": "markdown",
      "source": [
        "  ## `bathroom_bedroom_ratio`"
      ],
      "metadata": {
        "id": "rpS_8n0217G1"
      }
    },
    {
      "cell_type": "code",
      "source": [
        "df['btrm_bdrm'] = df['bathroom']/df['bedroom']\n",
        "\n",
        "df['btrm_bdrm'].head()"
      ],
      "metadata": {
        "colab": {
          "base_uri": "https://localhost:8080/"
        },
        "id": "-mHvGS2Z12s3",
        "outputId": "966cd2a9-291c-42c4-f14b-fbd437ce51d2"
      },
      "execution_count": 82,
      "outputs": [
        {
          "output_type": "execute_result",
          "data": {
            "text/plain": [
              "0    1.000000\n",
              "1         NaN\n",
              "2    0.714286\n",
              "3    0.400000\n",
              "4         NaN\n",
              "Name: btrm_bdrm, dtype: float64"
            ]
          },
          "metadata": {},
          "execution_count": 82
        }
      ]
    },
    {
      "cell_type": "markdown",
      "source": [
        "## Preparing the Data for Modelling"
      ],
      "metadata": {
        "id": "YC0W0jUK1CIq"
      }
    },
    {
      "cell_type": "code",
      "execution_count": 83,
      "metadata": {
        "id": "iOj6aqIFX-FE"
      },
      "outputs": [],
      "source": [
        "X = df[:train_df.shape[0]]\n",
        "y = train_df.price\n",
        "test_df = df[train_df.shape[0]:]"
      ]
    },
    {
      "cell_type": "code",
      "execution_count": 10,
      "metadata": {
        "colab": {
          "base_uri": "https://localhost:8080/",
          "height": 472
        },
        "id": "Xxlt8xpbX-FE",
        "outputId": "a8aa7fd4-2b9f-42c9-a24a-a14e2134f722"
      },
      "outputs": [
        {
          "output_type": "display_data",
          "data": {
            "text/plain": [
              "<Figure size 640x480 with 1 Axes>"
            ],
            "image/png": "[encoded data removed]"
          },
          "metadata": {}
        }
      ],
      "source": [
        "sns.distplot(y)\n",
        "plt.title(\"Target (Price) Distribution\")\n",
        "plt.show()"
      ]
    },
    {
      "cell_type": "code",
      "execution_count": 13,
      "metadata": {
        "colab": {
          "base_uri": "https://localhost:8080/",
          "height": 472
        },
        "id": "S2tNYrCWX-FF",
        "outputId": "835bc42e-0613-476d-ea35-1027beb51858"
      },
      "outputs": [
        {
          "output_type": "display_data",
          "data": {
            "text/plain": [
              "<Figure size 640x480 with 1 Axes>"
            ],
            "image/png": "[encoded data removed]"
          },
          "metadata": {}
        }
      ],
      "source": [
        "y_transformed = pd.Series(np.log1p(y))\n",
        "plt.title(\"Target (Price) Distribution after Log Transformation\")\n",
        "sns.distplot(y_transformed)\n",
        "plt.show()"
      ]
    },
    {
      "cell_type": "code",
      "source": [
        "!pip install lightgbm\n",
        "!pip install catboost"
      ],
      "metadata": {
        "colab": {
          "base_uri": "https://localhost:8080/"
        },
        "id": "6o1k2CeYaaCw",
        "outputId": "8e87c8e1-609a-495f-edfa-e331a99500d0"
      },
      "execution_count": 14,
      "outputs": [
        {
          "output_type": "stream",
          "name": "stdout",
          "text": [
            "Requirement already satisfied: lightgbm in /usr/local/lib/python3.10/dist-packages (3.3.5)\n",
            "Requirement already satisfied: wheel in /usr/local/lib/python3.10/dist-packages (from lightgbm) (0.41.0)\n",
            "Requirement already satisfied: numpy in /usr/local/lib/python3.10/dist-packages (from lightgbm) (1.22.4)\n",
            "Requirement already satisfied: scipy in /usr/local/lib/python3.10/dist-packages (from lightgbm) (1.10.1)\n",
            "Requirement already satisfied: scikit-learn!=0.22.0 in /usr/local/lib/python3.10/dist-packages (from lightgbm) (1.2.2)\n",
            "Requirement already satisfied: joblib>=1.1.1 in /usr/local/lib/python3.10/dist-packages (from scikit-learn!=0.22.0->lightgbm) (1.3.1)\n",
            "Requirement already satisfied: threadpoolctl>=2.0.0 in /usr/local/lib/python3.10/dist-packages (from scikit-learn!=0.22.0->lightgbm) (3.2.0)\n",
            "Collecting catboost\n",
            "  Downloading catboost-1.2-cp310-cp310-manylinux2014_x86_64.whl (98.6 MB)\n",
            "\u001b[2K     \u001b[90m━━━━━━━━━━━━━━━━━━━━━━━━━━━━━━━━━━━━━━━━\u001b[0m \u001b[32m98.6/98.6 MB\u001b[0m \u001b[31m9.2 MB/s\u001b[0m eta \u001b[36m0:00:00\u001b[0m\n",
            "\u001b[?25hRequirement already satisfied: graphviz in /usr/local/lib/python3.10/dist-packages (from catboost) (0.20.1)\n",
            "Requirement already satisfied: matplotlib in /usr/local/lib/python3.10/dist-packages (from catboost) (3.7.1)\n",
            "Requirement already satisfied: numpy>=1.16.0 in /usr/local/lib/python3.10/dist-packages (from catboost) (1.22.4)\n",
            "Requirement already satisfied: pandas>=0.24 in /usr/local/lib/python3.10/dist-packages (from catboost) (1.5.3)\n",
            "Requirement already satisfied: scipy in /usr/local/lib/python3.10/dist-packages (from catboost) (1.10.1)\n",
            "Requirement already satisfied: plotly in /usr/local/lib/python3.10/dist-packages (from catboost) (5.13.1)\n",
            "Requirement already satisfied: six in /usr/local/lib/python3.10/dist-packages (from catboost) (1.16.0)\n",
            "Requirement already satisfied: python-dateutil>=2.8.1 in /usr/local/lib/python3.10/dist-packages (from pandas>=0.24->catboost) (2.8.2)\n",
            "Requirement already satisfied: pytz>=2020.1 in /usr/local/lib/python3.10/dist-packages (from pandas>=0.24->catboost) (2022.7.1)\n",
            "Requirement already satisfied: contourpy>=1.0.1 in /usr/local/lib/python3.10/dist-packages (from matplotlib->catboost) (1.1.0)\n",
            "Requirement already satisfied: cycler>=0.10 in /usr/local/lib/python3.10/dist-packages (from matplotlib->catboost) (0.11.0)\n",
            "Requirement already satisfied: fonttools>=4.22.0 in /usr/local/lib/python3.10/dist-packages (from matplotlib->catboost) (4.41.1)\n",
            "Requirement already satisfied: kiwisolver>=1.0.1 in /usr/local/lib/python3.10/dist-packages (from matplotlib->catboost) (1.4.4)\n",
            "Requirement already satisfied: packaging>=20.0 in /usr/local/lib/python3.10/dist-packages (from matplotlib->catboost) (23.1)\n",
            "Requirement already satisfied: pillow>=6.2.0 in /usr/local/lib/python3.10/dist-packages (from matplotlib->catboost) (9.4.0)\n",
            "Requirement already satisfied: pyparsing>=2.3.1 in /usr/local/lib/python3.10/dist-packages (from matplotlib->catboost) (3.1.0)\n",
            "Requirement already satisfied: tenacity>=6.2.0 in /usr/local/lib/python3.10/dist-packages (from plotly->catboost) (8.2.2)\n",
            "Installing collected packages: catboost\n",
            "Successfully installed catboost-1.2\n"
          ]
        }
      ]
    },
    {
      "cell_type": "code",
      "execution_count": 15,
      "metadata": {
        "id": "HqdZ7NHCX-FH"
      },
      "outputs": [],
      "source": [
        "from catboost import CatBoostRegressor\n",
        "from lightgbm import LGBMRegressor"
      ]
    },
    {
      "cell_type": "code",
      "execution_count": 18,
      "metadata": {
        "id": "EiH9WVaDX-FH"
      },
      "outputs": [],
      "source": [
        "from sklearn.metrics import mean_squared_error\n",
        "from sklearn.model_selection import KFold"
      ]
    },
    {
      "cell_type": "markdown",
      "metadata": {
        "id": "kGbE3AjqX-FI"
      },
      "source": [
        "## Building the Model"
      ]
    },
    {
      "cell_type": "markdown",
      "source": [
        "### LightGBMRegressor"
      ],
      "metadata": {
        "id": "_SmtIbjDrVfr"
      }
    },
    {
      "cell_type": "code",
      "execution_count": 20,
      "metadata": {
        "colab": {
          "base_uri": "https://localhost:8080/"
        },
        "id": "UIenAOLXX-FI",
        "outputId": "6fe90105-4e75-46f6-d39d-3dfe2723e809"
      },
      "outputs": [
        {
          "output_type": "stream",
          "name": "stdout",
          "text": [
            "err:  583972.6420163147\n",
            "err:  460195.09538353165\n",
            "err:  523194.9515062927\n",
            "err:  556308.8658171\n",
            "err:  658398.8934383639\n",
            "err:  649631.0570634478\n",
            "err:  518539.7390878836\n",
            "err:  526671.0226660868\n",
            "err:  560612.2942353106\n",
            "err:  516210.8251491627\n",
            "555373.5386363494\n"
          ]
        }
      ],
      "source": [
        "fold_pred=[]\n",
        "oof_pred = []\n",
        "\n",
        "params = {\n",
        "    'n_estimators': 1000,\n",
        "    'colsample_bytree': 0.86,\n",
        "    'learning_rate': 0.032,\n",
        "    'max_depth': 7,\n",
        "    'subsample': 0.85}\n",
        "\n",
        "\n",
        "fold = KFold(n_splits = 10, shuffle=True)#15#5#10\n",
        "i=1\n",
        "for train_index, test_index in fold.split(X, y):\n",
        "\n",
        "    X_train, X_test = X.iloc[train_index], X.iloc[test_index]\n",
        "    y_train, y_test = np.log1p(y.iloc[train_index]), y.iloc[test_index]\n",
        "\n",
        "    model = LGBMRegressor(**params, objective = \"rmse\")\n",
        "    model.fit(X_train,y_train,eval_set=[(X_train,y_train), (X_test, y_test)], early_stopping_rounds = 100, verbose = False)\n",
        "\n",
        "    preds= model.predict(X_test)\n",
        "    print(\"err: \",(mean_squared_error(y_test, np.expm1(preds), squared=False)))  #Reverse transformation\n",
        "    oof_pred.append(mean_squared_error(y_test, np.expm1(preds), squared=False))\n",
        "    p2 = model.predict(test_df[X.columns])\n",
        "    fold_pred.append(np.expm1(p2))\n",
        "\n",
        "\n",
        "print(np.mean(oof_pred))"
      ]
    },
    {
      "cell_type": "code",
      "source": [
        "feature_importance_df = pd.DataFrame(model.feature_importances_, columns=['importance'])\n",
        "feature_importance_df['feature'] = X.columns\n",
        "\n",
        "plt.figure(figsize=(20, 12));\n",
        "sns.barplot(x=\"importance\", y=\"feature\", data = feature_importance_df.sort_values(by = ['importance'], ascending = False))\n",
        "plt.title('LightGBM Features importance:')"
      ],
      "metadata": {
        "colab": {
          "base_uri": "https://localhost:8080/",
          "height": 633
        },
        "id": "YmYfal_WbGaI",
        "outputId": "7771b6bb-8445-4c50-b800-01a61cb0ff68"
      },
      "execution_count": 21,
      "outputs": [
        {
          "output_type": "execute_result",
          "data": {
            "text/plain": [
              "Text(0.5, 1.0, 'LightGBM features importance:')"
            ]
          },
          "metadata": {},
          "execution_count": 21
        },
        {
          "output_type": "display_data",
          "data": {
            "text/plain": [
              "<Figure size 2000x1200 with 1 Axes>"
            ],
            "image/png": "[encoded data removed]"
          },
          "metadata": {}
        }
      ]
    },
    {
      "cell_type": "code",
      "source": [
        "sub.head()"
      ],
      "metadata": {
        "colab": {
          "base_uri": "https://localhost:8080/",
          "height": 206
        },
        "id": "hrZKAB17bqnV",
        "outputId": "c04531a8-5c13-4d0d-e77d-4a0916b43d34"
      },
      "execution_count": 24,
      "outputs": [
        {
          "output_type": "execute_result",
          "data": {
            "text/plain": [
              "      ID\n",
              "0    845\n",
              "1   1924\n",
              "2  10718\n",
              "3  12076\n",
              "4  12254"
            ],
            "text/html": [
              "\n",
              "\n",
              "  <div id=\"df-d0c50389-5a4a-4ddf-be50-fb79cc15da20\">\n",
              "    <div class=\"colab-df-container\">\n",
              "      <div>\n",
              "<style scoped>\n",
              "    .dataframe tbody tr th:only-of-type {\n",
              "        vertical-align: middle;\n",
              "    }\n",
              "\n",
              "    .dataframe tbody tr th {\n",
              "        vertical-align: top;\n",
              "    }\n",
              "\n",
              "    .dataframe thead th {\n",
              "        text-align: right;\n",
              "    }\n",
              "</style>\n",
              "<table border=\"1\" class=\"dataframe\">\n",
              "  <thead>\n",
              "    <tr style=\"text-align: right;\">\n",
              "      <th></th>\n",
              "      <th>ID</th>\n",
              "    </tr>\n",
              "  </thead>\n",
              "  <tbody>\n",
              "    <tr>\n",
              "      <th>0</th>\n",
              "      <td>845</td>\n",
              "    </tr>\n",
              "    <tr>\n",
              "      <th>1</th>\n",
              "      <td>1924</td>\n",
              "    </tr>\n",
              "    <tr>\n",
              "      <th>2</th>\n",
              "      <td>10718</td>\n",
              "    </tr>\n",
              "    <tr>\n",
              "      <th>3</th>\n",
              "      <td>12076</td>\n",
              "    </tr>\n",
              "    <tr>\n",
              "      <th>4</th>\n",
              "      <td>12254</td>\n",
              "    </tr>\n",
              "  </tbody>\n",
              "</table>\n",
              "</div>\n",
              "      <button class=\"colab-df-convert\" onclick=\"convertToInteractive('df-d0c50389-5a4a-4ddf-be50-fb79cc15da20')\"\n",
              "              title=\"Convert this dataframe to an interactive table.\"\n",
              "              style=\"display:none;\">\n",
              "\n",
              "  <svg xmlns=\"http://www.w3.org/2000/svg\" height=\"24px\"viewBox=\"0 0 24 24\"\n",
              "       width=\"24px\">\n",
              "    <path d=\"M0 0h24v24H0V0z\" fill=\"none\"/>\n",
              "    <path d=\"M18.56 5.44l.94 2.06.94-2.06 2.06-.94-2.06-.94-.94-2.06-.94 2.06-2.06.94zm-11 1L8.5 8.5l.94-2.06 2.06-.94-2.06-.94L8.5 2.5l-.94 2.06-2.06.94zm10 10l.94 2.06.94-2.06 2.06-.94-2.06-.94-.94-2.06-.94 2.06-2.06.94z\"/><path d=\"M17.41 7.96l-1.37-1.37c-.4-.4-.92-.59-1.43-.59-.52 0-1.04.2-1.43.59L10.3 9.45l-7.72 7.72c-.78.78-.78 2.05 0 2.83L4 21.41c.39.39.9.59 1.41.59.51 0 1.02-.2 1.41-.59l7.78-7.78 2.81-2.81c.8-.78.8-2.07 0-2.86zM5.41 20L4 18.59l7.72-7.72 1.47 1.35L5.41 20z\"/>\n",
              "  </svg>\n",
              "      </button>\n",
              "\n",
              "\n",
              "\n",
              "    <div id=\"df-ff455561-6e59-4e7f-ba01-7f22ce4ae85c\">\n",
              "      <button class=\"colab-df-quickchart\" onclick=\"quickchart('df-ff455561-6e59-4e7f-ba01-7f22ce4ae85c')\"\n",
              "              title=\"Suggest charts.\"\n",
              "              style=\"display:none;\">\n",
              "\n",
              "<svg xmlns=\"http://www.w3.org/2000/svg\" height=\"24px\"viewBox=\"0 0 24 24\"\n",
              "     width=\"24px\">\n",
              "    <g>\n",
              "        <path d=\"M19 3H5c-1.1 0-2 .9-2 2v14c0 1.1.9 2 2 2h14c1.1 0 2-.9 2-2V5c0-1.1-.9-2-2-2zM9 17H7v-7h2v7zm4 0h-2V7h2v10zm4 0h-2v-4h2v4z\"/>\n",
              "    </g>\n",
              "</svg>\n",
              "      </button>\n",
              "    </div>\n",
              "\n",
              "<style>\n",
              "  .colab-df-quickchart {\n",
              "    background-color: #E8F0FE;\n",
              "    border: none;\n",
              "    border-radius: 50%;\n",
              "    cursor: pointer;\n",
              "    display: none;\n",
              "    fill: #1967D2;\n",
              "    height: 32px;\n",
              "    padding: 0 0 0 0;\n",
              "    width: 32px;\n",
              "  }\n",
              "\n",
              "  .colab-df-quickchart:hover {\n",
              "    background-color: #E2EBFA;\n",
              "    box-shadow: 0px 1px 2px rgba(60, 64, 67, 0.3), 0px 1px 3px 1px rgba(60, 64, 67, 0.15);\n",
              "    fill: #174EA6;\n",
              "  }\n",
              "\n",
              "  [theme=dark] .colab-df-quickchart {\n",
              "    background-color: #3B4455;\n",
              "    fill: #D2E3FC;\n",
              "  }\n",
              "\n",
              "  [theme=dark] .colab-df-quickchart:hover {\n",
              "    background-color: #434B5C;\n",
              "    box-shadow: 0px 1px 3px 1px rgba(0, 0, 0, 0.15);\n",
              "    filter: drop-shadow(0px 1px 2px rgba(0, 0, 0, 0.3));\n",
              "    fill: #FFFFFF;\n",
              "  }\n",
              "</style>\n",
              "\n",
              "    <script>\n",
              "      async function quickchart(key) {\n",
              "        const containerElement = document.querySelector('#' + key);\n",
              "        const charts = await google.colab.kernel.invokeFunction(\n",
              "            'suggestCharts', [key], {});\n",
              "      }\n",
              "    </script>\n",
              "\n",
              "      <script>\n",
              "\n",
              "function displayQuickchartButton(domScope) {\n",
              "  let quickchartButtonEl =\n",
              "    domScope.querySelector('#df-ff455561-6e59-4e7f-ba01-7f22ce4ae85c button.colab-df-quickchart');\n",
              "  quickchartButtonEl.style.display =\n",
              "    google.colab.kernel.accessAllowed ? 'block' : 'none';\n",
              "}\n",
              "\n",
              "        displayQuickchartButton(document);\n",
              "      </script>\n",
              "      <style>\n",
              "    .colab-df-container {\n",
              "      display:flex;\n",
              "      flex-wrap:wrap;\n",
              "      gap: 12px;\n",
              "    }\n",
              "\n",
              "    .colab-df-convert {\n",
              "      background-color: #E8F0FE;\n",
              "      border: none;\n",
              "      border-radius: 50%;\n",
              "      cursor: pointer;\n",
              "      display: none;\n",
              "      fill: #1967D2;\n",
              "      height: 32px;\n",
              "      padding: 0 0 0 0;\n",
              "      width: 32px;\n",
              "    }\n",
              "\n",
              "    .colab-df-convert:hover {\n",
              "      background-color: #E2EBFA;\n",
              "      box-shadow: 0px 1px 2px rgba(60, 64, 67, 0.3), 0px 1px 3px 1px rgba(60, 64, 67, 0.15);\n",
              "      fill: #174EA6;\n",
              "    }\n",
              "\n",
              "    [theme=dark] .colab-df-convert {\n",
              "      background-color: #3B4455;\n",
              "      fill: #D2E3FC;\n",
              "    }\n",
              "\n",
              "    [theme=dark] .colab-df-convert:hover {\n",
              "      background-color: #434B5C;\n",
              "      box-shadow: 0px 1px 3px 1px rgba(0, 0, 0, 0.15);\n",
              "      filter: drop-shadow(0px 1px 2px rgba(0, 0, 0, 0.3));\n",
              "      fill: #FFFFFF;\n",
              "    }\n",
              "  </style>\n",
              "\n",
              "      <script>\n",
              "        const buttonEl =\n",
              "          document.querySelector('#df-d0c50389-5a4a-4ddf-be50-fb79cc15da20 button.colab-df-convert');\n",
              "        buttonEl.style.display =\n",
              "          google.colab.kernel.accessAllowed ? 'block' : 'none';\n",
              "\n",
              "        async function convertToInteractive(key) {\n",
              "          const element = document.querySelector('#df-d0c50389-5a4a-4ddf-be50-fb79cc15da20');\n",
              "          const dataTable =\n",
              "            await google.colab.kernel.invokeFunction('convertToInteractive',\n",
              "                                                     [key], {});\n",
              "          if (!dataTable) return;\n",
              "\n",
              "          const docLinkHtml = 'Like what you see? Visit the ' +\n",
              "            '<a target=\"_blank\" href=https://colab.research.google.com/notebooks/data_table.ipynb>data table notebook</a>'\n",
              "            + ' to learn more about interactive tables.';\n",
              "          element.innerHTML = '';\n",
              "          dataTable['output_type'] = 'display_data';\n",
              "          await google.colab.output.renderOutput(dataTable, element);\n",
              "          const docLink = document.createElement('div');\n",
              "          docLink.innerHTML = docLinkHtml;\n",
              "          element.appendChild(docLink);\n",
              "        }\n",
              "      </script>\n",
              "    </div>\n",
              "  </div>\n"
            ]
          },
          "metadata": {},
          "execution_count": 24
        }
      ]
    },
    {
      "cell_type": "code",
      "source": [
        "sub['price'] =  np.mean(fold_pred, axis = 0)"
      ],
      "metadata": {
        "id": "TNery7pIkVOx"
      },
      "execution_count": 25,
      "outputs": []
    },
    {
      "cell_type": "code",
      "source": [
        "sub.head()"
      ],
      "metadata": {
        "colab": {
          "base_uri": "https://localhost:8080/",
          "height": 206
        },
        "id": "78Haq_OEkk_6",
        "outputId": "2957b3db-6e60-475a-adf7-62518f596f68"
      },
      "execution_count": 26,
      "outputs": [
        {
          "output_type": "execute_result",
          "data": {
            "text/plain": [
              "      ID         price\n",
              "0    845  2.311063e+06\n",
              "1   1924  9.124555e+05\n",
              "2  10718  1.138109e+06\n",
              "3  12076  8.077316e+06\n",
              "4  12254  1.920375e+06"
            ],
            "text/html": [
              "\n",
              "\n",
              "  <div id=\"df-228e0f85-2d0b-4ea2-ae67-1b8b5cccb44e\">\n",
              "    <div class=\"colab-df-container\">\n",
              "      <div>\n",
              "<style scoped>\n",
              "    .dataframe tbody tr th:only-of-type {\n",
              "        vertical-align: middle;\n",
              "    }\n",
              "\n",
              "    .dataframe tbody tr th {\n",
              "        vertical-align: top;\n",
              "    }\n",
              "\n",
              "    .dataframe thead th {\n",
              "        text-align: right;\n",
              "    }\n",
              "</style>\n",
              "<table border=\"1\" class=\"dataframe\">\n",
              "  <thead>\n",
              "    <tr style=\"text-align: right;\">\n",
              "      <th></th>\n",
              "      <th>ID</th>\n",
              "      <th>price</th>\n",
              "    </tr>\n",
              "  </thead>\n",
              "  <tbody>\n",
              "    <tr>\n",
              "      <th>0</th>\n",
              "      <td>845</td>\n",
              "      <td>2.311063e+06</td>\n",
              "    </tr>\n",
              "    <tr>\n",
              "      <th>1</th>\n",
              "      <td>1924</td>\n",
              "      <td>9.124555e+05</td>\n",
              "    </tr>\n",
              "    <tr>\n",
              "      <th>2</th>\n",
              "      <td>10718</td>\n",
              "      <td>1.138109e+06</td>\n",
              "    </tr>\n",
              "    <tr>\n",
              "      <th>3</th>\n",
              "      <td>12076</td>\n",
              "      <td>8.077316e+06</td>\n",
              "    </tr>\n",
              "    <tr>\n",
              "      <th>4</th>\n",
              "      <td>12254</td>\n",
              "      <td>1.920375e+06</td>\n",
              "    </tr>\n",
              "  </tbody>\n",
              "</table>\n",
              "</div>\n",
              "      <button class=\"colab-df-convert\" onclick=\"convertToInteractive('df-228e0f85-2d0b-4ea2-ae67-1b8b5cccb44e')\"\n",
              "              title=\"Convert this dataframe to an interactive table.\"\n",
              "              style=\"display:none;\">\n",
              "\n",
              "  <svg xmlns=\"http://www.w3.org/2000/svg\" height=\"24px\"viewBox=\"0 0 24 24\"\n",
              "       width=\"24px\">\n",
              "    <path d=\"M0 0h24v24H0V0z\" fill=\"none\"/>\n",
              "    <path d=\"M18.56 5.44l.94 2.06.94-2.06 2.06-.94-2.06-.94-.94-2.06-.94 2.06-2.06.94zm-11 1L8.5 8.5l.94-2.06 2.06-.94-2.06-.94L8.5 2.5l-.94 2.06-2.06.94zm10 10l.94 2.06.94-2.06 2.06-.94-2.06-.94-.94-2.06-.94 2.06-2.06.94z\"/><path d=\"M17.41 7.96l-1.37-1.37c-.4-.4-.92-.59-1.43-.59-.52 0-1.04.2-1.43.59L10.3 9.45l-7.72 7.72c-.78.78-.78 2.05 0 2.83L4 21.41c.39.39.9.59 1.41.59.51 0 1.02-.2 1.41-.59l7.78-7.78 2.81-2.81c.8-.78.8-2.07 0-2.86zM5.41 20L4 18.59l7.72-7.72 1.47 1.35L5.41 20z\"/>\n",
              "  </svg>\n",
              "      </button>\n",
              "\n",
              "\n",
              "\n",
              "    <div id=\"df-a83851dc-d501-4916-93c8-73ca1ac56204\">\n",
              "      <button class=\"colab-df-quickchart\" onclick=\"quickchart('df-a83851dc-d501-4916-93c8-73ca1ac56204')\"\n",
              "              title=\"Suggest charts.\"\n",
              "              style=\"display:none;\">\n",
              "\n",
              "<svg xmlns=\"http://www.w3.org/2000/svg\" height=\"24px\"viewBox=\"0 0 24 24\"\n",
              "     width=\"24px\">\n",
              "    <g>\n",
              "        <path d=\"M19 3H5c-1.1 0-2 .9-2 2v14c0 1.1.9 2 2 2h14c1.1 0 2-.9 2-2V5c0-1.1-.9-2-2-2zM9 17H7v-7h2v7zm4 0h-2V7h2v10zm4 0h-2v-4h2v4z\"/>\n",
              "    </g>\n",
              "</svg>\n",
              "      </button>\n",
              "    </div>\n",
              "\n",
              "<style>\n",
              "  .colab-df-quickchart {\n",
              "    background-color: #E8F0FE;\n",
              "    border: none;\n",
              "    border-radius: 50%;\n",
              "    cursor: pointer;\n",
              "    display: none;\n",
              "    fill: #1967D2;\n",
              "    height: 32px;\n",
              "    padding: 0 0 0 0;\n",
              "    width: 32px;\n",
              "  }\n",
              "\n",
              "  .colab-df-quickchart:hover {\n",
              "    background-color: #E2EBFA;\n",
              "    box-shadow: 0px 1px 2px rgba(60, 64, 67, 0.3), 0px 1px 3px 1px rgba(60, 64, 67, 0.15);\n",
              "    fill: #174EA6;\n",
              "  }\n",
              "\n",
              "  [theme=dark] .colab-df-quickchart {\n",
              "    background-color: #3B4455;\n",
              "    fill: #D2E3FC;\n",
              "  }\n",
              "\n",
              "  [theme=dark] .colab-df-quickchart:hover {\n",
              "    background-color: #434B5C;\n",
              "    box-shadow: 0px 1px 3px 1px rgba(0, 0, 0, 0.15);\n",
              "    filter: drop-shadow(0px 1px 2px rgba(0, 0, 0, 0.3));\n",
              "    fill: #FFFFFF;\n",
              "  }\n",
              "</style>\n",
              "\n",
              "    <script>\n",
              "      async function quickchart(key) {\n",
              "        const containerElement = document.querySelector('#' + key);\n",
              "        const charts = await google.colab.kernel.invokeFunction(\n",
              "            'suggestCharts', [key], {});\n",
              "      }\n",
              "    </script>\n",
              "\n",
              "      <script>\n",
              "\n",
              "function displayQuickchartButton(domScope) {\n",
              "  let quickchartButtonEl =\n",
              "    domScope.querySelector('#df-a83851dc-d501-4916-93c8-73ca1ac56204 button.colab-df-quickchart');\n",
              "  quickchartButtonEl.style.display =\n",
              "    google.colab.kernel.accessAllowed ? 'block' : 'none';\n",
              "}\n",
              "\n",
              "        displayQuickchartButton(document);\n",
              "      </script>\n",
              "      <style>\n",
              "    .colab-df-container {\n",
              "      display:flex;\n",
              "      flex-wrap:wrap;\n",
              "      gap: 12px;\n",
              "    }\n",
              "\n",
              "    .colab-df-convert {\n",
              "      background-color: #E8F0FE;\n",
              "      border: none;\n",
              "      border-radius: 50%;\n",
              "      cursor: pointer;\n",
              "      display: none;\n",
              "      fill: #1967D2;\n",
              "      height: 32px;\n",
              "      padding: 0 0 0 0;\n",
              "      width: 32px;\n",
              "    }\n",
              "\n",
              "    .colab-df-convert:hover {\n",
              "      background-color: #E2EBFA;\n",
              "      box-shadow: 0px 1px 2px rgba(60, 64, 67, 0.3), 0px 1px 3px 1px rgba(60, 64, 67, 0.15);\n",
              "      fill: #174EA6;\n",
              "    }\n",
              "\n",
              "    [theme=dark] .colab-df-convert {\n",
              "      background-color: #3B4455;\n",
              "      fill: #D2E3FC;\n",
              "    }\n",
              "\n",
              "    [theme=dark] .colab-df-convert:hover {\n",
              "      background-color: #434B5C;\n",
              "      box-shadow: 0px 1px 3px 1px rgba(0, 0, 0, 0.15);\n",
              "      filter: drop-shadow(0px 1px 2px rgba(0, 0, 0, 0.3));\n",
              "      fill: #FFFFFF;\n",
              "    }\n",
              "  </style>\n",
              "\n",
              "      <script>\n",
              "        const buttonEl =\n",
              "          document.querySelector('#df-228e0f85-2d0b-4ea2-ae67-1b8b5cccb44e button.colab-df-convert');\n",
              "        buttonEl.style.display =\n",
              "          google.colab.kernel.accessAllowed ? 'block' : 'none';\n",
              "\n",
              "        async function convertToInteractive(key) {\n",
              "          const element = document.querySelector('#df-228e0f85-2d0b-4ea2-ae67-1b8b5cccb44e');\n",
              "          const dataTable =\n",
              "            await google.colab.kernel.invokeFunction('convertToInteractive',\n",
              "                                                     [key], {});\n",
              "          if (!dataTable) return;\n",
              "\n",
              "          const docLinkHtml = 'Like what you see? Visit the ' +\n",
              "            '<a target=\"_blank\" href=https://colab.research.google.com/notebooks/data_table.ipynb>data table notebook</a>'\n",
              "            + ' to learn more about interactive tables.';\n",
              "          element.innerHTML = '';\n",
              "          dataTable['output_type'] = 'display_data';\n",
              "          await google.colab.output.renderOutput(dataTable, element);\n",
              "          const docLink = document.createElement('div');\n",
              "          docLink.innerHTML = docLinkHtml;\n",
              "          element.appendChild(docLink);\n",
              "        }\n",
              "      </script>\n",
              "    </div>\n",
              "  </div>\n"
            ]
          },
          "metadata": {},
          "execution_count": 26
        }
      ]
    },
    {
      "cell_type": "code",
      "source": [
        "sub.to_csv('base_submission_lgb.csv', index=False)"
      ],
      "metadata": {
        "id": "EHIEhhjQknnH"
      },
      "execution_count": 27,
      "outputs": []
    },
    {
      "cell_type": "markdown",
      "source": [
        "### CatboostRegressor"
      ],
      "metadata": {
        "id": "JU6bAtEerdbb"
      }
    },
    {
      "cell_type": "code",
      "source": [
        "fold_pred_ctb=[]\n",
        "oof_pred_ctb = []\n",
        "\n",
        "params = {\n",
        "    'iterations': 3000,\n",
        "    'eta': 0.1,\n",
        "    'depth': 6,\n",
        "    'l2_leaf_reg': 3,\n",
        "    'loss_function': 'RMSE',\n",
        "    'random_seed': 42,\n",
        "    'verbose': 100  # Set the number of iterations to display progress\n",
        "}\n",
        "\n",
        "\n",
        "fold_ctb = KFold(n_splits = 10, shuffle = True) #15#5#10\n",
        "i=1\n",
        "for train_index, test_index in fold_ctb.split(X, y):\n",
        "\n",
        "    X_train, X_test = X.iloc[train_index], X.iloc[test_index]\n",
        "    y_train, y_test = np.log1p(y.iloc[train_index]), y.iloc[test_index]\n",
        "\n",
        "    model_ctb = CatBoostRegressor(**params, objective = \"RMSE\", use_best_model = True)\n",
        "    model_ctb.fit(X_train, y_train,eval_set = [(X_train, y_train), (X_test, y_test)])\n",
        "\n",
        "    preds= model_ctb.predict(X_test)\n",
        "    print(\"err: \",(mean_squared_error(y_test, np.expm1(preds), squared=False)))  #Reverse transformation\n",
        "    oof_pred.append(mean_squared_error(y_test, np.expm1(preds), squared=False))\n",
        "    p2 = model_ctb.predict(test_df[X.columns])\n",
        "    fold_pred.append(np.expm1(p2))\n",
        "\n",
        "\n",
        "print(np.mean(oof_pred_ctb))"
      ],
      "metadata": {
        "colab": {
          "base_uri": "https://localhost:8080/"
        },
        "id": "CnVaiUpSoZd5",
        "outputId": "830a6b01-eb25-408a-d30e-331e4f192707"
      },
      "execution_count": 85,
      "outputs": [
        {
          "output_type": "stream",
          "name": "stdout",
          "text": [
            "0:\tlearn: 0.4208432\ttest: 0.4208432\ttest1: 2387140.8077095\tbest: 2387140.8077095 (0)\ttotal: 2.86ms\tremaining: 8.59s\n",
            "50:\tlearn: 0.2047281\ttest: 0.2047281\ttest1: 2387140.6913259\tbest: 2387140.6913088 (49)\ttotal: 137ms\tremaining: 7.9s\n",
            "100:\tlearn: 0.1870056\ttest: 0.1870056\ttest1: 2387140.6790796\tbest: 2387140.6790796 (100)\ttotal: 271ms\tremaining: 7.78s\n",
            "150:\tlearn: 0.1796617\ttest: 0.1796617\ttest1: 2387140.6760608\tbest: 2387140.6760399 (149)\ttotal: 399ms\tremaining: 7.53s\n",
            "200:\tlearn: 0.1747986\ttest: 0.1747986\ttest1: 2387140.6750216\tbest: 2387140.6750215 (199)\ttotal: 551ms\tremaining: 7.68s\n",
            "250:\tlearn: 0.1702953\ttest: 0.1702953\ttest1: 2387140.6739466\tbest: 2387140.6739466 (250)\ttotal: 685ms\tremaining: 7.5s\n",
            "300:\tlearn: 0.1664834\ttest: 0.1664834\ttest1: 2387140.6734446\tbest: 2387140.6734446 (300)\ttotal: 834ms\tremaining: 7.48s\n",
            "350:\tlearn: 0.1633884\ttest: 0.1633884\ttest1: 2387140.6729920\tbest: 2387140.6729339 (343)\ttotal: 962ms\tremaining: 7.26s\n",
            "400:\tlearn: 0.1603864\ttest: 0.1603864\ttest1: 2387140.6727931\tbest: 2387140.6726253 (388)\ttotal: 1.09s\tremaining: 7.09s\n",
            "450:\tlearn: 0.1573603\ttest: 0.1573603\ttest1: 2387140.6729611\tbest: 2387140.6726253 (388)\ttotal: 1.22s\tremaining: 6.91s\n",
            "500:\tlearn: 0.1548475\ttest: 0.1548475\ttest1: 2387140.6730445\tbest: 2387140.6726253 (388)\ttotal: 1.35s\tremaining: 6.76s\n",
            "550:\tlearn: 0.1525512\ttest: 0.1525512\ttest1: 2387140.6730728\tbest: 2387140.6726253 (388)\ttotal: 1.48s\tremaining: 6.59s\n",
            "600:\tlearn: 0.1504042\ttest: 0.1504042\ttest1: 2387140.6731033\tbest: 2387140.6726253 (388)\ttotal: 1.63s\tremaining: 6.5s\n",
            "650:\tlearn: 0.1480850\ttest: 0.1480850\ttest1: 2387140.6733734\tbest: 2387140.6726253 (388)\ttotal: 1.78s\tremaining: 6.41s\n",
            "700:\tlearn: 0.1459803\ttest: 0.1459803\ttest1: 2387140.6735191\tbest: 2387140.6726253 (388)\ttotal: 1.9s\tremaining: 6.25s\n",
            "750:\tlearn: 0.1439649\ttest: 0.1439649\ttest1: 2387140.6735171\tbest: 2387140.6726253 (388)\ttotal: 2.03s\tremaining: 6.08s\n",
            "800:\tlearn: 0.1420285\ttest: 0.1420285\ttest1: 2387140.6735197\tbest: 2387140.6726253 (388)\ttotal: 2.16s\tremaining: 5.93s\n",
            "850:\tlearn: 0.1401734\ttest: 0.1401734\ttest1: 2387140.6737083\tbest: 2387140.6726253 (388)\ttotal: 2.29s\tremaining: 5.78s\n",
            "900:\tlearn: 0.1382117\ttest: 0.1382117\ttest1: 2387140.6736957\tbest: 2387140.6726253 (388)\ttotal: 2.44s\tremaining: 5.7s\n",
            "950:\tlearn: 0.1365353\ttest: 0.1365353\ttest1: 2387140.6740134\tbest: 2387140.6726253 (388)\ttotal: 2.6s\tremaining: 5.61s\n",
            "1000:\tlearn: 0.1348594\ttest: 0.1348594\ttest1: 2387140.6738843\tbest: 2387140.6726253 (388)\ttotal: 2.73s\tremaining: 5.46s\n",
            "1050:\tlearn: 0.1332321\ttest: 0.1332321\ttest1: 2387140.6737144\tbest: 2387140.6726253 (388)\ttotal: 2.86s\tremaining: 5.31s\n",
            "1100:\tlearn: 0.1319197\ttest: 0.1319197\ttest1: 2387140.6736012\tbest: 2387140.6726253 (388)\ttotal: 2.99s\tremaining: 5.16s\n",
            "1150:\tlearn: 0.1305115\ttest: 0.1305115\ttest1: 2387140.6735955\tbest: 2387140.6726253 (388)\ttotal: 3.13s\tremaining: 5.03s\n",
            "1200:\tlearn: 0.1289507\ttest: 0.1289507\ttest1: 2387140.6735177\tbest: 2387140.6726253 (388)\ttotal: 3.26s\tremaining: 4.89s\n",
            "1250:\tlearn: 0.1274929\ttest: 0.1274929\ttest1: 2387140.6733750\tbest: 2387140.6726253 (388)\ttotal: 3.4s\tremaining: 4.75s\n",
            "1300:\tlearn: 0.1261915\ttest: 0.1261915\ttest1: 2387140.6732271\tbest: 2387140.6726253 (388)\ttotal: 3.56s\tremaining: 4.65s\n",
            "1350:\tlearn: 0.1248503\ttest: 0.1248503\ttest1: 2387140.6732043\tbest: 2387140.6726253 (388)\ttotal: 3.71s\tremaining: 4.53s\n",
            "1400:\tlearn: 0.1236368\ttest: 0.1236368\ttest1: 2387140.6731276\tbest: 2387140.6726253 (388)\ttotal: 3.84s\tremaining: 4.38s\n",
            "1450:\tlearn: 0.1223599\ttest: 0.1223599\ttest1: 2387140.6729105\tbest: 2387140.6726253 (388)\ttotal: 3.97s\tremaining: 4.24s\n",
            "1500:\tlearn: 0.1209844\ttest: 0.1209844\ttest1: 2387140.6727795\tbest: 2387140.6726253 (388)\ttotal: 4.11s\tremaining: 4.11s\n",
            "1550:\tlearn: 0.1197827\ttest: 0.1197827\ttest1: 2387140.6728030\tbest: 2387140.6726253 (388)\ttotal: 4.25s\tremaining: 3.97s\n",
            "1600:\tlearn: 0.1185560\ttest: 0.1185560\ttest1: 2387140.6728130\tbest: 2387140.6726253 (388)\ttotal: 4.38s\tremaining: 3.83s\n",
            "1650:\tlearn: 0.1173833\ttest: 0.1173833\ttest1: 2387140.6727581\tbest: 2387140.6726253 (388)\ttotal: 4.53s\tremaining: 3.7s\n",
            "1700:\tlearn: 0.1162599\ttest: 0.1162599\ttest1: 2387140.6728889\tbest: 2387140.6726253 (388)\ttotal: 4.67s\tremaining: 3.56s\n",
            "1750:\tlearn: 0.1152507\ttest: 0.1152507\ttest1: 2387140.6727480\tbest: 2387140.6726253 (388)\ttotal: 4.79s\tremaining: 3.42s\n",
            "1800:\tlearn: 0.1141793\ttest: 0.1141793\ttest1: 2387140.6727013\tbest: 2387140.6726253 (388)\ttotal: 4.93s\tremaining: 3.28s\n",
            "1850:\tlearn: 0.1129794\ttest: 0.1129794\ttest1: 2387140.6727413\tbest: 2387140.6726253 (388)\ttotal: 5.06s\tremaining: 3.14s\n",
            "1900:\tlearn: 0.1119228\ttest: 0.1119228\ttest1: 2387140.6728263\tbest: 2387140.6726253 (388)\ttotal: 5.19s\tremaining: 3s\n",
            "1950:\tlearn: 0.1109346\ttest: 0.1109346\ttest1: 2387140.6727218\tbest: 2387140.6726253 (388)\ttotal: 5.33s\tremaining: 2.87s\n",
            "2000:\tlearn: 0.1099630\ttest: 0.1099630\ttest1: 2387140.6725754\tbest: 2387140.6725641 (1993)\ttotal: 5.49s\tremaining: 2.74s\n",
            "2050:\tlearn: 0.1090906\ttest: 0.1090906\ttest1: 2387140.6725145\tbest: 2387140.6725145 (2050)\ttotal: 5.62s\tremaining: 2.6s\n",
            "2100:\tlearn: 0.1080889\ttest: 0.1080889\ttest1: 2387140.6725278\tbest: 2387140.6723941 (2076)\ttotal: 5.76s\tremaining: 2.46s\n",
            "2150:\tlearn: 0.1070948\ttest: 0.1070948\ttest1: 2387140.6724589\tbest: 2387140.6723941 (2076)\ttotal: 5.89s\tremaining: 2.32s\n",
            "2200:\tlearn: 0.1061279\ttest: 0.1061279\ttest1: 2387140.6724618\tbest: 2387140.6723941 (2076)\ttotal: 6.02s\tremaining: 2.19s\n",
            "2250:\tlearn: 0.1052552\ttest: 0.1052552\ttest1: 2387140.6726002\tbest: 2387140.6723941 (2076)\ttotal: 6.15s\tremaining: 2.05s\n",
            "2300:\tlearn: 0.1043651\ttest: 0.1043651\ttest1: 2387140.6725500\tbest: 2387140.6723941 (2076)\ttotal: 6.29s\tremaining: 1.91s\n",
            "2350:\tlearn: 0.1034866\ttest: 0.1034866\ttest1: 2387140.6726641\tbest: 2387140.6723941 (2076)\ttotal: 6.42s\tremaining: 1.77s\n",
            "2400:\tlearn: 0.1026659\ttest: 0.1026659\ttest1: 2387140.6725601\tbest: 2387140.6723941 (2076)\ttotal: 6.59s\tremaining: 1.64s\n",
            "2450:\tlearn: 0.1018457\ttest: 0.1018457\ttest1: 2387140.6725622\tbest: 2387140.6723941 (2076)\ttotal: 6.74s\tremaining: 1.51s\n",
            "2500:\tlearn: 0.1010286\ttest: 0.1010286\ttest1: 2387140.6726170\tbest: 2387140.6723941 (2076)\ttotal: 7.1s\tremaining: 1.42s\n",
            "2550:\tlearn: 0.1002960\ttest: 0.1002960\ttest1: 2387140.6725618\tbest: 2387140.6723941 (2076)\ttotal: 7.28s\tremaining: 1.28s\n",
            "2600:\tlearn: 0.0995310\ttest: 0.0995310\ttest1: 2387140.6725318\tbest: 2387140.6723941 (2076)\ttotal: 7.51s\tremaining: 1.15s\n",
            "2650:\tlearn: 0.0986615\ttest: 0.0986615\ttest1: 2387140.6726048\tbest: 2387140.6723941 (2076)\ttotal: 7.92s\tremaining: 1.04s\n",
            "2700:\tlearn: 0.0979590\ttest: 0.0979590\ttest1: 2387140.6726076\tbest: 2387140.6723941 (2076)\ttotal: 8.3s\tremaining: 919ms\n",
            "2750:\tlearn: 0.0972217\ttest: 0.0972217\ttest1: 2387140.6726205\tbest: 2387140.6723941 (2076)\ttotal: 8.63s\tremaining: 781ms\n",
            "2800:\tlearn: 0.0964473\ttest: 0.0964473\ttest1: 2387140.6724942\tbest: 2387140.6723941 (2076)\ttotal: 9.03s\tremaining: 641ms\n",
            "2850:\tlearn: 0.0956322\ttest: 0.0956322\ttest1: 2387140.6724587\tbest: 2387140.6723941 (2076)\ttotal: 9.44s\tremaining: 494ms\n",
            "2900:\tlearn: 0.0948975\ttest: 0.0948975\ttest1: 2387140.6724877\tbest: 2387140.6723941 (2076)\ttotal: 9.8s\tremaining: 335ms\n",
            "2950:\tlearn: 0.0941504\ttest: 0.0941504\ttest1: 2387140.6724866\tbest: 2387140.6723941 (2076)\ttotal: 10.2s\tremaining: 169ms\n",
            "2999:\tlearn: 0.0934705\ttest: 0.0934705\ttest1: 2387140.6724737\tbest: 2387140.6723941 (2076)\ttotal: 10.6s\tremaining: 0us\n",
            "\n",
            "bestTest = 2387140.672\n",
            "bestIteration = 2076\n",
            "\n",
            "Shrink model to first 2077 iterations.\n",
            "err:  574944.9893791919\n",
            "0:\tlearn: 0.4198068\ttest: 0.4198068\ttest1: 2409789.3556785\tbest: 2409789.3556785 (0)\ttotal: 3.98ms\tremaining: 11.9s\n",
            "50:\tlearn: 0.2039515\ttest: 0.2039515\ttest1: 2409789.2225232\tbest: 2409789.2225232 (50)\ttotal: 151ms\tremaining: 8.74s\n",
            "100:\tlearn: 0.1876238\ttest: 0.1876238\ttest1: 2409789.2099337\tbest: 2409789.2099337 (100)\ttotal: 278ms\tremaining: 7.98s\n",
            "150:\tlearn: 0.1803734\ttest: 0.1803734\ttest1: 2409789.2060603\tbest: 2409789.2060238 (149)\ttotal: 414ms\tremaining: 7.81s\n",
            "200:\tlearn: 0.1752305\ttest: 0.1752305\ttest1: 2409789.2041649\tbest: 2409789.2041649 (200)\ttotal: 544ms\tremaining: 7.58s\n",
            "250:\tlearn: 0.1709003\ttest: 0.1709003\ttest1: 2409789.2035325\tbest: 2409789.2035165 (247)\ttotal: 678ms\tremaining: 7.42s\n",
            "300:\tlearn: 0.1671136\ttest: 0.1671136\ttest1: 2409789.2027635\tbest: 2409789.2027283 (299)\ttotal: 819ms\tremaining: 7.34s\n",
            "350:\tlearn: 0.1637913\ttest: 0.1637913\ttest1: 2409789.2021403\tbest: 2409789.2021312 (349)\ttotal: 949ms\tremaining: 7.16s\n",
            "400:\tlearn: 0.1607884\ttest: 0.1607884\ttest1: 2409789.2017004\tbest: 2409789.2016982 (395)\ttotal: 1.08s\tremaining: 7.03s\n",
            "450:\tlearn: 0.1578782\ttest: 0.1578782\ttest1: 2409789.2013997\tbest: 2409789.2013832 (431)\ttotal: 1.22s\tremaining: 6.92s\n",
            "500:\tlearn: 0.1554034\ttest: 0.1554034\ttest1: 2409789.2013516\tbest: 2409789.2013268 (474)\ttotal: 1.35s\tremaining: 6.73s\n",
            "550:\tlearn: 0.1530102\ttest: 0.1530102\ttest1: 2409789.2011037\tbest: 2409789.2010040 (522)\ttotal: 1.48s\tremaining: 6.57s\n",
            "600:\tlearn: 0.1506348\ttest: 0.1506348\ttest1: 2409789.2009093\tbest: 2409789.2009093 (600)\ttotal: 1.6s\tremaining: 6.4s\n",
            "650:\tlearn: 0.1485750\ttest: 0.1485750\ttest1: 2409789.2007044\tbest: 2409789.2005808 (642)\ttotal: 1.73s\tremaining: 6.25s\n",
            "700:\tlearn: 0.1462753\ttest: 0.1462753\ttest1: 2409789.2008123\tbest: 2409789.2005808 (642)\ttotal: 1.87s\tremaining: 6.13s\n",
            "750:\tlearn: 0.1440400\ttest: 0.1440400\ttest1: 2409789.2010079\tbest: 2409789.2005808 (642)\ttotal: 2s\tremaining: 5.99s\n",
            "800:\tlearn: 0.1421118\ttest: 0.1421118\ttest1: 2409789.2006877\tbest: 2409789.2005808 (642)\ttotal: 2.12s\tremaining: 5.83s\n",
            "850:\tlearn: 0.1403337\ttest: 0.1403337\ttest1: 2409789.2005709\tbest: 2409789.2005500 (818)\ttotal: 2.25s\tremaining: 5.7s\n",
            "900:\tlearn: 0.1386402\ttest: 0.1386402\ttest1: 2409789.2005005\tbest: 2409789.2004733 (866)\ttotal: 2.38s\tremaining: 5.55s\n",
            "950:\tlearn: 0.1369117\ttest: 0.1369117\ttest1: 2409789.2005138\tbest: 2409789.2003190 (914)\ttotal: 2.52s\tremaining: 5.43s\n",
            "1000:\tlearn: 0.1352809\ttest: 0.1352809\ttest1: 2409789.2004826\tbest: 2409789.2003190 (914)\ttotal: 2.65s\tremaining: 5.29s\n",
            "1050:\tlearn: 0.1337885\ttest: 0.1337885\ttest1: 2409789.2004284\tbest: 2409789.2003190 (914)\ttotal: 2.8s\tremaining: 5.19s\n",
            "1100:\tlearn: 0.1323190\ttest: 0.1323190\ttest1: 2409789.2003658\tbest: 2409789.2003190 (914)\ttotal: 2.93s\tremaining: 5.05s\n",
            "1150:\tlearn: 0.1307638\ttest: 0.1307638\ttest1: 2409789.2004707\tbest: 2409789.2003190 (914)\ttotal: 3.06s\tremaining: 4.92s\n",
            "1200:\tlearn: 0.1292644\ttest: 0.1292644\ttest1: 2409789.2006864\tbest: 2409789.2003190 (914)\ttotal: 3.19s\tremaining: 4.78s\n",
            "1250:\tlearn: 0.1277525\ttest: 0.1277525\ttest1: 2409789.2007217\tbest: 2409789.2003190 (914)\ttotal: 3.32s\tremaining: 4.64s\n",
            "1300:\tlearn: 0.1264259\ttest: 0.1264259\ttest1: 2409789.2006804\tbest: 2409789.2003190 (914)\ttotal: 3.45s\tremaining: 4.51s\n",
            "1350:\tlearn: 0.1250185\ttest: 0.1250185\ttest1: 2409789.2005697\tbest: 2409789.2003190 (914)\ttotal: 3.58s\tremaining: 4.37s\n",
            "1400:\tlearn: 0.1237340\ttest: 0.1237340\ttest1: 2409789.2006157\tbest: 2409789.2003190 (914)\ttotal: 3.71s\tremaining: 4.24s\n",
            "1450:\tlearn: 0.1225445\ttest: 0.1225445\ttest1: 2409789.2005436\tbest: 2409789.2003190 (914)\ttotal: 3.86s\tremaining: 4.12s\n",
            "1500:\tlearn: 0.1213189\ttest: 0.1213189\ttest1: 2409789.2005733\tbest: 2409789.2003190 (914)\ttotal: 3.99s\tremaining: 3.98s\n",
            "1550:\tlearn: 0.1201829\ttest: 0.1201829\ttest1: 2409789.2005502\tbest: 2409789.2003190 (914)\ttotal: 4.12s\tremaining: 3.85s\n",
            "1600:\tlearn: 0.1189305\ttest: 0.1189305\ttest1: 2409789.2005502\tbest: 2409789.2003190 (914)\ttotal: 4.25s\tremaining: 3.72s\n",
            "1650:\tlearn: 0.1175121\ttest: 0.1175121\ttest1: 2409789.2005111\tbest: 2409789.2003190 (914)\ttotal: 4.39s\tremaining: 3.59s\n",
            "1700:\tlearn: 0.1163455\ttest: 0.1163455\ttest1: 2409789.2004083\tbest: 2409789.2003190 (914)\ttotal: 4.52s\tremaining: 3.45s\n",
            "1750:\tlearn: 0.1152738\ttest: 0.1152738\ttest1: 2409789.2004462\tbest: 2409789.2003124 (1709)\ttotal: 4.65s\tremaining: 3.31s\n",
            "1800:\tlearn: 0.1141679\ttest: 0.1141679\ttest1: 2409789.2004205\tbest: 2409789.2003124 (1709)\ttotal: 4.79s\tremaining: 3.19s\n",
            "1850:\tlearn: 0.1131379\ttest: 0.1131379\ttest1: 2409789.2003528\tbest: 2409789.2003035 (1829)\ttotal: 4.92s\tremaining: 3.06s\n",
            "1900:\tlearn: 0.1121580\ttest: 0.1121580\ttest1: 2409789.2003568\tbest: 2409789.2002494 (1871)\ttotal: 5.05s\tremaining: 2.92s\n",
            "1950:\tlearn: 0.1110307\ttest: 0.1110307\ttest1: 2409789.2004251\tbest: 2409789.2002494 (1871)\ttotal: 5.18s\tremaining: 2.79s\n",
            "2000:\tlearn: 0.1101830\ttest: 0.1101830\ttest1: 2409789.2005664\tbest: 2409789.2002494 (1871)\ttotal: 5.31s\tremaining: 2.65s\n",
            "2050:\tlearn: 0.1093307\ttest: 0.1093307\ttest1: 2409789.2005876\tbest: 2409789.2002494 (1871)\ttotal: 5.45s\tremaining: 2.52s\n",
            "2100:\tlearn: 0.1084550\ttest: 0.1084550\ttest1: 2409789.2005781\tbest: 2409789.2002494 (1871)\ttotal: 5.58s\tremaining: 2.39s\n",
            "2150:\tlearn: 0.1075913\ttest: 0.1075913\ttest1: 2409789.2005533\tbest: 2409789.2002494 (1871)\ttotal: 5.73s\tremaining: 2.26s\n",
            "2200:\tlearn: 0.1067269\ttest: 0.1067269\ttest1: 2409789.2004637\tbest: 2409789.2002494 (1871)\ttotal: 5.86s\tremaining: 2.13s\n",
            "2250:\tlearn: 0.1058337\ttest: 0.1058337\ttest1: 2409789.2003744\tbest: 2409789.2002494 (1871)\ttotal: 5.99s\tremaining: 1.99s\n",
            "2300:\tlearn: 0.1049172\ttest: 0.1049172\ttest1: 2409789.2003837\tbest: 2409789.2002494 (1871)\ttotal: 6.12s\tremaining: 1.86s\n",
            "2350:\tlearn: 0.1040871\ttest: 0.1040871\ttest1: 2409789.2003623\tbest: 2409789.2002494 (1871)\ttotal: 6.25s\tremaining: 1.73s\n",
            "2400:\tlearn: 0.1032185\ttest: 0.1032185\ttest1: 2409789.2002454\tbest: 2409789.2002276 (2398)\ttotal: 6.38s\tremaining: 1.59s\n",
            "2450:\tlearn: 0.1023796\ttest: 0.1023796\ttest1: 2409789.2003898\tbest: 2409789.2002276 (2398)\ttotal: 6.52s\tremaining: 1.46s\n",
            "2500:\tlearn: 0.1015079\ttest: 0.1015079\ttest1: 2409789.2003294\tbest: 2409789.2002276 (2398)\ttotal: 6.64s\tremaining: 1.32s\n",
            "2550:\tlearn: 0.1006520\ttest: 0.1006520\ttest1: 2409789.2003142\tbest: 2409789.2002276 (2398)\ttotal: 6.8s\tremaining: 1.2s\n",
            "2600:\tlearn: 0.0998287\ttest: 0.0998287\ttest1: 2409789.2001179\tbest: 2409789.2001179 (2600)\ttotal: 6.92s\tremaining: 1.06s\n",
            "2650:\tlearn: 0.0990698\ttest: 0.0990698\ttest1: 2409789.1998412\tbest: 2409789.1998412 (2650)\ttotal: 7.06s\tremaining: 929ms\n",
            "2700:\tlearn: 0.0983176\ttest: 0.0983176\ttest1: 2409789.1999379\tbest: 2409789.1998196 (2652)\ttotal: 7.18s\tremaining: 795ms\n",
            "2750:\tlearn: 0.0976388\ttest: 0.0976388\ttest1: 2409789.1999700\tbest: 2409789.1998196 (2652)\ttotal: 7.33s\tremaining: 663ms\n",
            "2800:\tlearn: 0.0969481\ttest: 0.0969481\ttest1: 2409789.1999991\tbest: 2409789.1998196 (2652)\ttotal: 7.46s\tremaining: 530ms\n",
            "2850:\tlearn: 0.0961900\ttest: 0.0961900\ttest1: 2409789.1999169\tbest: 2409789.1998196 (2652)\ttotal: 7.59s\tremaining: 397ms\n",
            "2900:\tlearn: 0.0954885\ttest: 0.0954885\ttest1: 2409789.1999328\tbest: 2409789.1998196 (2652)\ttotal: 7.73s\tremaining: 264ms\n",
            "2950:\tlearn: 0.0948282\ttest: 0.0948282\ttest1: 2409789.1999800\tbest: 2409789.1998196 (2652)\ttotal: 7.86s\tremaining: 130ms\n",
            "2999:\tlearn: 0.0942212\ttest: 0.0942212\ttest1: 2409789.1999434\tbest: 2409789.1998196 (2652)\ttotal: 7.99s\tremaining: 0us\n",
            "\n",
            "bestTest = 2409789.2\n",
            "bestIteration = 2652\n",
            "\n",
            "Shrink model to first 2653 iterations.\n",
            "err:  483809.2454005896\n",
            "0:\tlearn: 0.4198715\ttest: 0.4198715\ttest1: 2386591.3958086\tbest: 2386591.3958086 (0)\ttotal: 2.87ms\tremaining: 8.62s\n",
            "50:\tlearn: 0.2061816\ttest: 0.2061816\ttest1: 2386591.2679583\tbest: 2386591.2679583 (50)\ttotal: 135ms\tremaining: 7.8s\n",
            "100:\tlearn: 0.1876958\ttest: 0.1876958\ttest1: 2386591.2548349\tbest: 2386591.2548349 (100)\ttotal: 283ms\tremaining: 8.12s\n",
            "150:\tlearn: 0.1800265\ttest: 0.1800265\ttest1: 2386591.2511511\tbest: 2386591.2511511 (150)\ttotal: 411ms\tremaining: 7.75s\n",
            "200:\tlearn: 0.1747761\ttest: 0.1747761\ttest1: 2386591.2493503\tbest: 2386591.2493503 (200)\ttotal: 563ms\tremaining: 7.83s\n",
            "250:\tlearn: 0.1706235\ttest: 0.1706235\ttest1: 2386591.2489672\tbest: 2386591.2489388 (225)\ttotal: 685ms\tremaining: 7.5s\n",
            "300:\tlearn: 0.1668751\ttest: 0.1668751\ttest1: 2386591.2490547\tbest: 2386591.2488605 (255)\ttotal: 822ms\tremaining: 7.37s\n",
            "350:\tlearn: 0.1637188\ttest: 0.1637188\ttest1: 2386591.2486877\tbest: 2386591.2486450 (349)\ttotal: 947ms\tremaining: 7.15s\n",
            "400:\tlearn: 0.1605525\ttest: 0.1605525\ttest1: 2386591.2482380\tbest: 2386591.2481904 (398)\ttotal: 1.08s\tremaining: 6.99s\n",
            "450:\tlearn: 0.1578082\ttest: 0.1578082\ttest1: 2386591.2482738\tbest: 2386591.2481544 (416)\ttotal: 1.21s\tremaining: 6.86s\n",
            "500:\tlearn: 0.1553577\ttest: 0.1553577\ttest1: 2386591.2483332\tbest: 2386591.2481544 (416)\ttotal: 1.34s\tremaining: 6.69s\n",
            "550:\tlearn: 0.1530108\ttest: 0.1530108\ttest1: 2386591.2479187\tbest: 2386591.2478739 (542)\ttotal: 1.46s\tremaining: 6.5s\n",
            "600:\tlearn: 0.1507755\ttest: 0.1507755\ttest1: 2386591.2477763\tbest: 2386591.2477608 (569)\ttotal: 1.82s\tremaining: 7.27s\n",
            "650:\tlearn: 0.1487392\ttest: 0.1487392\ttest1: 2386591.2477427\tbest: 2386591.2476014 (620)\ttotal: 2.13s\tremaining: 7.7s\n",
            "700:\tlearn: 0.1467737\ttest: 0.1467737\ttest1: 2386591.2475775\tbest: 2386591.2474992 (682)\ttotal: 2.52s\tremaining: 8.25s\n",
            "750:\tlearn: 0.1447475\ttest: 0.1447475\ttest1: 2386591.2477900\tbest: 2386591.2474992 (682)\ttotal: 2.91s\tremaining: 8.71s\n",
            "800:\tlearn: 0.1427643\ttest: 0.1427643\ttest1: 2386591.2478876\tbest: 2386591.2474992 (682)\ttotal: 3.32s\tremaining: 9.11s\n",
            "850:\tlearn: 0.1409764\ttest: 0.1409764\ttest1: 2386591.2478223\tbest: 2386591.2474992 (682)\ttotal: 3.71s\tremaining: 9.36s\n",
            "900:\tlearn: 0.1392800\ttest: 0.1392800\ttest1: 2386591.2479039\tbest: 2386591.2474992 (682)\ttotal: 4.1s\tremaining: 9.55s\n",
            "950:\tlearn: 0.1378024\ttest: 0.1378024\ttest1: 2386591.2476362\tbest: 2386591.2474992 (682)\ttotal: 4.46s\tremaining: 9.62s\n",
            "1000:\tlearn: 0.1360166\ttest: 0.1360166\ttest1: 2386591.2475015\tbest: 2386591.2474515 (976)\ttotal: 4.76s\tremaining: 9.5s\n",
            "1050:\tlearn: 0.1345977\ttest: 0.1345977\ttest1: 2386591.2472915\tbest: 2386591.2472607 (1046)\ttotal: 5.07s\tremaining: 9.4s\n",
            "1100:\tlearn: 0.1331529\ttest: 0.1331529\ttest1: 2386591.2472169\tbest: 2386591.2471716 (1075)\ttotal: 5.45s\tremaining: 9.41s\n",
            "1150:\tlearn: 0.1317136\ttest: 0.1317136\ttest1: 2386591.2471606\tbest: 2386591.2471604 (1148)\ttotal: 5.67s\tremaining: 9.1s\n",
            "1200:\tlearn: 0.1300837\ttest: 0.1300837\ttest1: 2386591.2472219\tbest: 2386591.2471335 (1151)\ttotal: 5.8s\tremaining: 8.68s\n",
            "1250:\tlearn: 0.1286771\ttest: 0.1286771\ttest1: 2386591.2473596\tbest: 2386591.2471335 (1151)\ttotal: 5.93s\tremaining: 8.29s\n",
            "1300:\tlearn: 0.1273652\ttest: 0.1273652\ttest1: 2386591.2473565\tbest: 2386591.2471335 (1151)\ttotal: 6.06s\tremaining: 7.92s\n",
            "1350:\tlearn: 0.1259112\ttest: 0.1259112\ttest1: 2386591.2474050\tbest: 2386591.2471335 (1151)\ttotal: 6.2s\tremaining: 7.57s\n",
            "1400:\tlearn: 0.1246683\ttest: 0.1246683\ttest1: 2386591.2473179\tbest: 2386591.2471335 (1151)\ttotal: 6.32s\tremaining: 7.22s\n",
            "1450:\tlearn: 0.1235263\ttest: 0.1235263\ttest1: 2386591.2474508\tbest: 2386591.2471335 (1151)\ttotal: 6.46s\tremaining: 6.89s\n",
            "1500:\tlearn: 0.1221877\ttest: 0.1221877\ttest1: 2386591.2473263\tbest: 2386591.2471335 (1151)\ttotal: 6.6s\tremaining: 6.59s\n",
            "1550:\tlearn: 0.1210639\ttest: 0.1210639\ttest1: 2386591.2472069\tbest: 2386591.2471335 (1151)\ttotal: 6.73s\tremaining: 6.28s\n",
            "1600:\tlearn: 0.1199648\ttest: 0.1199648\ttest1: 2386591.2472810\tbest: 2386591.2471335 (1151)\ttotal: 6.86s\tremaining: 5.99s\n",
            "1650:\tlearn: 0.1187825\ttest: 0.1187825\ttest1: 2386591.2471796\tbest: 2386591.2471335 (1151)\ttotal: 6.99s\tremaining: 5.71s\n",
            "1700:\tlearn: 0.1175114\ttest: 0.1175114\ttest1: 2386591.2471489\tbest: 2386591.2470715 (1675)\ttotal: 7.11s\tremaining: 5.43s\n",
            "1750:\tlearn: 0.1163121\ttest: 0.1163121\ttest1: 2386591.2470607\tbest: 2386591.2470543 (1720)\ttotal: 7.25s\tremaining: 5.17s\n",
            "1800:\tlearn: 0.1152697\ttest: 0.1152697\ttest1: 2386591.2471439\tbest: 2386591.2470499 (1757)\ttotal: 7.38s\tremaining: 4.91s\n",
            "1850:\tlearn: 0.1140826\ttest: 0.1140826\ttest1: 2386591.2469956\tbest: 2386591.2469620 (1832)\ttotal: 7.52s\tremaining: 4.67s\n",
            "1900:\tlearn: 0.1130180\ttest: 0.1130180\ttest1: 2386591.2470675\tbest: 2386591.2469620 (1832)\ttotal: 7.66s\tremaining: 4.43s\n",
            "1950:\tlearn: 0.1117870\ttest: 0.1117870\ttest1: 2386591.2469582\tbest: 2386591.2469582 (1950)\ttotal: 7.79s\tremaining: 4.19s\n",
            "2000:\tlearn: 0.1108112\ttest: 0.1108112\ttest1: 2386591.2468400\tbest: 2386591.2468351 (1998)\ttotal: 7.93s\tremaining: 3.96s\n",
            "2050:\tlearn: 0.1097892\ttest: 0.1097892\ttest1: 2386591.2468202\tbest: 2386591.2467996 (2043)\ttotal: 8.06s\tremaining: 3.73s\n",
            "2100:\tlearn: 0.1088019\ttest: 0.1088019\ttest1: 2386591.2467374\tbest: 2386591.2467084 (2096)\ttotal: 8.18s\tremaining: 3.5s\n",
            "2150:\tlearn: 0.1078548\ttest: 0.1078548\ttest1: 2386591.2465436\tbest: 2386591.2465405 (2149)\ttotal: 8.32s\tremaining: 3.29s\n",
            "2200:\tlearn: 0.1069813\ttest: 0.1069813\ttest1: 2386591.2465798\tbest: 2386591.2465255 (2167)\ttotal: 8.45s\tremaining: 3.07s\n",
            "2250:\tlearn: 0.1060893\ttest: 0.1060893\ttest1: 2386591.2467048\tbest: 2386591.2465255 (2167)\ttotal: 8.6s\tremaining: 2.86s\n",
            "2300:\tlearn: 0.1052452\ttest: 0.1052452\ttest1: 2386591.2466432\tbest: 2386591.2465255 (2167)\ttotal: 8.72s\tremaining: 2.65s\n",
            "2350:\tlearn: 0.1042594\ttest: 0.1042594\ttest1: 2386591.2466885\tbest: 2386591.2465255 (2167)\ttotal: 8.86s\tremaining: 2.44s\n",
            "2400:\tlearn: 0.1032611\ttest: 0.1032611\ttest1: 2386591.2465575\tbest: 2386591.2465255 (2167)\ttotal: 8.99s\tremaining: 2.24s\n",
            "2450:\tlearn: 0.1024041\ttest: 0.1024041\ttest1: 2386591.2466280\tbest: 2386591.2465255 (2167)\ttotal: 9.13s\tremaining: 2.04s\n",
            "2500:\tlearn: 0.1015830\ttest: 0.1015830\ttest1: 2386591.2466778\tbest: 2386591.2465255 (2167)\ttotal: 9.26s\tremaining: 1.85s\n",
            "2550:\tlearn: 0.1007974\ttest: 0.1007974\ttest1: 2386591.2467360\tbest: 2386591.2465255 (2167)\ttotal: 9.39s\tremaining: 1.65s\n",
            "2600:\tlearn: 0.1000328\ttest: 0.1000328\ttest1: 2386591.2467357\tbest: 2386591.2465255 (2167)\ttotal: 9.52s\tremaining: 1.46s\n",
            "2650:\tlearn: 0.0992705\ttest: 0.0992705\ttest1: 2386591.2467503\tbest: 2386591.2465255 (2167)\ttotal: 9.66s\tremaining: 1.27s\n",
            "2700:\tlearn: 0.0984635\ttest: 0.0984635\ttest1: 2386591.2467758\tbest: 2386591.2465255 (2167)\ttotal: 9.8s\tremaining: 1.08s\n",
            "2750:\tlearn: 0.0977655\ttest: 0.0977655\ttest1: 2386591.2468007\tbest: 2386591.2465255 (2167)\ttotal: 9.94s\tremaining: 899ms\n",
            "2800:\tlearn: 0.0970651\ttest: 0.0970651\ttest1: 2386591.2467871\tbest: 2386591.2465255 (2167)\ttotal: 10.1s\tremaining: 715ms\n",
            "2850:\tlearn: 0.0962939\ttest: 0.0962939\ttest1: 2386591.2467140\tbest: 2386591.2465255 (2167)\ttotal: 10.2s\tremaining: 533ms\n",
            "2900:\tlearn: 0.0955518\ttest: 0.0955518\ttest1: 2386591.2464508\tbest: 2386591.2464508 (2900)\ttotal: 10.3s\tremaining: 352ms\n",
            "2950:\tlearn: 0.0948499\ttest: 0.0948499\ttest1: 2386591.2464432\tbest: 2386591.2464390 (2949)\ttotal: 10.5s\tremaining: 174ms\n",
            "2999:\tlearn: 0.0941611\ttest: 0.0941611\ttest1: 2386591.2463209\tbest: 2386591.2462988 (2978)\ttotal: 10.6s\tremaining: 0us\n",
            "\n",
            "bestTest = 2386591.246\n",
            "bestIteration = 2978\n",
            "\n",
            "Shrink model to first 2979 iterations.\n",
            "err:  513382.6372897895\n",
            "0:\tlearn: 0.4189181\ttest: 0.4189181\ttest1: 2420093.2888214\tbest: 2420093.2888214 (0)\ttotal: 2.73ms\tremaining: 8.2s\n",
            "50:\tlearn: 0.2028655\ttest: 0.2028655\ttest1: 2420093.1602419\tbest: 2420093.1602419 (50)\ttotal: 145ms\tremaining: 8.37s\n",
            "100:\tlearn: 0.1863818\ttest: 0.1863818\ttest1: 2420093.1489276\tbest: 2420093.1489276 (100)\ttotal: 278ms\tremaining: 7.99s\n",
            "150:\tlearn: 0.1785583\ttest: 0.1785583\ttest1: 2420093.1458328\tbest: 2420093.1457817 (147)\ttotal: 405ms\tremaining: 7.64s\n",
            "200:\tlearn: 0.1737235\ttest: 0.1737235\ttest1: 2420093.1448121\tbest: 2420093.1447981 (199)\ttotal: 541ms\tremaining: 7.54s\n",
            "250:\tlearn: 0.1696106\ttest: 0.1696106\ttest1: 2420093.1444446\tbest: 2420093.1443883 (248)\ttotal: 663ms\tremaining: 7.26s\n",
            "300:\tlearn: 0.1660391\ttest: 0.1660391\ttest1: 2420093.1443894\tbest: 2420093.1442813 (279)\ttotal: 800ms\tremaining: 7.18s\n",
            "350:\tlearn: 0.1629434\ttest: 0.1629434\ttest1: 2420093.1438481\tbest: 2420093.1438481 (350)\ttotal: 935ms\tremaining: 7.05s\n",
            "400:\tlearn: 0.1599110\ttest: 0.1599110\ttest1: 2420093.1438879\tbest: 2420093.1437651 (355)\ttotal: 1.06s\tremaining: 6.91s\n",
            "450:\tlearn: 0.1570999\ttest: 0.1570999\ttest1: 2420093.1434827\tbest: 2420093.1434827 (450)\ttotal: 1.19s\tremaining: 6.7s\n",
            "500:\tlearn: 0.1547714\ttest: 0.1547714\ttest1: 2420093.1428722\tbest: 2420093.1428722 (500)\ttotal: 1.31s\tremaining: 6.55s\n",
            "550:\tlearn: 0.1524889\ttest: 0.1524889\ttest1: 2420093.1424114\tbest: 2420093.1423868 (549)\ttotal: 1.43s\tremaining: 6.37s\n",
            "600:\tlearn: 0.1500848\ttest: 0.1500848\ttest1: 2420093.1422322\tbest: 2420093.1421094 (582)\ttotal: 1.56s\tremaining: 6.23s\n",
            "650:\tlearn: 0.1480155\ttest: 0.1480155\ttest1: 2420093.1421865\tbest: 2420093.1420800 (626)\ttotal: 1.71s\tremaining: 6.15s\n",
            "700:\tlearn: 0.1459781\ttest: 0.1459781\ttest1: 2420093.1422616\tbest: 2420093.1420800 (626)\ttotal: 1.85s\tremaining: 6.06s\n",
            "750:\tlearn: 0.1439366\ttest: 0.1439366\ttest1: 2420093.1422861\tbest: 2420093.1420800 (626)\ttotal: 1.98s\tremaining: 5.93s\n",
            "800:\tlearn: 0.1418664\ttest: 0.1418664\ttest1: 2420093.1423339\tbest: 2420093.1420800 (626)\ttotal: 2.1s\tremaining: 5.78s\n",
            "850:\tlearn: 0.1399191\ttest: 0.1399191\ttest1: 2420093.1423209\tbest: 2420093.1420800 (626)\ttotal: 2.23s\tremaining: 5.63s\n",
            "900:\tlearn: 0.1381146\ttest: 0.1381146\ttest1: 2420093.1424402\tbest: 2420093.1420800 (626)\ttotal: 2.36s\tremaining: 5.5s\n",
            "950:\tlearn: 0.1364507\ttest: 0.1364507\ttest1: 2420093.1422272\tbest: 2420093.1420800 (626)\ttotal: 2.49s\tremaining: 5.36s\n",
            "1000:\tlearn: 0.1347256\ttest: 0.1347256\ttest1: 2420093.1422943\tbest: 2420093.1420800 (626)\ttotal: 2.62s\tremaining: 5.23s\n",
            "1050:\tlearn: 0.1330925\ttest: 0.1330925\ttest1: 2420093.1422552\tbest: 2420093.1420800 (626)\ttotal: 2.75s\tremaining: 5.09s\n",
            "1100:\tlearn: 0.1314208\ttest: 0.1314208\ttest1: 2420093.1421790\tbest: 2420093.1420800 (626)\ttotal: 2.89s\tremaining: 4.99s\n",
            "1150:\tlearn: 0.1298319\ttest: 0.1298319\ttest1: 2420093.1420436\tbest: 2420093.1420436 (1150)\ttotal: 3.02s\tremaining: 4.86s\n",
            "1200:\tlearn: 0.1282672\ttest: 0.1282672\ttest1: 2420093.1420123\tbest: 2420093.1419963 (1192)\ttotal: 3.16s\tremaining: 4.73s\n",
            "1250:\tlearn: 0.1267500\ttest: 0.1267500\ttest1: 2420093.1418971\tbest: 2420093.1418929 (1248)\ttotal: 3.28s\tremaining: 4.59s\n",
            "1300:\tlearn: 0.1252863\ttest: 0.1252863\ttest1: 2420093.1418987\tbest: 2420093.1418477 (1284)\ttotal: 3.41s\tremaining: 4.46s\n",
            "1350:\tlearn: 0.1239138\ttest: 0.1239138\ttest1: 2420093.1417883\tbest: 2420093.1417660 (1320)\ttotal: 3.54s\tremaining: 4.32s\n",
            "1400:\tlearn: 0.1224987\ttest: 0.1224987\ttest1: 2420093.1415872\tbest: 2420093.1415872 (1400)\ttotal: 3.67s\tremaining: 4.18s\n",
            "1450:\tlearn: 0.1213298\ttest: 0.1213298\ttest1: 2420093.1415747\tbest: 2420093.1415167 (1430)\ttotal: 3.8s\tremaining: 4.06s\n",
            "1500:\tlearn: 0.1199677\ttest: 0.1199677\ttest1: 2420093.1415661\tbest: 2420093.1414723 (1472)\ttotal: 3.94s\tremaining: 3.94s\n",
            "1550:\tlearn: 0.1187621\ttest: 0.1187621\ttest1: 2420093.1415273\tbest: 2420093.1414723 (1472)\ttotal: 4.07s\tremaining: 3.8s\n",
            "1600:\tlearn: 0.1174882\ttest: 0.1174882\ttest1: 2420093.1415143\tbest: 2420093.1414110 (1593)\ttotal: 4.19s\tremaining: 3.66s\n",
            "1650:\tlearn: 0.1162922\ttest: 0.1162922\ttest1: 2420093.1412930\tbest: 2420093.1412815 (1649)\ttotal: 4.31s\tremaining: 3.52s\n",
            "1700:\tlearn: 0.1151056\ttest: 0.1151056\ttest1: 2420093.1412307\tbest: 2420093.1412019 (1699)\ttotal: 4.45s\tremaining: 3.4s\n",
            "1750:\tlearn: 0.1140666\ttest: 0.1140666\ttest1: 2420093.1413673\tbest: 2420093.1411993 (1702)\ttotal: 4.8s\tremaining: 3.42s\n",
            "1800:\tlearn: 0.1130324\ttest: 0.1130324\ttest1: 2420093.1412059\tbest: 2420093.1411851 (1797)\ttotal: 5.09s\tremaining: 3.39s\n",
            "1850:\tlearn: 0.1119820\ttest: 0.1119820\ttest1: 2420093.1412530\tbest: 2420093.1411823 (1819)\ttotal: 5.47s\tremaining: 3.4s\n",
            "1900:\tlearn: 0.1109574\ttest: 0.1109574\ttest1: 2420093.1411496\tbest: 2420093.1411457 (1897)\ttotal: 5.86s\tremaining: 3.39s\n",
            "1950:\tlearn: 0.1099318\ttest: 0.1099318\ttest1: 2420093.1411001\tbest: 2420093.1410512 (1916)\ttotal: 6.25s\tremaining: 3.36s\n",
            "2000:\tlearn: 0.1091205\ttest: 0.1091205\ttest1: 2420093.1410994\tbest: 2420093.1410512 (1916)\ttotal: 6.57s\tremaining: 3.28s\n",
            "2050:\tlearn: 0.1082382\ttest: 0.1082382\ttest1: 2420093.1411617\tbest: 2420093.1410319 (2033)\ttotal: 6.89s\tremaining: 3.19s\n",
            "2100:\tlearn: 0.1073495\ttest: 0.1073495\ttest1: 2420093.1411022\tbest: 2420093.1410319 (2033)\ttotal: 7.18s\tremaining: 3.07s\n",
            "2150:\tlearn: 0.1063503\ttest: 0.1063503\ttest1: 2420093.1410772\tbest: 2420093.1410319 (2033)\ttotal: 7.55s\tremaining: 2.98s\n",
            "2200:\tlearn: 0.1054520\ttest: 0.1054520\ttest1: 2420093.1410367\tbest: 2420093.1410266 (2199)\ttotal: 7.86s\tremaining: 2.85s\n",
            "2250:\tlearn: 0.1045699\ttest: 0.1045699\ttest1: 2420093.1409410\tbest: 2420093.1409400 (2249)\ttotal: 8.13s\tremaining: 2.71s\n",
            "2300:\tlearn: 0.1037906\ttest: 0.1037906\ttest1: 2420093.1408823\tbest: 2420093.1408139 (2290)\ttotal: 8.5s\tremaining: 2.58s\n",
            "2350:\tlearn: 0.1030180\ttest: 0.1030180\ttest1: 2420093.1408377\tbest: 2420093.1408139 (2290)\ttotal: 8.7s\tremaining: 2.4s\n",
            "2400:\tlearn: 0.1022135\ttest: 0.1022135\ttest1: 2420093.1407816\tbest: 2420093.1407542 (2369)\ttotal: 8.86s\tremaining: 2.21s\n",
            "2450:\tlearn: 0.1014051\ttest: 0.1014051\ttest1: 2420093.1407809\tbest: 2420093.1407392 (2408)\ttotal: 8.99s\tremaining: 2.01s\n",
            "2500:\tlearn: 0.1005357\ttest: 0.1005357\ttest1: 2420093.1407952\tbest: 2420093.1407392 (2408)\ttotal: 9.12s\tremaining: 1.82s\n",
            "2550:\tlearn: 0.0997022\ttest: 0.0997022\ttest1: 2420093.1408555\tbest: 2420093.1407392 (2408)\ttotal: 9.24s\tremaining: 1.63s\n",
            "2600:\tlearn: 0.0989353\ttest: 0.0989353\ttest1: 2420093.1409243\tbest: 2420093.1407392 (2408)\ttotal: 9.37s\tremaining: 1.44s\n",
            "2650:\tlearn: 0.0981422\ttest: 0.0981422\ttest1: 2420093.1409024\tbest: 2420093.1407392 (2408)\ttotal: 9.5s\tremaining: 1.25s\n",
            "2700:\tlearn: 0.0973490\ttest: 0.0973490\ttest1: 2420093.1408382\tbest: 2420093.1407392 (2408)\ttotal: 9.63s\tremaining: 1.06s\n",
            "2750:\tlearn: 0.0965393\ttest: 0.0965393\ttest1: 2420093.1407307\tbest: 2420093.1406801 (2733)\ttotal: 9.76s\tremaining: 884ms\n",
            "2800:\tlearn: 0.0957804\ttest: 0.0957804\ttest1: 2420093.1407510\tbest: 2420093.1406801 (2733)\ttotal: 9.91s\tremaining: 704ms\n",
            "2850:\tlearn: 0.0950645\ttest: 0.0950645\ttest1: 2420093.1408607\tbest: 2420093.1406801 (2733)\ttotal: 10s\tremaining: 524ms\n",
            "2900:\tlearn: 0.0942373\ttest: 0.0942373\ttest1: 2420093.1409559\tbest: 2420093.1406801 (2733)\ttotal: 10.2s\tremaining: 347ms\n",
            "2950:\tlearn: 0.0935805\ttest: 0.0935805\ttest1: 2420093.1409221\tbest: 2420093.1406801 (2733)\ttotal: 10.3s\tremaining: 171ms\n",
            "2999:\tlearn: 0.0929400\ttest: 0.0929400\ttest1: 2420093.1409023\tbest: 2420093.1406801 (2733)\ttotal: 10.4s\tremaining: 0us\n",
            "\n",
            "bestTest = 2420093.141\n",
            "bestIteration = 2733\n",
            "\n",
            "Shrink model to first 2734 iterations.\n",
            "err:  571498.0461227132\n",
            "0:\tlearn: 0.4199349\ttest: 0.4199349\ttest1: 2357664.2518387\tbest: 2357664.2518387 (0)\ttotal: 2.79ms\tremaining: 8.36s\n",
            "50:\tlearn: 0.2026834\ttest: 0.2026834\ttest1: 2357664.1499439\tbest: 2357664.1499439 (50)\ttotal: 135ms\tremaining: 7.81s\n",
            "100:\tlearn: 0.1855968\ttest: 0.1855968\ttest1: 2357664.1392212\tbest: 2357664.1392212 (100)\ttotal: 280ms\tremaining: 8.03s\n",
            "150:\tlearn: 0.1783110\ttest: 0.1783110\ttest1: 2357664.1358894\tbest: 2357664.1358894 (150)\ttotal: 407ms\tremaining: 7.67s\n",
            "200:\tlearn: 0.1733870\ttest: 0.1733870\ttest1: 2357664.1344195\tbest: 2357664.1344195 (200)\ttotal: 534ms\tremaining: 7.44s\n",
            "250:\tlearn: 0.1689571\ttest: 0.1689571\ttest1: 2357664.1334493\tbest: 2357664.1334050 (248)\ttotal: 658ms\tremaining: 7.2s\n",
            "300:\tlearn: 0.1654430\ttest: 0.1654430\ttest1: 2357664.1330591\tbest: 2357664.1330533 (299)\ttotal: 797ms\tremaining: 7.15s\n",
            "350:\tlearn: 0.1620007\ttest: 0.1620007\ttest1: 2357664.1327253\tbest: 2357664.1326553 (348)\ttotal: 926ms\tremaining: 6.99s\n",
            "400:\tlearn: 0.1589217\ttest: 0.1589217\ttest1: 2357664.1325268\tbest: 2357664.1324463 (385)\ttotal: 1.06s\tremaining: 6.87s\n",
            "450:\tlearn: 0.1564761\ttest: 0.1564761\ttest1: 2357664.1322387\tbest: 2357664.1322218 (448)\ttotal: 1.19s\tremaining: 6.7s\n",
            "500:\tlearn: 0.1539960\ttest: 0.1539960\ttest1: 2357664.1321119\tbest: 2357664.1320963 (497)\ttotal: 1.33s\tremaining: 6.66s\n",
            "550:\tlearn: 0.1515008\ttest: 0.1515008\ttest1: 2357664.1320037\tbest: 2357664.1319463 (533)\ttotal: 1.46s\tremaining: 6.49s\n",
            "600:\tlearn: 0.1489558\ttest: 0.1489558\ttest1: 2357664.1319348\tbest: 2357664.1317729 (576)\ttotal: 1.59s\tremaining: 6.34s\n",
            "650:\tlearn: 0.1468111\ttest: 0.1468111\ttest1: 2357664.1316406\tbest: 2357664.1315750 (642)\ttotal: 1.71s\tremaining: 6.18s\n",
            "700:\tlearn: 0.1447158\ttest: 0.1447158\ttest1: 2357664.1312809\tbest: 2357664.1312809 (700)\ttotal: 1.84s\tremaining: 6.05s\n",
            "750:\tlearn: 0.1427923\ttest: 0.1427923\ttest1: 2357664.1311739\tbest: 2357664.1311292 (739)\ttotal: 1.98s\tremaining: 5.93s\n",
            "800:\tlearn: 0.1409207\ttest: 0.1409207\ttest1: 2357664.1309942\tbest: 2357664.1309942 (800)\ttotal: 2.12s\tremaining: 5.81s\n",
            "850:\tlearn: 0.1392533\ttest: 0.1392533\ttest1: 2357664.1310653\tbest: 2357664.1309360 (804)\ttotal: 2.25s\tremaining: 5.67s\n",
            "900:\tlearn: 0.1374057\ttest: 0.1374057\ttest1: 2357664.1311646\tbest: 2357664.1309360 (804)\ttotal: 2.4s\tremaining: 5.59s\n",
            "950:\tlearn: 0.1355571\ttest: 0.1355571\ttest1: 2357664.1310179\tbest: 2357664.1308392 (940)\ttotal: 2.52s\tremaining: 5.43s\n",
            "1000:\tlearn: 0.1339183\ttest: 0.1339183\ttest1: 2357664.1308913\tbest: 2357664.1308118 (991)\ttotal: 2.65s\tremaining: 5.29s\n",
            "1050:\tlearn: 0.1323930\ttest: 0.1323930\ttest1: 2357664.1307633\tbest: 2357664.1306904 (1034)\ttotal: 2.78s\tremaining: 5.15s\n",
            "1100:\tlearn: 0.1309512\ttest: 0.1309512\ttest1: 2357664.1306795\tbest: 2357664.1306795 (1100)\ttotal: 2.91s\tremaining: 5.01s\n",
            "1150:\tlearn: 0.1294312\ttest: 0.1294312\ttest1: 2357664.1307860\tbest: 2357664.1306782 (1108)\ttotal: 3.04s\tremaining: 4.88s\n",
            "1200:\tlearn: 0.1279713\ttest: 0.1279713\ttest1: 2357664.1306252\tbest: 2357664.1306252 (1200)\ttotal: 3.17s\tremaining: 4.74s\n",
            "1250:\tlearn: 0.1264507\ttest: 0.1264507\ttest1: 2357664.1305824\tbest: 2357664.1305098 (1235)\ttotal: 3.3s\tremaining: 4.62s\n",
            "1300:\tlearn: 0.1249449\ttest: 0.1249449\ttest1: 2357664.1305419\tbest: 2357664.1304865 (1259)\ttotal: 3.43s\tremaining: 4.49s\n",
            "1350:\tlearn: 0.1236418\ttest: 0.1236418\ttest1: 2357664.1306038\tbest: 2357664.1304865 (1259)\ttotal: 3.56s\tremaining: 4.35s\n",
            "1400:\tlearn: 0.1223050\ttest: 0.1223050\ttest1: 2357664.1307165\tbest: 2357664.1304865 (1259)\ttotal: 3.69s\tremaining: 4.21s\n",
            "1450:\tlearn: 0.1209099\ttest: 0.1209099\ttest1: 2357664.1308071\tbest: 2357664.1304865 (1259)\ttotal: 3.81s\tremaining: 4.07s\n",
            "1500:\tlearn: 0.1196151\ttest: 0.1196151\ttest1: 2357664.1306300\tbest: 2357664.1304865 (1259)\ttotal: 3.95s\tremaining: 3.94s\n",
            "1550:\tlearn: 0.1184176\ttest: 0.1184176\ttest1: 2357664.1306682\tbest: 2357664.1304865 (1259)\ttotal: 4.08s\tremaining: 3.81s\n",
            "1600:\tlearn: 0.1173283\ttest: 0.1173283\ttest1: 2357664.1304755\tbest: 2357664.1304646 (1597)\ttotal: 4.22s\tremaining: 3.69s\n",
            "1650:\tlearn: 0.1161957\ttest: 0.1161957\ttest1: 2357664.1304150\tbest: 2357664.1304060 (1603)\ttotal: 4.35s\tremaining: 3.56s\n",
            "1700:\tlearn: 0.1151430\ttest: 0.1151430\ttest1: 2357664.1303015\tbest: 2357664.1302558 (1691)\ttotal: 4.48s\tremaining: 3.42s\n",
            "1750:\tlearn: 0.1139984\ttest: 0.1139984\ttest1: 2357664.1302512\tbest: 2357664.1302026 (1744)\ttotal: 4.6s\tremaining: 3.28s\n",
            "1800:\tlearn: 0.1128205\ttest: 0.1128205\ttest1: 2357664.1304670\tbest: 2357664.1302026 (1744)\ttotal: 4.74s\tremaining: 3.15s\n",
            "1850:\tlearn: 0.1116879\ttest: 0.1116879\ttest1: 2357664.1302988\tbest: 2357664.1302026 (1744)\ttotal: 4.86s\tremaining: 3.02s\n",
            "1900:\tlearn: 0.1106770\ttest: 0.1106770\ttest1: 2357664.1302052\tbest: 2357664.1301678 (1896)\ttotal: 4.99s\tremaining: 2.89s\n",
            "1950:\tlearn: 0.1096266\ttest: 0.1096266\ttest1: 2357664.1300644\tbest: 2357664.1300599 (1948)\ttotal: 5.13s\tremaining: 2.76s\n",
            "2000:\tlearn: 0.1086615\ttest: 0.1086615\ttest1: 2357664.1300776\tbest: 2357664.1299707 (1985)\ttotal: 5.27s\tremaining: 2.63s\n",
            "2050:\tlearn: 0.1076251\ttest: 0.1076251\ttest1: 2357664.1299833\tbest: 2357664.1299707 (1985)\ttotal: 5.4s\tremaining: 2.5s\n",
            "2100:\tlearn: 0.1066383\ttest: 0.1066383\ttest1: 2357664.1300870\tbest: 2357664.1299632 (2054)\ttotal: 5.53s\tremaining: 2.37s\n",
            "2150:\tlearn: 0.1057227\ttest: 0.1057227\ttest1: 2357664.1299437\tbest: 2357664.1299357 (2141)\ttotal: 5.65s\tremaining: 2.23s\n",
            "2200:\tlearn: 0.1048955\ttest: 0.1048955\ttest1: 2357664.1298682\tbest: 2357664.1298645 (2199)\ttotal: 5.79s\tremaining: 2.1s\n",
            "2250:\tlearn: 0.1040431\ttest: 0.1040431\ttest1: 2357664.1297616\tbest: 2357664.1297616 (2250)\ttotal: 5.91s\tremaining: 1.97s\n",
            "2300:\tlearn: 0.1032816\ttest: 0.1032816\ttest1: 2357664.1297645\tbest: 2357664.1297507 (2253)\ttotal: 6.04s\tremaining: 1.84s\n",
            "2350:\tlearn: 0.1024616\ttest: 0.1024616\ttest1: 2357664.1295787\tbest: 2357664.1295767 (2345)\ttotal: 6.18s\tremaining: 1.71s\n",
            "2400:\tlearn: 0.1015663\ttest: 0.1015663\ttest1: 2357664.1295821\tbest: 2357664.1295474 (2384)\ttotal: 6.32s\tremaining: 1.58s\n",
            "2450:\tlearn: 0.1007157\ttest: 0.1007157\ttest1: 2357664.1295448\tbest: 2357664.1295246 (2443)\ttotal: 6.45s\tremaining: 1.44s\n",
            "2500:\tlearn: 0.0999147\ttest: 0.0999147\ttest1: 2357664.1295494\tbest: 2357664.1294572 (2474)\ttotal: 6.58s\tremaining: 1.31s\n",
            "2550:\tlearn: 0.0990080\ttest: 0.0990080\ttest1: 2357664.1295126\tbest: 2357664.1294572 (2474)\ttotal: 6.71s\tremaining: 1.18s\n",
            "2600:\tlearn: 0.0981286\ttest: 0.0981286\ttest1: 2357664.1294242\tbest: 2357664.1294102 (2593)\ttotal: 6.84s\tremaining: 1.05s\n",
            "2650:\tlearn: 0.0972172\ttest: 0.0972172\ttest1: 2357664.1293182\tbest: 2357664.1292788 (2630)\ttotal: 6.97s\tremaining: 917ms\n",
            "2700:\tlearn: 0.0965009\ttest: 0.0965009\ttest1: 2357664.1292753\tbest: 2357664.1292542 (2696)\ttotal: 7.1s\tremaining: 786ms\n",
            "2750:\tlearn: 0.0957253\ttest: 0.0957253\ttest1: 2357664.1291879\tbest: 2357664.1291815 (2733)\ttotal: 7.25s\tremaining: 656ms\n",
            "2800:\tlearn: 0.0949770\ttest: 0.0949770\ttest1: 2357664.1292237\tbest: 2357664.1291714 (2757)\ttotal: 7.38s\tremaining: 524ms\n",
            "2850:\tlearn: 0.0943096\ttest: 0.0943096\ttest1: 2357664.1291479\tbest: 2357664.1291408 (2845)\ttotal: 7.51s\tremaining: 393ms\n",
            "2900:\tlearn: 0.0936312\ttest: 0.0936312\ttest1: 2357664.1291065\tbest: 2357664.1290471 (2895)\ttotal: 7.64s\tremaining: 261ms\n",
            "2950:\tlearn: 0.0928693\ttest: 0.0928693\ttest1: 2357664.1291397\tbest: 2357664.1290471 (2895)\ttotal: 7.91s\tremaining: 131ms\n",
            "2999:\tlearn: 0.0922405\ttest: 0.0922405\ttest1: 2357664.1291624\tbest: 2357664.1290471 (2895)\ttotal: 8.29s\tremaining: 0us\n",
            "\n",
            "bestTest = 2357664.129\n",
            "bestIteration = 2895\n",
            "\n",
            "Shrink model to first 2896 iterations.\n",
            "err:  576836.7205537801\n",
            "0:\tlearn: 0.4204083\ttest: 0.4204083\ttest1: 2336080.0785519\tbest: 2336080.0785519 (0)\ttotal: 8.36ms\tremaining: 25.1s\n",
            "50:\tlearn: 0.2034458\ttest: 0.2034458\ttest1: 2336079.9711653\tbest: 2336079.9711653 (50)\ttotal: 393ms\tremaining: 22.7s\n",
            "100:\tlearn: 0.1864337\ttest: 0.1864337\ttest1: 2336079.9594314\tbest: 2336079.9594314 (100)\ttotal: 799ms\tremaining: 22.9s\n",
            "150:\tlearn: 0.1787699\ttest: 0.1787699\ttest1: 2336079.9552417\tbest: 2336079.9552417 (150)\ttotal: 1.2s\tremaining: 22.5s\n",
            "200:\tlearn: 0.1735315\ttest: 0.1735315\ttest1: 2336079.9536391\tbest: 2336079.9536391 (200)\ttotal: 1.58s\tremaining: 22s\n",
            "250:\tlearn: 0.1693058\ttest: 0.1693058\ttest1: 2336079.9529095\tbest: 2336079.9528107 (244)\ttotal: 1.98s\tremaining: 21.6s\n",
            "300:\tlearn: 0.1656344\ttest: 0.1656344\ttest1: 2336079.9527699\tbest: 2336079.9526745 (298)\ttotal: 2.36s\tremaining: 21.2s\n",
            "350:\tlearn: 0.1622956\ttest: 0.1622956\ttest1: 2336079.9523122\tbest: 2336079.9522297 (341)\ttotal: 2.74s\tremaining: 20.7s\n",
            "400:\tlearn: 0.1593088\ttest: 0.1593088\ttest1: 2336079.9519474\tbest: 2336079.9519029 (395)\ttotal: 3.15s\tremaining: 20.4s\n",
            "450:\tlearn: 0.1565180\ttest: 0.1565180\ttest1: 2336079.9518622\tbest: 2336079.9518622 (450)\ttotal: 3.33s\tremaining: 18.8s\n",
            "500:\tlearn: 0.1538980\ttest: 0.1538980\ttest1: 2336079.9515473\tbest: 2336079.9515473 (500)\ttotal: 3.46s\tremaining: 17.3s\n",
            "550:\tlearn: 0.1515598\ttest: 0.1515598\ttest1: 2336079.9509347\tbest: 2336079.9509347 (550)\ttotal: 3.59s\tremaining: 16s\n",
            "600:\tlearn: 0.1495057\ttest: 0.1495057\ttest1: 2336079.9507109\tbest: 2336079.9507109 (600)\ttotal: 3.73s\tremaining: 14.9s\n",
            "650:\tlearn: 0.1472586\ttest: 0.1472586\ttest1: 2336079.9504127\tbest: 2336079.9504127 (650)\ttotal: 3.87s\tremaining: 14s\n",
            "700:\tlearn: 0.1450278\ttest: 0.1450278\ttest1: 2336079.9502410\tbest: 2336079.9502247 (693)\ttotal: 4s\tremaining: 13.1s\n",
            "750:\tlearn: 0.1429489\ttest: 0.1429489\ttest1: 2336079.9504321\tbest: 2336079.9502114 (703)\ttotal: 4.13s\tremaining: 12.4s\n",
            "800:\tlearn: 0.1410528\ttest: 0.1410528\ttest1: 2336079.9503065\tbest: 2336079.9502114 (703)\ttotal: 4.26s\tremaining: 11.7s\n",
            "850:\tlearn: 0.1393644\ttest: 0.1393644\ttest1: 2336079.9501028\tbest: 2336079.9500924 (841)\ttotal: 4.38s\tremaining: 11.1s\n",
            "900:\tlearn: 0.1377700\ttest: 0.1377700\ttest1: 2336079.9499119\tbest: 2336079.9498978 (897)\ttotal: 4.52s\tremaining: 10.5s\n",
            "950:\tlearn: 0.1360564\ttest: 0.1360564\ttest1: 2336079.9498625\tbest: 2336079.9498134 (920)\ttotal: 4.64s\tremaining: 10s\n",
            "1000:\tlearn: 0.1343808\ttest: 0.1343808\ttest1: 2336079.9499499\tbest: 2336079.9498134 (920)\ttotal: 4.77s\tremaining: 9.53s\n",
            "1050:\tlearn: 0.1328175\ttest: 0.1328175\ttest1: 2336079.9499769\tbest: 2336079.9498134 (920)\ttotal: 4.91s\tremaining: 9.11s\n",
            "1100:\tlearn: 0.1312694\ttest: 0.1312694\ttest1: 2336079.9499861\tbest: 2336079.9498134 (920)\ttotal: 5.05s\tremaining: 8.71s\n",
            "1150:\tlearn: 0.1298630\ttest: 0.1298630\ttest1: 2336079.9499128\tbest: 2336079.9498134 (920)\ttotal: 5.18s\tremaining: 8.32s\n",
            "1200:\tlearn: 0.1283950\ttest: 0.1283950\ttest1: 2336079.9498762\tbest: 2336079.9498134 (920)\ttotal: 5.31s\tremaining: 7.95s\n",
            "1250:\tlearn: 0.1268375\ttest: 0.1268375\ttest1: 2336079.9496973\tbest: 2336079.9496973 (1250)\ttotal: 5.43s\tremaining: 7.6s\n",
            "1300:\tlearn: 0.1256331\ttest: 0.1256331\ttest1: 2336079.9497052\tbest: 2336079.9495715 (1289)\ttotal: 5.57s\tremaining: 7.28s\n",
            "1350:\tlearn: 0.1243358\ttest: 0.1243358\ttest1: 2336079.9496772\tbest: 2336079.9495715 (1289)\ttotal: 5.7s\tremaining: 6.95s\n",
            "1400:\tlearn: 0.1230926\ttest: 0.1230926\ttest1: 2336079.9495936\tbest: 2336079.9495715 (1289)\ttotal: 5.84s\tremaining: 6.67s\n",
            "1450:\tlearn: 0.1218748\ttest: 0.1218748\ttest1: 2336079.9494799\tbest: 2336079.9494793 (1449)\ttotal: 5.97s\tremaining: 6.37s\n",
            "1500:\tlearn: 0.1206705\ttest: 0.1206705\ttest1: 2336079.9493776\tbest: 2336079.9493698 (1474)\ttotal: 6.1s\tremaining: 6.09s\n",
            "1550:\tlearn: 0.1194877\ttest: 0.1194877\ttest1: 2336079.9494499\tbest: 2336079.9493459 (1516)\ttotal: 6.23s\tremaining: 5.82s\n",
            "1600:\tlearn: 0.1182891\ttest: 0.1182891\ttest1: 2336079.9494730\tbest: 2336079.9493459 (1516)\ttotal: 6.36s\tremaining: 5.56s\n",
            "1650:\tlearn: 0.1171770\ttest: 0.1171770\ttest1: 2336079.9493348\tbest: 2336079.9493348 (1650)\ttotal: 6.48s\tremaining: 5.3s\n",
            "1700:\tlearn: 0.1160692\ttest: 0.1160692\ttest1: 2336079.9492591\tbest: 2336079.9492406 (1696)\ttotal: 6.61s\tremaining: 5.05s\n",
            "1750:\tlearn: 0.1150186\ttest: 0.1150186\ttest1: 2336079.9493146\tbest: 2336079.9492298 (1713)\ttotal: 6.74s\tremaining: 4.81s\n",
            "1800:\tlearn: 0.1138822\ttest: 0.1138822\ttest1: 2336079.9491792\tbest: 2336079.9491358 (1793)\ttotal: 6.88s\tremaining: 4.58s\n",
            "1850:\tlearn: 0.1128201\ttest: 0.1128201\ttest1: 2336079.9490996\tbest: 2336079.9490990 (1848)\ttotal: 7.01s\tremaining: 4.35s\n",
            "1900:\tlearn: 0.1117844\ttest: 0.1117844\ttest1: 2336079.9491242\tbest: 2336079.9490342 (1867)\ttotal: 7.15s\tremaining: 4.13s\n",
            "1950:\tlearn: 0.1107104\ttest: 0.1107104\ttest1: 2336079.9492296\tbest: 2336079.9490342 (1867)\ttotal: 7.28s\tremaining: 3.91s\n",
            "2000:\tlearn: 0.1096521\ttest: 0.1096521\ttest1: 2336079.9491127\tbest: 2336079.9490342 (1867)\ttotal: 7.41s\tremaining: 3.7s\n",
            "2050:\tlearn: 0.1087438\ttest: 0.1087438\ttest1: 2336079.9490175\tbest: 2336079.9490175 (2050)\ttotal: 7.53s\tremaining: 3.48s\n",
            "2100:\tlearn: 0.1077307\ttest: 0.1077307\ttest1: 2336079.9490517\tbest: 2336079.9489934 (2055)\ttotal: 7.67s\tremaining: 3.28s\n",
            "2150:\tlearn: 0.1067019\ttest: 0.1067019\ttest1: 2336079.9489385\tbest: 2336079.9489385 (2150)\ttotal: 7.81s\tremaining: 3.08s\n",
            "2200:\tlearn: 0.1058023\ttest: 0.1058023\ttest1: 2336079.9489301\tbest: 2336079.9488864 (2184)\ttotal: 7.95s\tremaining: 2.88s\n",
            "2250:\tlearn: 0.1049510\ttest: 0.1049510\ttest1: 2336079.9489746\tbest: 2336079.9488715 (2213)\ttotal: 8.07s\tremaining: 2.69s\n",
            "2300:\tlearn: 0.1041304\ttest: 0.1041304\ttest1: 2336079.9490573\tbest: 2336079.9488715 (2213)\ttotal: 8.2s\tremaining: 2.49s\n",
            "2350:\tlearn: 0.1032962\ttest: 0.1032962\ttest1: 2336079.9489831\tbest: 2336079.9488715 (2213)\ttotal: 8.34s\tremaining: 2.3s\n",
            "2400:\tlearn: 0.1024676\ttest: 0.1024676\ttest1: 2336079.9489612\tbest: 2336079.9488715 (2213)\ttotal: 8.47s\tremaining: 2.11s\n",
            "2450:\tlearn: 0.1017343\ttest: 0.1017343\ttest1: 2336079.9488460\tbest: 2336079.9488395 (2449)\ttotal: 8.61s\tremaining: 1.93s\n",
            "2500:\tlearn: 0.1009436\ttest: 0.1009436\ttest1: 2336079.9487735\tbest: 2336079.9487659 (2495)\ttotal: 8.75s\tremaining: 1.75s\n",
            "2550:\tlearn: 0.1001093\ttest: 0.1001093\ttest1: 2336079.9487081\tbest: 2336079.9486938 (2548)\ttotal: 8.88s\tremaining: 1.56s\n",
            "2600:\tlearn: 0.0992621\ttest: 0.0992621\ttest1: 2336079.9485831\tbest: 2336079.9485671 (2597)\ttotal: 9.02s\tremaining: 1.38s\n",
            "2650:\tlearn: 0.0985273\ttest: 0.0985273\ttest1: 2336079.9485557\tbest: 2336079.9485362 (2639)\ttotal: 9.14s\tremaining: 1.2s\n",
            "2700:\tlearn: 0.0978060\ttest: 0.0978060\ttest1: 2336079.9485202\tbest: 2336079.9484670 (2666)\ttotal: 9.27s\tremaining: 1.03s\n",
            "2750:\tlearn: 0.0970415\ttest: 0.0970415\ttest1: 2336079.9484408\tbest: 2336079.9483975 (2730)\ttotal: 9.4s\tremaining: 851ms\n",
            "2800:\tlearn: 0.0963125\ttest: 0.0963125\ttest1: 2336079.9484116\tbest: 2336079.9483848 (2777)\ttotal: 9.53s\tremaining: 677ms\n",
            "2850:\tlearn: 0.0955317\ttest: 0.0955317\ttest1: 2336079.9484403\tbest: 2336079.9483848 (2777)\ttotal: 9.67s\tremaining: 505ms\n",
            "2900:\tlearn: 0.0948307\ttest: 0.0948307\ttest1: 2336079.9484783\tbest: 2336079.9483848 (2777)\ttotal: 9.81s\tremaining: 335ms\n",
            "2950:\tlearn: 0.0941712\ttest: 0.0941712\ttest1: 2336079.9484177\tbest: 2336079.9483848 (2777)\ttotal: 9.93s\tremaining: 165ms\n",
            "2999:\tlearn: 0.0935041\ttest: 0.0935041\ttest1: 2336079.9484459\tbest: 2336079.9483848 (2777)\ttotal: 10.1s\tremaining: 0us\n",
            "\n",
            "bestTest = 2336079.948\n",
            "bestIteration = 2777\n",
            "\n",
            "Shrink model to first 2778 iterations.\n",
            "err:  488432.39091275004\n",
            "0:\tlearn: 0.4192540\ttest: 0.4192540\ttest1: 2426376.9186987\tbest: 2426376.9186987 (0)\ttotal: 5.52ms\tremaining: 16.6s\n",
            "50:\tlearn: 0.2042116\ttest: 0.2042116\ttest1: 2426376.7916319\tbest: 2426376.7916319 (50)\ttotal: 140ms\tremaining: 8.09s\n",
            "100:\tlearn: 0.1869930\ttest: 0.1869930\ttest1: 2426376.7779281\tbest: 2426376.7779281 (100)\ttotal: 275ms\tremaining: 7.9s\n",
            "150:\tlearn: 0.1794364\ttest: 0.1794364\ttest1: 2426376.7745248\tbest: 2426376.7745248 (150)\ttotal: 403ms\tremaining: 7.6s\n",
            "200:\tlearn: 0.1740953\ttest: 0.1740953\ttest1: 2426376.7740697\tbest: 2426376.7740278 (184)\ttotal: 537ms\tremaining: 7.47s\n",
            "250:\tlearn: 0.1696913\ttest: 0.1696913\ttest1: 2426376.7729610\tbest: 2426376.7729610 (250)\ttotal: 671ms\tremaining: 7.35s\n",
            "300:\tlearn: 0.1659290\ttest: 0.1659290\ttest1: 2426376.7728539\tbest: 2426376.7727023 (276)\ttotal: 803ms\tremaining: 7.2s\n",
            "350:\tlearn: 0.1628617\ttest: 0.1628617\ttest1: 2426376.7725684\tbest: 2426376.7725570 (349)\ttotal: 932ms\tremaining: 7.03s\n",
            "400:\tlearn: 0.1599482\ttest: 0.1599482\ttest1: 2426376.7725717\tbest: 2426376.7723838 (373)\ttotal: 1.06s\tremaining: 6.85s\n",
            "450:\tlearn: 0.1575018\ttest: 0.1575018\ttest1: 2426376.7727580\tbest: 2426376.7723838 (373)\ttotal: 1.19s\tremaining: 6.73s\n",
            "500:\tlearn: 0.1549534\ttest: 0.1549534\ttest1: 2426376.7728659\tbest: 2426376.7723838 (373)\ttotal: 1.31s\tremaining: 6.55s\n",
            "550:\tlearn: 0.1524871\ttest: 0.1524871\ttest1: 2426376.7728236\tbest: 2426376.7723838 (373)\ttotal: 1.44s\tremaining: 6.4s\n",
            "600:\tlearn: 0.1504947\ttest: 0.1504947\ttest1: 2426376.7729079\tbest: 2426376.7723838 (373)\ttotal: 1.59s\tremaining: 6.33s\n",
            "650:\tlearn: 0.1485029\ttest: 0.1485029\ttest1: 2426376.7730475\tbest: 2426376.7723838 (373)\ttotal: 1.72s\tremaining: 6.21s\n",
            "700:\tlearn: 0.1465332\ttest: 0.1465332\ttest1: 2426376.7731556\tbest: 2426376.7723838 (373)\ttotal: 1.85s\tremaining: 6.06s\n",
            "750:\tlearn: 0.1445504\ttest: 0.1445504\ttest1: 2426376.7731896\tbest: 2426376.7723838 (373)\ttotal: 1.98s\tremaining: 5.93s\n",
            "800:\tlearn: 0.1425959\ttest: 0.1425959\ttest1: 2426376.7732212\tbest: 2426376.7723838 (373)\ttotal: 2.1s\tremaining: 5.78s\n",
            "850:\tlearn: 0.1406458\ttest: 0.1406458\ttest1: 2426376.7732813\tbest: 2426376.7723838 (373)\ttotal: 2.24s\tremaining: 5.66s\n",
            "900:\tlearn: 0.1387434\ttest: 0.1387434\ttest1: 2426376.7732248\tbest: 2426376.7723838 (373)\ttotal: 2.37s\tremaining: 5.53s\n",
            "950:\tlearn: 0.1370547\ttest: 0.1370547\ttest1: 2426376.7731926\tbest: 2426376.7723838 (373)\ttotal: 2.53s\tremaining: 5.45s\n",
            "1000:\tlearn: 0.1355020\ttest: 0.1355020\ttest1: 2426376.7732329\tbest: 2426376.7723838 (373)\ttotal: 2.66s\tremaining: 5.32s\n",
            "1050:\tlearn: 0.1340042\ttest: 0.1340042\ttest1: 2426376.7733569\tbest: 2426376.7723838 (373)\ttotal: 2.98s\tremaining: 5.53s\n",
            "1100:\tlearn: 0.1324006\ttest: 0.1324006\ttest1: 2426376.7734935\tbest: 2426376.7723838 (373)\ttotal: 3.36s\tremaining: 5.79s\n",
            "1150:\tlearn: 0.1305482\ttest: 0.1305482\ttest1: 2426376.7737162\tbest: 2426376.7723838 (373)\ttotal: 3.77s\tremaining: 6.06s\n",
            "1200:\tlearn: 0.1291391\ttest: 0.1291391\ttest1: 2426376.7737413\tbest: 2426376.7723838 (373)\ttotal: 4.16s\tremaining: 6.22s\n",
            "1250:\tlearn: 0.1277301\ttest: 0.1277301\ttest1: 2426376.7734804\tbest: 2426376.7723838 (373)\ttotal: 4.41s\tremaining: 6.16s\n",
            "1300:\tlearn: 0.1263512\ttest: 0.1263512\ttest1: 2426376.7734366\tbest: 2426376.7723838 (373)\ttotal: 4.81s\tremaining: 6.28s\n",
            "1350:\tlearn: 0.1250674\ttest: 0.1250674\ttest1: 2426376.7734545\tbest: 2426376.7723838 (373)\ttotal: 5.2s\tremaining: 6.34s\n",
            "1400:\tlearn: 0.1238336\ttest: 0.1238336\ttest1: 2426376.7735624\tbest: 2426376.7723838 (373)\ttotal: 5.59s\tremaining: 6.38s\n",
            "1450:\tlearn: 0.1225377\ttest: 0.1225377\ttest1: 2426376.7734284\tbest: 2426376.7723838 (373)\ttotal: 5.81s\tremaining: 6.2s\n",
            "1500:\tlearn: 0.1213603\ttest: 0.1213603\ttest1: 2426376.7735223\tbest: 2426376.7723838 (373)\ttotal: 6.19s\tremaining: 6.18s\n",
            "1550:\tlearn: 0.1201495\ttest: 0.1201495\ttest1: 2426376.7735715\tbest: 2426376.7723838 (373)\ttotal: 6.58s\tremaining: 6.15s\n",
            "1600:\tlearn: 0.1190525\ttest: 0.1190525\ttest1: 2426376.7736386\tbest: 2426376.7723838 (373)\ttotal: 6.84s\tremaining: 5.98s\n",
            "1650:\tlearn: 0.1180540\ttest: 0.1180540\ttest1: 2426376.7734741\tbest: 2426376.7723838 (373)\ttotal: 6.96s\tremaining: 5.69s\n",
            "1700:\tlearn: 0.1169051\ttest: 0.1169051\ttest1: 2426376.7735268\tbest: 2426376.7723838 (373)\ttotal: 7.1s\tremaining: 5.42s\n",
            "1750:\tlearn: 0.1159555\ttest: 0.1159555\ttest1: 2426376.7734745\tbest: 2426376.7723838 (373)\ttotal: 7.23s\tremaining: 5.16s\n",
            "1800:\tlearn: 0.1148783\ttest: 0.1148783\ttest1: 2426376.7733797\tbest: 2426376.7723838 (373)\ttotal: 7.36s\tremaining: 4.9s\n",
            "1850:\tlearn: 0.1139916\ttest: 0.1139916\ttest1: 2426376.7733993\tbest: 2426376.7723838 (373)\ttotal: 7.49s\tremaining: 4.65s\n",
            "1900:\tlearn: 0.1128980\ttest: 0.1128980\ttest1: 2426376.7734732\tbest: 2426376.7723838 (373)\ttotal: 7.63s\tremaining: 4.41s\n",
            "1950:\tlearn: 0.1119674\ttest: 0.1119674\ttest1: 2426376.7733961\tbest: 2426376.7723838 (373)\ttotal: 7.76s\tremaining: 4.17s\n",
            "2000:\tlearn: 0.1109742\ttest: 0.1109742\ttest1: 2426376.7733876\tbest: 2426376.7723838 (373)\ttotal: 7.9s\tremaining: 3.95s\n",
            "2050:\tlearn: 0.1100893\ttest: 0.1100893\ttest1: 2426376.7733568\tbest: 2426376.7723838 (373)\ttotal: 8.31s\tremaining: 3.85s\n",
            "2100:\tlearn: 0.1090629\ttest: 0.1090629\ttest1: 2426376.7733725\tbest: 2426376.7723838 (373)\ttotal: 8.99s\tremaining: 3.85s\n",
            "2150:\tlearn: 0.1081928\ttest: 0.1081928\ttest1: 2426376.7733453\tbest: 2426376.7723838 (373)\ttotal: 9.38s\tremaining: 3.7s\n",
            "2200:\tlearn: 0.1071763\ttest: 0.1071763\ttest1: 2426376.7733790\tbest: 2426376.7723838 (373)\ttotal: 9.51s\tremaining: 3.45s\n",
            "2250:\tlearn: 0.1061685\ttest: 0.1061685\ttest1: 2426376.7733260\tbest: 2426376.7723838 (373)\ttotal: 9.66s\tremaining: 3.21s\n",
            "2300:\tlearn: 0.1052613\ttest: 0.1052613\ttest1: 2426376.7733242\tbest: 2426376.7723838 (373)\ttotal: 9.79s\tremaining: 2.97s\n",
            "2350:\tlearn: 0.1042360\ttest: 0.1042360\ttest1: 2426376.7733064\tbest: 2426376.7723838 (373)\ttotal: 9.92s\tremaining: 2.74s\n",
            "2400:\tlearn: 0.1033867\ttest: 0.1033867\ttest1: 2426376.7733257\tbest: 2426376.7723838 (373)\ttotal: 10s\tremaining: 2.51s\n",
            "2450:\tlearn: 0.1025381\ttest: 0.1025381\ttest1: 2426376.7733715\tbest: 2426376.7723838 (373)\ttotal: 10.2s\tremaining: 2.28s\n",
            "2500:\tlearn: 0.1016650\ttest: 0.1016650\ttest1: 2426376.7732964\tbest: 2426376.7723838 (373)\ttotal: 10.3s\tremaining: 2.06s\n",
            "2550:\tlearn: 0.1008109\ttest: 0.1008109\ttest1: 2426376.7733870\tbest: 2426376.7723838 (373)\ttotal: 10.4s\tremaining: 1.84s\n",
            "2600:\tlearn: 0.1000026\ttest: 0.1000026\ttest1: 2426376.7733465\tbest: 2426376.7723838 (373)\ttotal: 10.6s\tremaining: 1.63s\n",
            "2650:\tlearn: 0.0992416\ttest: 0.0992416\ttest1: 2426376.7733229\tbest: 2426376.7723838 (373)\ttotal: 10.7s\tremaining: 1.41s\n",
            "2700:\tlearn: 0.0984642\ttest: 0.0984642\ttest1: 2426376.7733811\tbest: 2426376.7723838 (373)\ttotal: 10.9s\tremaining: 1.2s\n",
            "2750:\tlearn: 0.0977166\ttest: 0.0977166\ttest1: 2426376.7733993\tbest: 2426376.7723838 (373)\ttotal: 11s\tremaining: 995ms\n",
            "2800:\tlearn: 0.0969625\ttest: 0.0969625\ttest1: 2426376.7734759\tbest: 2426376.7723838 (373)\ttotal: 11.1s\tremaining: 791ms\n",
            "2850:\tlearn: 0.0961939\ttest: 0.0961939\ttest1: 2426376.7734045\tbest: 2426376.7723838 (373)\ttotal: 11.3s\tremaining: 589ms\n",
            "2900:\tlearn: 0.0954083\ttest: 0.0954083\ttest1: 2426376.7734523\tbest: 2426376.7723838 (373)\ttotal: 11.4s\tremaining: 389ms\n",
            "2950:\tlearn: 0.0947544\ttest: 0.0947544\ttest1: 2426376.7734820\tbest: 2426376.7723838 (373)\ttotal: 11.6s\tremaining: 192ms\n",
            "2999:\tlearn: 0.0940343\ttest: 0.0940343\ttest1: 2426376.7735085\tbest: 2426376.7723838 (373)\ttotal: 11.7s\tremaining: 0us\n",
            "\n",
            "bestTest = 2426376.772\n",
            "bestIteration = 373\n",
            "\n",
            "Shrink model to first 374 iterations.\n",
            "err:  570351.1134764941\n",
            "0:\tlearn: 0.4199285\ttest: 0.4199285\ttest1: 2438010.8587575\tbest: 2438010.8587575 (0)\ttotal: 2.89ms\tremaining: 8.68s\n",
            "50:\tlearn: 0.2021841\ttest: 0.2021841\ttest1: 2438010.7268796\tbest: 2438010.7268796 (50)\ttotal: 131ms\tremaining: 7.57s\n",
            "100:\tlearn: 0.1849044\ttest: 0.1849044\ttest1: 2438010.7166073\tbest: 2438010.7166073 (100)\ttotal: 270ms\tremaining: 7.76s\n",
            "150:\tlearn: 0.1783032\ttest: 0.1783032\ttest1: 2438010.7125419\tbest: 2438010.7125419 (150)\ttotal: 394ms\tremaining: 7.43s\n",
            "200:\tlearn: 0.1735484\ttest: 0.1735484\ttest1: 2438010.7118577\tbest: 2438010.7118080 (199)\ttotal: 520ms\tremaining: 7.24s\n",
            "250:\tlearn: 0.1696299\ttest: 0.1696299\ttest1: 2438010.7111665\tbest: 2438010.7111665 (250)\ttotal: 646ms\tremaining: 7.08s\n",
            "300:\tlearn: 0.1658456\ttest: 0.1658456\ttest1: 2438010.7110989\tbest: 2438010.7110798 (293)\ttotal: 789ms\tremaining: 7.07s\n",
            "350:\tlearn: 0.1625383\ttest: 0.1625383\ttest1: 2438010.7110004\tbest: 2438010.7109993 (349)\ttotal: 918ms\tremaining: 6.93s\n",
            "400:\tlearn: 0.1593072\ttest: 0.1593072\ttest1: 2438010.7108013\tbest: 2438010.7108013 (400)\ttotal: 1.05s\tremaining: 6.79s\n",
            "450:\tlearn: 0.1565844\ttest: 0.1565844\ttest1: 2438010.7107486\tbest: 2438010.7107056 (449)\ttotal: 1.17s\tremaining: 6.62s\n",
            "500:\tlearn: 0.1543412\ttest: 0.1543412\ttest1: 2438010.7109517\tbest: 2438010.7107020 (454)\ttotal: 1.3s\tremaining: 6.5s\n",
            "550:\tlearn: 0.1519147\ttest: 0.1519147\ttest1: 2438010.7106654\tbest: 2438010.7106654 (550)\ttotal: 1.43s\tremaining: 6.35s\n",
            "600:\tlearn: 0.1496858\ttest: 0.1496858\ttest1: 2438010.7104408\tbest: 2438010.7104345 (599)\ttotal: 1.56s\tremaining: 6.23s\n",
            "650:\tlearn: 0.1475028\ttest: 0.1475028\ttest1: 2438010.7106281\tbest: 2438010.7104345 (599)\ttotal: 1.69s\tremaining: 6.09s\n",
            "700:\tlearn: 0.1454430\ttest: 0.1454430\ttest1: 2438010.7106510\tbest: 2438010.7104345 (599)\ttotal: 1.83s\tremaining: 6.01s\n",
            "750:\tlearn: 0.1434925\ttest: 0.1434925\ttest1: 2438010.7106875\tbest: 2438010.7104345 (599)\ttotal: 1.96s\tremaining: 5.86s\n",
            "800:\tlearn: 0.1416319\ttest: 0.1416319\ttest1: 2438010.7104273\tbest: 2438010.7104205 (781)\ttotal: 2.09s\tremaining: 5.73s\n",
            "850:\tlearn: 0.1399160\ttest: 0.1399160\ttest1: 2438010.7103796\tbest: 2438010.7103647 (843)\ttotal: 2.22s\tremaining: 5.61s\n",
            "900:\tlearn: 0.1383085\ttest: 0.1383085\ttest1: 2438010.7105457\tbest: 2438010.7103573 (873)\ttotal: 2.35s\tremaining: 5.48s\n",
            "950:\tlearn: 0.1366852\ttest: 0.1366852\ttest1: 2438010.7103610\tbest: 2438010.7103573 (873)\ttotal: 2.48s\tremaining: 5.34s\n",
            "1000:\tlearn: 0.1352186\ttest: 0.1352186\ttest1: 2438010.7102806\tbest: 2438010.7102490 (968)\ttotal: 2.62s\tremaining: 5.23s\n",
            "1050:\tlearn: 0.1337888\ttest: 0.1337888\ttest1: 2438010.7100643\tbest: 2438010.7099988 (1034)\ttotal: 2.76s\tremaining: 5.11s\n",
            "1100:\tlearn: 0.1322376\ttest: 0.1322376\ttest1: 2438010.7100956\tbest: 2438010.7099909 (1062)\ttotal: 2.89s\tremaining: 4.98s\n",
            "1150:\tlearn: 0.1307107\ttest: 0.1307107\ttest1: 2438010.7100636\tbest: 2438010.7099792 (1125)\ttotal: 3.03s\tremaining: 4.86s\n",
            "1200:\tlearn: 0.1291838\ttest: 0.1291838\ttest1: 2438010.7099690\tbest: 2438010.7099403 (1191)\ttotal: 3.16s\tremaining: 4.73s\n",
            "1250:\tlearn: 0.1277219\ttest: 0.1277219\ttest1: 2438010.7100739\tbest: 2438010.7098847 (1222)\ttotal: 3.29s\tremaining: 4.59s\n",
            "1300:\tlearn: 0.1264345\ttest: 0.1264345\ttest1: 2438010.7101003\tbest: 2438010.7098847 (1222)\ttotal: 3.43s\tremaining: 4.49s\n",
            "1350:\tlearn: 0.1249786\ttest: 0.1249786\ttest1: 2438010.7098733\tbest: 2438010.7098599 (1349)\ttotal: 3.56s\tremaining: 4.35s\n",
            "1400:\tlearn: 0.1237587\ttest: 0.1237587\ttest1: 2438010.7097146\tbest: 2438010.7096749 (1392)\ttotal: 3.7s\tremaining: 4.23s\n",
            "1450:\tlearn: 0.1225793\ttest: 0.1225793\ttest1: 2438010.7097190\tbest: 2438010.7096749 (1392)\ttotal: 3.84s\tremaining: 4.1s\n",
            "1500:\tlearn: 0.1214886\ttest: 0.1214886\ttest1: 2438010.7096192\tbest: 2438010.7095892 (1490)\ttotal: 3.98s\tremaining: 3.97s\n",
            "1550:\tlearn: 0.1202514\ttest: 0.1202514\ttest1: 2438010.7095377\tbest: 2438010.7095193 (1548)\ttotal: 4.1s\tremaining: 3.83s\n",
            "1600:\tlearn: 0.1191265\ttest: 0.1191265\ttest1: 2438010.7095776\tbest: 2438010.7094664 (1557)\ttotal: 4.24s\tremaining: 3.71s\n",
            "1650:\tlearn: 0.1180535\ttest: 0.1180535\ttest1: 2438010.7094412\tbest: 2438010.7094412 (1650)\ttotal: 4.37s\tremaining: 3.57s\n",
            "1700:\tlearn: 0.1169718\ttest: 0.1169718\ttest1: 2438010.7092270\tbest: 2438010.7091439 (1690)\ttotal: 4.5s\tremaining: 3.44s\n",
            "1750:\tlearn: 0.1158654\ttest: 0.1158654\ttest1: 2438010.7091929\tbest: 2438010.7091191 (1729)\ttotal: 4.7s\tremaining: 3.35s\n",
            "1800:\tlearn: 0.1147913\ttest: 0.1147913\ttest1: 2438010.7088892\tbest: 2438010.7088892 (1800)\ttotal: 5.08s\tremaining: 3.38s\n",
            "1850:\tlearn: 0.1137377\ttest: 0.1137377\ttest1: 2438010.7090336\tbest: 2438010.7088892 (1800)\ttotal: 5.48s\tremaining: 3.4s\n",
            "1900:\tlearn: 0.1127697\ttest: 0.1127697\ttest1: 2438010.7089928\tbest: 2438010.7088892 (1800)\ttotal: 5.88s\tremaining: 3.4s\n",
            "1950:\tlearn: 0.1117529\ttest: 0.1117529\ttest1: 2438010.7090063\tbest: 2438010.7088892 (1800)\ttotal: 6.28s\tremaining: 3.38s\n",
            "2000:\tlearn: 0.1107984\ttest: 0.1107984\ttest1: 2438010.7090244\tbest: 2438010.7088892 (1800)\ttotal: 6.67s\tremaining: 3.33s\n",
            "2050:\tlearn: 0.1098335\ttest: 0.1098335\ttest1: 2438010.7090288\tbest: 2438010.7088892 (1800)\ttotal: 7.08s\tremaining: 3.27s\n",
            "2100:\tlearn: 0.1089560\ttest: 0.1089560\ttest1: 2438010.7090036\tbest: 2438010.7088892 (1800)\ttotal: 7.37s\tremaining: 3.15s\n",
            "2150:\tlearn: 0.1079566\ttest: 0.1079566\ttest1: 2438010.7088547\tbest: 2438010.7088300 (2144)\ttotal: 7.76s\tremaining: 3.06s\n",
            "2200:\tlearn: 0.1069454\ttest: 0.1069454\ttest1: 2438010.7087550\tbest: 2438010.7087225 (2185)\ttotal: 8.16s\tremaining: 2.96s\n",
            "2250:\tlearn: 0.1060380\ttest: 0.1060380\ttest1: 2438010.7086853\tbest: 2438010.7086596 (2247)\ttotal: 8.57s\tremaining: 2.85s\n",
            "2300:\tlearn: 0.1052581\ttest: 0.1052581\ttest1: 2438010.7087606\tbest: 2438010.7086596 (2247)\ttotal: 8.69s\tremaining: 2.64s\n",
            "2350:\tlearn: 0.1044375\ttest: 0.1044375\ttest1: 2438010.7089188\tbest: 2438010.7086596 (2247)\ttotal: 8.84s\tremaining: 2.44s\n",
            "2400:\tlearn: 0.1035911\ttest: 0.1035911\ttest1: 2438010.7090006\tbest: 2438010.7086596 (2247)\ttotal: 8.97s\tremaining: 2.24s\n",
            "2450:\tlearn: 0.1028143\ttest: 0.1028143\ttest1: 2438010.7089160\tbest: 2438010.7086596 (2247)\ttotal: 9.1s\tremaining: 2.04s\n",
            "2500:\tlearn: 0.1020345\ttest: 0.1020345\ttest1: 2438010.7088665\tbest: 2438010.7086596 (2247)\ttotal: 9.23s\tremaining: 1.84s\n",
            "2550:\tlearn: 0.1013849\ttest: 0.1013849\ttest1: 2438010.7088607\tbest: 2438010.7086596 (2247)\ttotal: 9.36s\tremaining: 1.65s\n",
            "2600:\tlearn: 0.1005877\ttest: 0.1005877\ttest1: 2438010.7088113\tbest: 2438010.7086596 (2247)\ttotal: 9.5s\tremaining: 1.46s\n",
            "2650:\tlearn: 0.0997916\ttest: 0.0997916\ttest1: 2438010.7087776\tbest: 2438010.7086596 (2247)\ttotal: 9.64s\tremaining: 1.27s\n",
            "2700:\tlearn: 0.0990307\ttest: 0.0990307\ttest1: 2438010.7086654\tbest: 2438010.7086369 (2697)\ttotal: 9.77s\tremaining: 1.08s\n",
            "2750:\tlearn: 0.0983302\ttest: 0.0983302\ttest1: 2438010.7086967\tbest: 2438010.7086278 (2705)\ttotal: 9.91s\tremaining: 897ms\n",
            "2800:\tlearn: 0.0974916\ttest: 0.0974916\ttest1: 2438010.7087526\tbest: 2438010.7086278 (2705)\ttotal: 10s\tremaining: 714ms\n",
            "2850:\tlearn: 0.0966669\ttest: 0.0966669\ttest1: 2438010.7087025\tbest: 2438010.7086278 (2705)\ttotal: 10.2s\tremaining: 532ms\n",
            "2900:\tlearn: 0.0959937\ttest: 0.0959937\ttest1: 2438010.7087583\tbest: 2438010.7086278 (2705)\ttotal: 10.3s\tremaining: 352ms\n",
            "2950:\tlearn: 0.0953032\ttest: 0.0953032\ttest1: 2438010.7086487\tbest: 2438010.7086278 (2705)\ttotal: 10.4s\tremaining: 173ms\n",
            "2999:\tlearn: 0.0945548\ttest: 0.0945548\ttest1: 2438010.7085117\tbest: 2438010.7084752 (2992)\ttotal: 10.6s\tremaining: 0us\n",
            "\n",
            "bestTest = 2438010.708\n",
            "bestIteration = 2992\n",
            "\n",
            "Shrink model to first 2993 iterations.\n",
            "err:  633798.8159160906\n",
            "0:\tlearn: 0.4214185\ttest: 0.4214185\ttest1: 2376987.9181555\tbest: 2376987.9181555 (0)\ttotal: 2.8ms\tremaining: 8.4s\n",
            "50:\tlearn: 0.2043429\ttest: 0.2043429\ttest1: 2376987.7952810\tbest: 2376987.7952810 (50)\ttotal: 157ms\tremaining: 9.09s\n",
            "100:\tlearn: 0.1867395\ttest: 0.1867395\ttest1: 2376987.7816740\tbest: 2376987.7816740 (100)\ttotal: 289ms\tremaining: 8.29s\n",
            "150:\tlearn: 0.1794937\ttest: 0.1794937\ttest1: 2376987.7761587\tbest: 2376987.7761587 (150)\ttotal: 425ms\tremaining: 8.03s\n",
            "200:\tlearn: 0.1744348\ttest: 0.1744348\ttest1: 2376987.7741699\tbest: 2376987.7741541 (198)\ttotal: 552ms\tremaining: 7.68s\n",
            "250:\tlearn: 0.1701765\ttest: 0.1701765\ttest1: 2376987.7731346\tbest: 2376987.7731346 (250)\ttotal: 679ms\tremaining: 7.43s\n",
            "300:\tlearn: 0.1660012\ttest: 0.1660012\ttest1: 2376987.7722120\tbest: 2376987.7721865 (299)\ttotal: 813ms\tremaining: 7.29s\n",
            "350:\tlearn: 0.1626719\ttest: 0.1626719\ttest1: 2376987.7715406\tbest: 2376987.7715406 (350)\ttotal: 942ms\tremaining: 7.11s\n",
            "400:\tlearn: 0.1591935\ttest: 0.1591935\ttest1: 2376987.7707781\tbest: 2376987.7707564 (398)\ttotal: 1.09s\tremaining: 7.04s\n",
            "450:\tlearn: 0.1563109\ttest: 0.1563109\ttest1: 2376987.7706327\tbest: 2376987.7706056 (441)\ttotal: 1.22s\tremaining: 6.91s\n",
            "500:\tlearn: 0.1535465\ttest: 0.1535465\ttest1: 2376987.7704493\tbest: 2376987.7704273 (470)\ttotal: 1.35s\tremaining: 6.72s\n",
            "550:\tlearn: 0.1512797\ttest: 0.1512797\ttest1: 2376987.7702701\tbest: 2376987.7702166 (544)\ttotal: 1.48s\tremaining: 6.58s\n",
            "600:\tlearn: 0.1489782\ttest: 0.1489782\ttest1: 2376987.7701201\tbest: 2376987.7700514 (596)\ttotal: 1.61s\tremaining: 6.44s\n",
            "650:\tlearn: 0.1469646\ttest: 0.1469646\ttest1: 2376987.7701811\tbest: 2376987.7700514 (596)\ttotal: 1.75s\tremaining: 6.3s\n",
            "700:\tlearn: 0.1449872\ttest: 0.1449872\ttest1: 2376987.7701121\tbest: 2376987.7700514 (596)\ttotal: 1.88s\tremaining: 6.15s\n",
            "750:\tlearn: 0.1432135\ttest: 0.1432135\ttest1: 2376987.7698458\tbest: 2376987.7698307 (747)\ttotal: 2.02s\tremaining: 6.05s\n",
            "800:\tlearn: 0.1414326\ttest: 0.1414326\ttest1: 2376987.7698996\tbest: 2376987.7698307 (747)\ttotal: 2.14s\tremaining: 5.88s\n",
            "850:\tlearn: 0.1395404\ttest: 0.1395404\ttest1: 2376987.7696852\tbest: 2376987.7696221 (831)\ttotal: 2.28s\tremaining: 5.76s\n",
            "900:\tlearn: 0.1379269\ttest: 0.1379269\ttest1: 2376987.7699241\tbest: 2376987.7696221 (831)\ttotal: 2.4s\tremaining: 5.61s\n",
            "950:\tlearn: 0.1361765\ttest: 0.1361765\ttest1: 2376987.7697186\tbest: 2376987.7696221 (831)\ttotal: 2.54s\tremaining: 5.47s\n",
            "1000:\tlearn: 0.1343866\ttest: 0.1343866\ttest1: 2376987.7698697\tbest: 2376987.7696221 (831)\ttotal: 2.66s\tremaining: 5.32s\n",
            "1050:\tlearn: 0.1327701\ttest: 0.1327701\ttest1: 2376987.7699859\tbest: 2376987.7696221 (831)\ttotal: 2.8s\tremaining: 5.19s\n",
            "1100:\tlearn: 0.1311284\ttest: 0.1311284\ttest1: 2376987.7698241\tbest: 2376987.7696221 (831)\ttotal: 2.92s\tremaining: 5.04s\n",
            "1150:\tlearn: 0.1296799\ttest: 0.1296799\ttest1: 2376987.7698647\tbest: 2376987.7696221 (831)\ttotal: 3.07s\tremaining: 4.94s\n",
            "1200:\tlearn: 0.1284346\ttest: 0.1284346\ttest1: 2376987.7698251\tbest: 2376987.7696221 (831)\ttotal: 3.2s\tremaining: 4.79s\n",
            "1250:\tlearn: 0.1271238\ttest: 0.1271238\ttest1: 2376987.7697254\tbest: 2376987.7696221 (831)\ttotal: 3.34s\tremaining: 4.67s\n",
            "1300:\tlearn: 0.1256753\ttest: 0.1256753\ttest1: 2376987.7696262\tbest: 2376987.7695810 (1296)\ttotal: 3.47s\tremaining: 4.53s\n",
            "1350:\tlearn: 0.1243586\ttest: 0.1243586\ttest1: 2376987.7696309\tbest: 2376987.7695810 (1296)\ttotal: 3.6s\tremaining: 4.39s\n",
            "1400:\tlearn: 0.1231602\ttest: 0.1231602\ttest1: 2376987.7697650\tbest: 2376987.7695810 (1296)\ttotal: 3.73s\tremaining: 4.26s\n",
            "1450:\tlearn: 0.1219361\ttest: 0.1219361\ttest1: 2376987.7698016\tbest: 2376987.7695810 (1296)\ttotal: 3.87s\tremaining: 4.13s\n",
            "1500:\tlearn: 0.1206793\ttest: 0.1206793\ttest1: 2376987.7697679\tbest: 2376987.7695810 (1296)\ttotal: 4.01s\tremaining: 4s\n",
            "1550:\tlearn: 0.1195707\ttest: 0.1195707\ttest1: 2376987.7697618\tbest: 2376987.7695810 (1296)\ttotal: 4.14s\tremaining: 3.87s\n",
            "1600:\tlearn: 0.1183438\ttest: 0.1183438\ttest1: 2376987.7696752\tbest: 2376987.7695810 (1296)\ttotal: 4.27s\tremaining: 3.73s\n",
            "1650:\tlearn: 0.1172317\ttest: 0.1172317\ttest1: 2376987.7696252\tbest: 2376987.7695810 (1296)\ttotal: 4.41s\tremaining: 3.6s\n",
            "1700:\tlearn: 0.1161302\ttest: 0.1161302\ttest1: 2376987.7696143\tbest: 2376987.7695810 (1296)\ttotal: 4.54s\tremaining: 3.47s\n",
            "1750:\tlearn: 0.1150665\ttest: 0.1150665\ttest1: 2376987.7694655\tbest: 2376987.7694633 (1737)\ttotal: 4.67s\tremaining: 3.33s\n",
            "1800:\tlearn: 0.1139072\ttest: 0.1139072\ttest1: 2376987.7693430\tbest: 2376987.7692488 (1787)\ttotal: 4.8s\tremaining: 3.2s\n",
            "1850:\tlearn: 0.1128256\ttest: 0.1128256\ttest1: 2376987.7692902\tbest: 2376987.7692488 (1787)\ttotal: 4.95s\tremaining: 3.07s\n",
            "1900:\tlearn: 0.1119336\ttest: 0.1119336\ttest1: 2376987.7693767\tbest: 2376987.7692488 (1787)\ttotal: 5.09s\tremaining: 2.94s\n",
            "1950:\tlearn: 0.1109467\ttest: 0.1109467\ttest1: 2376987.7693796\tbest: 2376987.7692488 (1787)\ttotal: 5.23s\tremaining: 2.81s\n",
            "2000:\tlearn: 0.1100001\ttest: 0.1100001\ttest1: 2376987.7693614\tbest: 2376987.7692488 (1787)\ttotal: 5.36s\tremaining: 2.67s\n",
            "2050:\tlearn: 0.1090134\ttest: 0.1090134\ttest1: 2376987.7692651\tbest: 2376987.7692488 (1787)\ttotal: 5.5s\tremaining: 2.54s\n",
            "2100:\tlearn: 0.1080786\ttest: 0.1080786\ttest1: 2376987.7692630\tbest: 2376987.7692207 (2095)\ttotal: 5.63s\tremaining: 2.41s\n",
            "2150:\tlearn: 0.1071521\ttest: 0.1071521\ttest1: 2376987.7691259\tbest: 2376987.7691259 (2150)\ttotal: 5.77s\tremaining: 2.28s\n",
            "2200:\tlearn: 0.1063110\ttest: 0.1063110\ttest1: 2376987.7690864\tbest: 2376987.7690730 (2196)\ttotal: 5.9s\tremaining: 2.14s\n",
            "2250:\tlearn: 0.1054318\ttest: 0.1054318\ttest1: 2376987.7688965\tbest: 2376987.7688965 (2250)\ttotal: 6.05s\tremaining: 2.01s\n",
            "2300:\tlearn: 0.1045129\ttest: 0.1045129\ttest1: 2376987.7688273\tbest: 2376987.7687992 (2267)\ttotal: 6.17s\tremaining: 1.88s\n",
            "2350:\tlearn: 0.1037005\ttest: 0.1037005\ttest1: 2376987.7686674\tbest: 2376987.7686674 (2350)\ttotal: 6.32s\tremaining: 1.74s\n",
            "2400:\tlearn: 0.1028737\ttest: 0.1028737\ttest1: 2376987.7688289\tbest: 2376987.7686554 (2351)\ttotal: 6.44s\tremaining: 1.61s\n",
            "2450:\tlearn: 0.1020064\ttest: 0.1020064\ttest1: 2376987.7687391\tbest: 2376987.7686554 (2351)\ttotal: 6.57s\tremaining: 1.47s\n",
            "2500:\tlearn: 0.1011787\ttest: 0.1011787\ttest1: 2376987.7687000\tbest: 2376987.7686554 (2351)\ttotal: 6.71s\tremaining: 1.34s\n",
            "2550:\tlearn: 0.1004079\ttest: 0.1004079\ttest1: 2376987.7687465\tbest: 2376987.7686554 (2351)\ttotal: 6.84s\tremaining: 1.2s\n",
            "2600:\tlearn: 0.0996741\ttest: 0.0996741\ttest1: 2376987.7687008\tbest: 2376987.7686554 (2351)\ttotal: 6.98s\tremaining: 1.07s\n",
            "2650:\tlearn: 0.0988802\ttest: 0.0988802\ttest1: 2376987.7689039\tbest: 2376987.7686554 (2351)\ttotal: 7.12s\tremaining: 937ms\n",
            "2700:\tlearn: 0.0981005\ttest: 0.0981005\ttest1: 2376987.7690166\tbest: 2376987.7686554 (2351)\ttotal: 7.25s\tremaining: 803ms\n",
            "2750:\tlearn: 0.0973298\ttest: 0.0973298\ttest1: 2376987.7689334\tbest: 2376987.7686554 (2351)\ttotal: 7.38s\tremaining: 668ms\n",
            "2800:\tlearn: 0.0965576\ttest: 0.0965576\ttest1: 2376987.7689808\tbest: 2376987.7686554 (2351)\ttotal: 7.61s\tremaining: 541ms\n",
            "2850:\tlearn: 0.0957730\ttest: 0.0957730\ttest1: 2376987.7689106\tbest: 2376987.7686554 (2351)\ttotal: 8.01s\tremaining: 419ms\n",
            "2900:\tlearn: 0.0950156\ttest: 0.0950156\ttest1: 2376987.7688139\tbest: 2376987.7686554 (2351)\ttotal: 8.41s\tremaining: 287ms\n",
            "2950:\tlearn: 0.0942980\ttest: 0.0942980\ttest1: 2376987.7687723\tbest: 2376987.7686554 (2351)\ttotal: 8.81s\tremaining: 146ms\n",
            "2999:\tlearn: 0.0934965\ttest: 0.0934965\ttest1: 2376987.7687321\tbest: 2376987.7686554 (2351)\ttotal: 9.22s\tremaining: 0us\n",
            "\n",
            "bestTest = 2376987.769\n",
            "bestIteration = 2351\n",
            "\n",
            "Shrink model to first 2352 iterations.\n",
            "err:  522096.76043859316\n",
            "0:\tlearn: 0.4211149\ttest: 0.4211149\ttest1: 2426370.8584356\tbest: 2426370.8584356 (0)\ttotal: 3.77ms\tremaining: 11.3s\n",
            "50:\tlearn: 0.2050395\ttest: 0.2050395\ttest1: 2426370.7294689\tbest: 2426370.7294689 (50)\ttotal: 322ms\tremaining: 18.6s\n",
            "100:\tlearn: 0.1879992\ttest: 0.1879992\ttest1: 2426370.7185852\tbest: 2426370.7185852 (100)\ttotal: 667ms\tremaining: 19.1s\n",
            "150:\tlearn: 0.1805199\ttest: 0.1805199\ttest1: 2426370.7160726\tbest: 2426370.7160726 (150)\ttotal: 1s\tremaining: 18.9s\n",
            "200:\tlearn: 0.1753261\ttest: 0.1753261\ttest1: 2426370.7156503\tbest: 2426370.7156228 (199)\ttotal: 1.22s\tremaining: 17s\n",
            "250:\tlearn: 0.1711570\ttest: 0.1711570\ttest1: 2426370.7150667\tbest: 2426370.7149863 (246)\ttotal: 1.5s\tremaining: 16.4s\n",
            "300:\tlearn: 0.1671439\ttest: 0.1671439\ttest1: 2426370.7146224\tbest: 2426370.7145105 (293)\ttotal: 1.89s\tremaining: 17s\n",
            "350:\tlearn: 0.1638675\ttest: 0.1638675\ttest1: 2426370.7139337\tbest: 2426370.7139204 (342)\ttotal: 2.21s\tremaining: 16.7s\n",
            "400:\tlearn: 0.1609152\ttest: 0.1609152\ttest1: 2426370.7141094\tbest: 2426370.7138452 (355)\ttotal: 2.33s\tremaining: 15.1s\n",
            "450:\tlearn: 0.1580774\ttest: 0.1580774\ttest1: 2426370.7142324\tbest: 2426370.7138452 (355)\ttotal: 2.47s\tremaining: 14s\n",
            "500:\tlearn: 0.1554350\ttest: 0.1554350\ttest1: 2426370.7140197\tbest: 2426370.7138452 (355)\ttotal: 2.59s\tremaining: 12.9s\n",
            "550:\tlearn: 0.1529929\ttest: 0.1529929\ttest1: 2426370.7142121\tbest: 2426370.7138452 (355)\ttotal: 2.74s\tremaining: 12.2s\n",
            "600:\tlearn: 0.1505733\ttest: 0.1505733\ttest1: 2426370.7141004\tbest: 2426370.7138452 (355)\ttotal: 2.86s\tremaining: 11.4s\n",
            "650:\tlearn: 0.1485299\ttest: 0.1485299\ttest1: 2426370.7139266\tbest: 2426370.7138452 (355)\ttotal: 3s\tremaining: 10.8s\n",
            "700:\tlearn: 0.1462665\ttest: 0.1462665\ttest1: 2426370.7136895\tbest: 2426370.7136409 (687)\ttotal: 3.13s\tremaining: 10.3s\n",
            "750:\tlearn: 0.1443749\ttest: 0.1443749\ttest1: 2426370.7139035\tbest: 2426370.7135815 (712)\ttotal: 3.26s\tremaining: 9.77s\n",
            "800:\tlearn: 0.1424469\ttest: 0.1424469\ttest1: 2426370.7139101\tbest: 2426370.7135815 (712)\ttotal: 3.39s\tremaining: 9.31s\n",
            "850:\tlearn: 0.1405282\ttest: 0.1405282\ttest1: 2426370.7139028\tbest: 2426370.7135815 (712)\ttotal: 3.53s\tremaining: 8.91s\n",
            "900:\tlearn: 0.1387484\ttest: 0.1387484\ttest1: 2426370.7137513\tbest: 2426370.7135815 (712)\ttotal: 3.66s\tremaining: 8.53s\n",
            "950:\tlearn: 0.1370486\ttest: 0.1370486\ttest1: 2426370.7135186\tbest: 2426370.7134670 (937)\ttotal: 3.8s\tremaining: 8.18s\n",
            "1000:\tlearn: 0.1353427\ttest: 0.1353427\ttest1: 2426370.7135503\tbest: 2426370.7133366 (966)\ttotal: 3.93s\tremaining: 7.85s\n",
            "1050:\tlearn: 0.1336980\ttest: 0.1336980\ttest1: 2426370.7134639\tbest: 2426370.7133366 (966)\ttotal: 4.07s\tremaining: 7.54s\n",
            "1100:\tlearn: 0.1321070\ttest: 0.1321070\ttest1: 2426370.7132463\tbest: 2426370.7132238 (1096)\ttotal: 4.19s\tremaining: 7.23s\n",
            "1150:\tlearn: 0.1306488\ttest: 0.1306488\ttest1: 2426370.7131718\tbest: 2426370.7130871 (1131)\ttotal: 4.32s\tremaining: 6.95s\n",
            "1200:\tlearn: 0.1292552\ttest: 0.1292552\ttest1: 2426370.7130900\tbest: 2426370.7130741 (1199)\ttotal: 4.45s\tremaining: 6.67s\n",
            "1250:\tlearn: 0.1277064\ttest: 0.1277064\ttest1: 2426370.7131012\tbest: 2426370.7130634 (1205)\ttotal: 4.59s\tremaining: 6.41s\n",
            "1300:\tlearn: 0.1263803\ttest: 0.1263803\ttest1: 2426370.7132667\tbest: 2426370.7130634 (1205)\ttotal: 4.74s\tremaining: 6.19s\n",
            "1350:\tlearn: 0.1250323\ttest: 0.1250323\ttest1: 2426370.7132919\tbest: 2426370.7130634 (1205)\ttotal: 4.87s\tremaining: 5.95s\n",
            "1400:\tlearn: 0.1237914\ttest: 0.1237914\ttest1: 2426370.7132845\tbest: 2426370.7130634 (1205)\ttotal: 5s\tremaining: 5.7s\n",
            "1450:\tlearn: 0.1226307\ttest: 0.1226307\ttest1: 2426370.7133164\tbest: 2426370.7130634 (1205)\ttotal: 5.14s\tremaining: 5.48s\n",
            "1500:\tlearn: 0.1213432\ttest: 0.1213432\ttest1: 2426370.7132211\tbest: 2426370.7130634 (1205)\ttotal: 5.26s\tremaining: 5.26s\n",
            "1550:\tlearn: 0.1201884\ttest: 0.1201884\ttest1: 2426370.7133022\tbest: 2426370.7130634 (1205)\ttotal: 5.39s\tremaining: 5.04s\n",
            "1600:\tlearn: 0.1188210\ttest: 0.1188210\ttest1: 2426370.7133323\tbest: 2426370.7130634 (1205)\ttotal: 5.52s\tremaining: 4.82s\n",
            "1650:\tlearn: 0.1175433\ttest: 0.1175433\ttest1: 2426370.7133216\tbest: 2426370.7130634 (1205)\ttotal: 5.68s\tremaining: 4.64s\n",
            "1700:\tlearn: 0.1163720\ttest: 0.1163720\ttest1: 2426370.7133330\tbest: 2426370.7130634 (1205)\ttotal: 5.8s\tremaining: 4.43s\n",
            "1750:\tlearn: 0.1152376\ttest: 0.1152376\ttest1: 2426370.7133146\tbest: 2426370.7130634 (1205)\ttotal: 5.93s\tremaining: 4.23s\n",
            "1800:\tlearn: 0.1140885\ttest: 0.1140885\ttest1: 2426370.7135239\tbest: 2426370.7130634 (1205)\ttotal: 6.06s\tremaining: 4.03s\n",
            "1850:\tlearn: 0.1130972\ttest: 0.1130972\ttest1: 2426370.7135203\tbest: 2426370.7130634 (1205)\ttotal: 6.19s\tremaining: 3.84s\n",
            "1900:\tlearn: 0.1121562\ttest: 0.1121562\ttest1: 2426370.7135583\tbest: 2426370.7130634 (1205)\ttotal: 6.33s\tremaining: 3.66s\n",
            "1950:\tlearn: 0.1111971\ttest: 0.1111971\ttest1: 2426370.7136167\tbest: 2426370.7130634 (1205)\ttotal: 6.45s\tremaining: 3.47s\n",
            "2000:\tlearn: 0.1101883\ttest: 0.1101883\ttest1: 2426370.7135839\tbest: 2426370.7130634 (1205)\ttotal: 6.58s\tremaining: 3.29s\n",
            "2050:\tlearn: 0.1091846\ttest: 0.1091846\ttest1: 2426370.7134193\tbest: 2426370.7130634 (1205)\ttotal: 6.74s\tremaining: 3.12s\n",
            "2100:\tlearn: 0.1081413\ttest: 0.1081413\ttest1: 2426370.7134670\tbest: 2426370.7130634 (1205)\ttotal: 6.87s\tremaining: 2.94s\n",
            "2150:\tlearn: 0.1071916\ttest: 0.1071916\ttest1: 2426370.7134667\tbest: 2426370.7130634 (1205)\ttotal: 7s\tremaining: 2.76s\n",
            "2200:\tlearn: 0.1063053\ttest: 0.1063053\ttest1: 2426370.7133791\tbest: 2426370.7130634 (1205)\ttotal: 7.13s\tremaining: 2.59s\n",
            "2250:\tlearn: 0.1054208\ttest: 0.1054208\ttest1: 2426370.7133583\tbest: 2426370.7130634 (1205)\ttotal: 7.27s\tremaining: 2.42s\n",
            "2300:\tlearn: 0.1044981\ttest: 0.1044981\ttest1: 2426370.7134152\tbest: 2426370.7130634 (1205)\ttotal: 7.4s\tremaining: 2.25s\n",
            "2350:\tlearn: 0.1036099\ttest: 0.1036099\ttest1: 2426370.7134625\tbest: 2426370.7130634 (1205)\ttotal: 7.53s\tremaining: 2.08s\n",
            "2400:\tlearn: 0.1027096\ttest: 0.1027096\ttest1: 2426370.7133821\tbest: 2426370.7130634 (1205)\ttotal: 7.68s\tremaining: 1.92s\n",
            "2450:\tlearn: 0.1018755\ttest: 0.1018755\ttest1: 2426370.7133449\tbest: 2426370.7130634 (1205)\ttotal: 7.81s\tremaining: 1.75s\n",
            "2500:\tlearn: 0.1010445\ttest: 0.1010445\ttest1: 2426370.7132379\tbest: 2426370.7130634 (1205)\ttotal: 7.94s\tremaining: 1.58s\n",
            "2550:\tlearn: 0.1001767\ttest: 0.1001767\ttest1: 2426370.7132927\tbest: 2426370.7130634 (1205)\ttotal: 8.08s\tremaining: 1.42s\n",
            "2600:\tlearn: 0.0993704\ttest: 0.0993704\ttest1: 2426370.7132974\tbest: 2426370.7130634 (1205)\ttotal: 8.2s\tremaining: 1.26s\n",
            "2650:\tlearn: 0.0986544\ttest: 0.0986544\ttest1: 2426370.7133630\tbest: 2426370.7130634 (1205)\ttotal: 8.34s\tremaining: 1.1s\n",
            "2700:\tlearn: 0.0979449\ttest: 0.0979449\ttest1: 2426370.7134125\tbest: 2426370.7130634 (1205)\ttotal: 8.46s\tremaining: 937ms\n",
            "2750:\tlearn: 0.0971592\ttest: 0.0971592\ttest1: 2426370.7134094\tbest: 2426370.7130634 (1205)\ttotal: 8.62s\tremaining: 780ms\n",
            "2800:\tlearn: 0.0963933\ttest: 0.0963933\ttest1: 2426370.7133873\tbest: 2426370.7130634 (1205)\ttotal: 8.74s\tremaining: 621ms\n",
            "2850:\tlearn: 0.0957337\ttest: 0.0957337\ttest1: 2426370.7133538\tbest: 2426370.7130634 (1205)\ttotal: 8.88s\tremaining: 464ms\n",
            "2900:\tlearn: 0.0950494\ttest: 0.0950494\ttest1: 2426370.7133667\tbest: 2426370.7130634 (1205)\ttotal: 9.01s\tremaining: 307ms\n",
            "2950:\tlearn: 0.0943421\ttest: 0.0943421\ttest1: 2426370.7133162\tbest: 2426370.7130634 (1205)\ttotal: 9.55s\tremaining: 159ms\n",
            "2999:\tlearn: 0.0937098\ttest: 0.0937098\ttest1: 2426370.7132991\tbest: 2426370.7130634 (1205)\ttotal: 9.97s\tremaining: 0us\n",
            "\n",
            "bestTest = 2426370.713\n",
            "bestIteration = 1205\n",
            "\n",
            "Shrink model to first 1206 iterations.\n",
            "err:  626331.1686149988\n",
            "nan\n"
          ]
        }
      ]
    },
    {
      "cell_type": "code",
      "source": [
        "feature_importance_df = pd.DataFrame(model_ctb.feature_importances_, columns=['importance'])\n",
        "feature_importance_df['feature'] = X.columns\n",
        "\n",
        "plt.figure(figsize=(20, 12));\n",
        "sns.barplot(x=\"importance\", y=\"feature\", data = feature_importance_df.sort_values(by = ['importance'], ascending = False))\n",
        "plt.title('CatBoost Features importance:')"
      ],
      "metadata": {
        "colab": {
          "base_uri": "https://localhost:8080/",
          "height": 1000
        },
        "id": "snC0Klgarx-m",
        "outputId": "ab74ef8d-0ec5-431b-8fff-c418cc513890"
      },
      "execution_count": 86,
      "outputs": [
        {
          "output_type": "execute_result",
          "data": {
            "text/plain": [
              "Text(0.5, 1.0, 'CatBoost Features importance:')"
            ]
          },
          "metadata": {},
          "execution_count": 86
        },
        {
          "output_type": "display_data",
          "data": {
            "text/plain": [
              "<Figure size 2000x1200 with 1 Axes>"
            ],
            "image/png": "[encoded data removed]"
          },
          "metadata": {}
        }
      ]
    },
    {
      "cell_type": "code",
      "source": [
        "sub.head()"
      ],
      "metadata": {
        "colab": {
          "base_uri": "https://localhost:8080/",
          "height": 206
        },
        "id": "8EtSuFbd52aJ",
        "outputId": "f71910d8-a869-4db7-8fdd-2a60f7a5abbc"
      },
      "execution_count": 89,
      "outputs": [
        {
          "output_type": "execute_result",
          "data": {
            "text/plain": [
              "      ID  price\n",
              "0    845    NaN\n",
              "1   1924    NaN\n",
              "2  10718    NaN\n",
              "3  12076    NaN\n",
              "4  12254    NaN"
            ],
            "text/html": [
              "\n",
              "\n",
              "  <div id=\"df-59e6146c-77bd-465d-9b44-671a487aadaa\">\n",
              "    <div class=\"colab-df-container\">\n",
              "      <div>\n",
              "<style scoped>\n",
              "    .dataframe tbody tr th:only-of-type {\n",
              "        vertical-align: middle;\n",
              "    }\n",
              "\n",
              "    .dataframe tbody tr th {\n",
              "        vertical-align: top;\n",
              "    }\n",
              "\n",
              "    .dataframe thead th {\n",
              "        text-align: right;\n",
              "    }\n",
              "</style>\n",
              "<table border=\"1\" class=\"dataframe\">\n",
              "  <thead>\n",
              "    <tr style=\"text-align: right;\">\n",
              "      <th></th>\n",
              "      <th>ID</th>\n",
              "      <th>price</th>\n",
              "    </tr>\n",
              "  </thead>\n",
              "  <tbody>\n",
              "    <tr>\n",
              "      <th>0</th>\n",
              "      <td>845</td>\n",
              "      <td>NaN</td>\n",
              "    </tr>\n",
              "    <tr>\n",
              "      <th>1</th>\n",
              "      <td>1924</td>\n",
              "      <td>NaN</td>\n",
              "    </tr>\n",
              "    <tr>\n",
              "      <th>2</th>\n",
              "      <td>10718</td>\n",
              "      <td>NaN</td>\n",
              "    </tr>\n",
              "    <tr>\n",
              "      <th>3</th>\n",
              "      <td>12076</td>\n",
              "      <td>NaN</td>\n",
              "    </tr>\n",
              "    <tr>\n",
              "      <th>4</th>\n",
              "      <td>12254</td>\n",
              "      <td>NaN</td>\n",
              "    </tr>\n",
              "  </tbody>\n",
              "</table>\n",
              "</div>\n",
              "      <button class=\"colab-df-convert\" onclick=\"convertToInteractive('df-59e6146c-77bd-465d-9b44-671a487aadaa')\"\n",
              "              title=\"Convert this dataframe to an interactive table.\"\n",
              "              style=\"display:none;\">\n",
              "\n",
              "  <svg xmlns=\"http://www.w3.org/2000/svg\" height=\"24px\"viewBox=\"0 0 24 24\"\n",
              "       width=\"24px\">\n",
              "    <path d=\"M0 0h24v24H0V0z\" fill=\"none\"/>\n",
              "    <path d=\"M18.56 5.44l.94 2.06.94-2.06 2.06-.94-2.06-.94-.94-2.06-.94 2.06-2.06.94zm-11 1L8.5 8.5l.94-2.06 2.06-.94-2.06-.94L8.5 2.5l-.94 2.06-2.06.94zm10 10l.94 2.06.94-2.06 2.06-.94-2.06-.94-.94-2.06-.94 2.06-2.06.94z\"/><path d=\"M17.41 7.96l-1.37-1.37c-.4-.4-.92-.59-1.43-.59-.52 0-1.04.2-1.43.59L10.3 9.45l-7.72 7.72c-.78.78-.78 2.05 0 2.83L4 21.41c.39.39.9.59 1.41.59.51 0 1.02-.2 1.41-.59l7.78-7.78 2.81-2.81c.8-.78.8-2.07 0-2.86zM5.41 20L4 18.59l7.72-7.72 1.47 1.35L5.41 20z\"/>\n",
              "  </svg>\n",
              "      </button>\n",
              "\n",
              "\n",
              "\n",
              "    <div id=\"df-ce462b27-81a2-462b-8b31-7466c8229e8f\">\n",
              "      <button class=\"colab-df-quickchart\" onclick=\"quickchart('df-ce462b27-81a2-462b-8b31-7466c8229e8f')\"\n",
              "              title=\"Suggest charts.\"\n",
              "              style=\"display:none;\">\n",
              "\n",
              "<svg xmlns=\"http://www.w3.org/2000/svg\" height=\"24px\"viewBox=\"0 0 24 24\"\n",
              "     width=\"24px\">\n",
              "    <g>\n",
              "        <path d=\"M19 3H5c-1.1 0-2 .9-2 2v14c0 1.1.9 2 2 2h14c1.1 0 2-.9 2-2V5c0-1.1-.9-2-2-2zM9 17H7v-7h2v7zm4 0h-2V7h2v10zm4 0h-2v-4h2v4z\"/>\n",
              "    </g>\n",
              "</svg>\n",
              "      </button>\n",
              "    </div>\n",
              "\n",
              "<style>\n",
              "  .colab-df-quickchart {\n",
              "    background-color: #E8F0FE;\n",
              "    border: none;\n",
              "    border-radius: 50%;\n",
              "    cursor: pointer;\n",
              "    display: none;\n",
              "    fill: #1967D2;\n",
              "    height: 32px;\n",
              "    padding: 0 0 0 0;\n",
              "    width: 32px;\n",
              "  }\n",
              "\n",
              "  .colab-df-quickchart:hover {\n",
              "    background-color: #E2EBFA;\n",
              "    box-shadow: 0px 1px 2px rgba(60, 64, 67, 0.3), 0px 1px 3px 1px rgba(60, 64, 67, 0.15);\n",
              "    fill: #174EA6;\n",
              "  }\n",
              "\n",
              "  [theme=dark] .colab-df-quickchart {\n",
              "    background-color: #3B4455;\n",
              "    fill: #D2E3FC;\n",
              "  }\n",
              "\n",
              "  [theme=dark] .colab-df-quickchart:hover {\n",
              "    background-color: #434B5C;\n",
              "    box-shadow: 0px 1px 3px 1px rgba(0, 0, 0, 0.15);\n",
              "    filter: drop-shadow(0px 1px 2px rgba(0, 0, 0, 0.3));\n",
              "    fill: #FFFFFF;\n",
              "  }\n",
              "</style>\n",
              "\n",
              "    <script>\n",
              "      async function quickchart(key) {\n",
              "        const containerElement = document.querySelector('#' + key);\n",
              "        const charts = await google.colab.kernel.invokeFunction(\n",
              "            'suggestCharts', [key], {});\n",
              "      }\n",
              "    </script>\n",
              "\n",
              "      <script>\n",
              "\n",
              "function displayQuickchartButton(domScope) {\n",
              "  let quickchartButtonEl =\n",
              "    domScope.querySelector('#df-ce462b27-81a2-462b-8b31-7466c8229e8f button.colab-df-quickchart');\n",
              "  quickchartButtonEl.style.display =\n",
              "    google.colab.kernel.accessAllowed ? 'block' : 'none';\n",
              "}\n",
              "\n",
              "        displayQuickchartButton(document);\n",
              "      </script>\n",
              "      <style>\n",
              "    .colab-df-container {\n",
              "      display:flex;\n",
              "      flex-wrap:wrap;\n",
              "      gap: 12px;\n",
              "    }\n",
              "\n",
              "    .colab-df-convert {\n",
              "      background-color: #E8F0FE;\n",
              "      border: none;\n",
              "      border-radius: 50%;\n",
              "      cursor: pointer;\n",
              "      display: none;\n",
              "      fill: #1967D2;\n",
              "      height: 32px;\n",
              "      padding: 0 0 0 0;\n",
              "      width: 32px;\n",
              "    }\n",
              "\n",
              "    .colab-df-convert:hover {\n",
              "      background-color: #E2EBFA;\n",
              "      box-shadow: 0px 1px 2px rgba(60, 64, 67, 0.3), 0px 1px 3px 1px rgba(60, 64, 67, 0.15);\n",
              "      fill: #174EA6;\n",
              "    }\n",
              "\n",
              "    [theme=dark] .colab-df-convert {\n",
              "      background-color: #3B4455;\n",
              "      fill: #D2E3FC;\n",
              "    }\n",
              "\n",
              "    [theme=dark] .colab-df-convert:hover {\n",
              "      background-color: #434B5C;\n",
              "      box-shadow: 0px 1px 3px 1px rgba(0, 0, 0, 0.15);\n",
              "      filter: drop-shadow(0px 1px 2px rgba(0, 0, 0, 0.3));\n",
              "      fill: #FFFFFF;\n",
              "    }\n",
              "  </style>\n",
              "\n",
              "      <script>\n",
              "        const buttonEl =\n",
              "          document.querySelector('#df-59e6146c-77bd-465d-9b44-671a487aadaa button.colab-df-convert');\n",
              "        buttonEl.style.display =\n",
              "          google.colab.kernel.accessAllowed ? 'block' : 'none';\n",
              "\n",
              "        async function convertToInteractive(key) {\n",
              "          const element = document.querySelector('#df-59e6146c-77bd-465d-9b44-671a487aadaa');\n",
              "          const dataTable =\n",
              "            await google.colab.kernel.invokeFunction('convertToInteractive',\n",
              "                                                     [key], {});\n",
              "          if (!dataTable) return;\n",
              "\n",
              "          const docLinkHtml = 'Like what you see? Visit the ' +\n",
              "            '<a target=\"_blank\" href=https://colab.research.google.com/notebooks/data_table.ipynb>data table notebook</a>'\n",
              "            + ' to learn more about interactive tables.';\n",
              "          element.innerHTML = '';\n",
              "          dataTable['output_type'] = 'display_data';\n",
              "          await google.colab.output.renderOutput(dataTable, element);\n",
              "          const docLink = document.createElement('div');\n",
              "          docLink.innerHTML = docLinkHtml;\n",
              "          element.appendChild(docLink);\n",
              "        }\n",
              "      </script>\n",
              "    </div>\n",
              "  </div>\n"
            ]
          },
          "metadata": {},
          "execution_count": 89
        }
      ]
    },
    {
      "cell_type": "code",
      "source": [
        "sub['price'] =  np.mean(fold_pred_ctb, axis = 0)"
      ],
      "metadata": {
        "id": "GeywkNbAsYwb"
      },
      "execution_count": 90,
      "outputs": []
    },
    {
      "cell_type": "code",
      "source": [
        "sub['price'].head()"
      ],
      "metadata": {
        "colab": {
          "base_uri": "https://localhost:8080/"
        },
        "id": "N5QVW3eU6BK3",
        "outputId": "b352166d-2f65-4484-b6a5-3f0c5459c9b5"
      },
      "execution_count": 91,
      "outputs": [
        {
          "output_type": "execute_result",
          "data": {
            "text/plain": [
              "0   NaN\n",
              "1   NaN\n",
              "2   NaN\n",
              "3   NaN\n",
              "4   NaN\n",
              "Name: price, dtype: float64"
            ]
          },
          "metadata": {},
          "execution_count": 91
        }
      ]
    },
    {
      "cell_type": "code",
      "source": [
        "sub.to_csv('sub2_ctb.csv', index=False)"
      ],
      "metadata": {
        "id": "-pY0Q4ass2xk"
      },
      "execution_count": 88,
      "outputs": []
    }
  ],
  "metadata": {
    "kernelspec": {
      "display_name": "base",
      "language": "python",
      "name": "python3"
    },
    "language_info": {
      "codemirror_mode": {
        "name": "ipython",
        "version": 3
      },
      "file_extension": ".py",
      "mimetype": "text/x-python",
      "name": "python",
      "nbconvert_exporter": "python",
      "pygments_lexer": "ipython3",
      "version": "3.9.12"
    },
    "orig_nbformat": 4,
    "colab": {
      "provenance": []
    }
  },
  "nbformat": 4,
  "nbformat_minor": 0
}